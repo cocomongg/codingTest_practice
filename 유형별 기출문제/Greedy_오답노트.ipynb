{
 "cells": [
  {
   "cell_type": "markdown",
   "id": "eligible-flavor",
   "metadata": {},
   "source": [
    " ## 문제 1. 모험가 길드 (X, 다시풀기)"
   ]
  },
  {
   "cell_type": "code",
   "execution_count": 1,
   "id": "level-uzbekistan",
   "metadata": {},
   "outputs": [
    {
     "name": "stdout",
     "output_type": "stream",
     "text": [
      "5\n",
      "2 3 1 2 2\n",
      "2\n"
     ]
    }
   ],
   "source": [
    "# 포인트: 그룹수의 최대값이므로 공포도를 낮은 것부터 확인.\n",
    "n = int(input())\n",
    "data = list(map(int, input().split()))\n",
    "data.sort()\n",
    "\n",
    "result = 0 # 총 그룹의 수\n",
    "count = 0 # 현재 그룹에 포함된 모험가의 수\n",
    "\n",
    "for i in data: # 최대 그룹이므로 공포도를 낮은 것부터 확인하는게 포인트\n",
    "    count += 1\n",
    "    \n",
    "    if count >= i: \n",
    "        result += 1\n",
    "        count = 0\n",
    "        \n",
    "print(result)"
   ]
  },
  {
   "cell_type": "markdown",
   "id": "together-adoption",
   "metadata": {},
   "source": [
    "## 문제 3. 문자열 뒤집기 (X, 다시풀기)"
   ]
  },
  {
   "cell_type": "code",
   "execution_count": 2,
   "id": "joined-college",
   "metadata": {},
   "outputs": [
    {
     "name": "stdout",
     "output_type": "stream",
     "text": [
      "0001100\n",
      "1\n"
     ]
    }
   ],
   "source": [
    "#포인트: 전부 0으로 바꾸는 경우와 전부 1로 바꾸는 경우 중에서 더 작은 횟수를 가지는 경우 찾기\n",
    "# 맨처음에는 연속적인 것을 어떻게 찾지라는 의문이 들었는데 예시 답안은 연속적이지 않을 때를 찾는 방법이였다.\n",
    "# 다음에는 반대로도 생각해봐야겠다.\n",
    "\n",
    "data = input()\n",
    "\n",
    "count0 = 0 # 전부 0으로 바꾸는 경우\n",
    "count1 = 1 # 전부 1로 바꾸는 경우\n",
    "\n",
    "if data[0] == '1':\n",
    "    count0 += 1\n",
    "else:\n",
    "    count1 += 0\n",
    "    \n",
    "for i in range(len(data) - 1):\n",
    "    if data[i] != data[i+1]: #연속적이지 않을 때\n",
    "\n",
    "        # 0 -> 1로 바뀔 때\n",
    "        if data[i+1] == '1': \n",
    "            count0 += 1\n",
    "        # 1 -> 0 으로 바뀔 때\n",
    "        else:    \n",
    "            count1 += 1\n",
    "            \n",
    "print(min(count0, count1))\n",
    "    "
   ]
  }
 ],
 "metadata": {
  "kernelspec": {
   "display_name": "Python 3",
   "language": "python",
   "name": "python3"
  },
  "language_info": {
   "codemirror_mode": {
    "name": "ipython",
    "version": 3
   },
   "file_extension": ".py",
   "mimetype": "text/x-python",
   "name": "python",
   "nbconvert_exporter": "python",
   "pygments_lexer": "ipython3",
   "version": "3.6.9"
  }
 },
 "nbformat": 4,
 "nbformat_minor": 5
}
