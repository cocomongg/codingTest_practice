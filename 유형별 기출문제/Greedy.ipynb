{
 "cells": [
  {
   "cell_type": "markdown",
   "id": "stupid-literacy",
   "metadata": {},
   "source": [
    "## 문제1. 모험가 길드 (X)"
   ]
  },
  {
   "cell_type": "code",
   "execution_count": null,
   "id": "military-entrance",
   "metadata": {},
   "outputs": [],
   "source": [
    "n = int(input())\n",
    "data = list(map(int, input().split()))\n",
    "data.sort()\n",
    "\n",
    "result = 0\n",
    "count = 0\n",
    "\n",
    "for i in data:\n",
    "    count += 1\n",
    "    if count >= i:\n",
    "        result += 1\n",
    "        count = 0\n",
    "        \n",
    "print(group_result)        "
   ]
  },
  {
   "cell_type": "markdown",
   "id": "auburn-check",
   "metadata": {},
   "source": [
    "## 문제2. 곱하기 혹은 더하기 (O)"
   ]
  },
  {
   "cell_type": "code",
   "execution_count": null,
   "id": "portable-current",
   "metadata": {},
   "outputs": [],
   "source": [
    "s = list(map(int, input()))\n",
    "result = s[0]\n",
    "\n",
    "for i in range(1, len(s)):\n",
    "    if result < 2 or s[i] < 2:\n",
    "        result += s[i]\n",
    "    else:\n",
    "        result *= s[i]\n",
    "\n",
    "print(result)\n",
    "        "
   ]
  },
  {
   "cell_type": "markdown",
   "id": "regulation-cradle",
   "metadata": {},
   "source": [
    "## 문제3. 문자열 뒤집기 (O)"
   ]
  },
  {
   "cell_type": "code",
   "execution_count": null,
   "id": "lesbian-ready",
   "metadata": {},
   "outputs": [],
   "source": [
    "s = list(map(int, input()))\n",
    "s.sort()\n",
    "\n",
    "first_1_index = 0\n",
    "result = 0\n",
    "\n",
    "while len(list(set(s))) != 1:\n",
    "    first_1_index = s.index(1)\n",
    "    \n",
    "    if first_1_index <= len(s)//2:\n",
    "        for i in range(first_1_index):\n",
    "            s[i] = 1\n",
    "        result += 1\n",
    "    \n",
    "    else:\n",
    "        for i in range(first_1_index, len(s)):\n",
    "            s[i] = 0\n",
    "        result += 1\n",
    "        \n",
    "print(result) "
   ]
  },
  {
   "cell_type": "code",
   "execution_count": null,
   "id": "illegal-right",
   "metadata": {},
   "outputs": [],
   "source": [
    "# A03.py 답안 예시\n",
    "# 전부 0으로 바꾸는 경우와 전부 1로 바꾸는 경우 중에서 더 적은 횟수를 가지는 경우를 계산\n",
    "\n",
    "data = input()\n",
    "count0 = 0 #전부 0으로 바꾸는 경우\n",
    "count1 = 0 #전부 1로 바꾸는 경우\n",
    "\n",
    "if data[0] == '1':\n",
    "    count0 += 1\n",
    "else:\n",
    "    count1 += 1\n",
    "    \n",
    "#두 번째 원소부터 모든 원소를 확인하며\n",
    "for i in range(len(data) - 1):\n",
    "    if data[i] != data[i+1]:\n",
    "        \n",
    "        #다음 수에서 1로 바뀌는 경우\n",
    "        if data[i+1] == '1':\n",
    "            count0 += 1\n",
    "        \n",
    "        #다음 수에서 0으로 바뀌는 경우\n",
    "        else:\n",
    "            count1 += 1\n",
    "\n",
    "print(min(count0, count1))"
   ]
  },
  {
   "cell_type": "markdown",
   "id": "endless-biotechnology",
   "metadata": {},
   "source": [
    "## 문제4. 만들 수 없는 금액 (O)"
   ]
  },
  {
   "cell_type": "code",
   "execution_count": null,
   "id": "equipped-worker",
   "metadata": {},
   "outputs": [],
   "source": [
    "import itertools\n",
    "\n",
    "n = int(input())\n",
    "coin = list(map(int, input().split()))\n",
    "\n",
    "length = sum(coin)\n",
    "price = [0] * (length+1)\n",
    "price[0] = 1\n",
    "\n",
    "for i in range(1, length):\n",
    "    ncr = list(itertools.combinations(coin, i))\n",
    "    for j in ncr:\n",
    "        a = sum(j)\n",
    "        price[a] = 1\n",
    "\n",
    "if 0 in price:\n",
    "    result = price.index(0)\n",
    "else:\n",
    "    result = length+1\n",
    "print(result)"
   ]
  },
  {
   "cell_type": "code",
   "execution_count": null,
   "id": "separated-correction",
   "metadata": {},
   "outputs": [],
   "source": [
    "# A04.py 답안 예시\n",
    "\n",
    "n = int(input())\n",
    "data = list(map(int, input().split()))\n",
    "\n",
    "start = time.time() \n",
    "data.sort()\n",
    "\n",
    "target = 1\n",
    "\n",
    "for x in data:\n",
    "    #만들 수 없는 금액을 찾았을 때 반복 종료\n",
    "    if target < x:\n",
    "        break\n",
    "    target += x\n",
    "\n",
    "#만들 수 없는 금액 출력\n",
    "print(target)"
   ]
  },
  {
   "cell_type": "markdown",
   "id": "stylish-awareness",
   "metadata": {},
   "source": [
    "## 문제5. 볼링공 고르기 (O)"
   ]
  },
  {
   "cell_type": "code",
   "execution_count": null,
   "id": "vocal-screening",
   "metadata": {},
   "outputs": [],
   "source": [
    "n, m = map(int, input().split())\n",
    "k = list(map(int, input().split()))\n",
    "\n",
    "result = 0\n",
    "for i in range(n):\n",
    "    for j in range(i, n):\n",
    "        if k[i] != k[j]:\n",
    "            result += 1\n",
    "            \n",
    "print(result)"
   ]
  },
  {
   "cell_type": "code",
   "execution_count": null,
   "id": "democratic-quarter",
   "metadata": {},
   "outputs": [],
   "source": [
    "# A05.py 답안 예시\n",
    "n, m = map(int, input().split())\n",
    "data = list(map(int, input().split()))\n",
    "\n",
    "# 1부터 10까지의 무게를 담을 수 있는 리스트\n",
    "array = [0] * 11\n",
    "\n",
    "for x in data:\n",
    "    #각 무게에 해당하는 볼링공의 개수 카운트\n",
    "    array[x] += 1\n",
    "\n",
    "result = 0\n",
    "#1부터 m까지의 각 무게에 대하여 처리\n",
    "for i in range(1, m+1):\n",
    "    n -= array[i] #무게가 i인 볼링공의 개수(A가 선택할 수 있는 개수) 제외\n",
    "    result += array[i] * n #B가 선택하는 경우의 수와 곱하기\n",
    "    \n",
    "print(result)"
   ]
  }
 ],
 "metadata": {
  "kernelspec": {
   "display_name": "Python 3",
   "language": "python",
   "name": "python3"
  },
  "language_info": {
   "codemirror_mode": {
    "name": "ipython",
    "version": 3
   },
   "file_extension": ".py",
   "mimetype": "text/x-python",
   "name": "python",
   "nbconvert_exporter": "python",
   "pygments_lexer": "ipython3",
   "version": "3.6.9"
  }
 },
 "nbformat": 4,
 "nbformat_minor": 5
}
