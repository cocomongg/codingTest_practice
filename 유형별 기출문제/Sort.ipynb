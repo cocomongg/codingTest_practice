{
 "cells": [
  {
   "cell_type": "markdown",
   "id": "entitled-museum",
   "metadata": {},
   "source": [
    "## 문제 23. 국영수"
   ]
  },
  {
   "cell_type": "code",
   "execution_count": null,
   "id": "international-height",
   "metadata": {},
   "outputs": [],
   "source": [
    "n = int(input())\n",
    "students = []\n",
    "for i in range(n):\n",
    "    students.append(input().split())\n",
    "    for j in range(1, 4):\n",
    "        students[i][j] = int(students[i][j])\n",
    "\n",
    "students.sort(key=lambda x: (-x[1], x[2], -x[3], x[0]))\n",
    "        \n",
    "for i in students:\n",
    "    name, a, b, c = i\n",
    "    print(name)"
   ]
  },
  {
   "cell_type": "markdown",
   "id": "sophisticated-florida",
   "metadata": {},
   "source": [
    "## 문제 24. 안테나 (O)"
   ]
  },
  {
   "cell_type": "code",
   "execution_count": null,
   "id": "royal-hydrogen",
   "metadata": {},
   "outputs": [],
   "source": [
    "n = int(input())\n",
    "home = list(map(int,input().split()))\n",
    "home.sort()\n",
    "\n",
    "if len(home) % 2 == 0:\n",
    "    sums = []\n",
    "    for i in range(2):\n",
    "        mid = len(home)//2 - i\n",
    "        sum = 0\n",
    "        for i in home:\n",
    "            sum += abs(i - home[mid])\n",
    "        sums.append((sum, home[mid]))\n",
    "    sums.sort()\n",
    "    result = sums[0][1]\n",
    "else:\n",
    "    result = home[len(home)//2]\n",
    "\n",
    "    \n",
    "print(result)\n",
    "    "
   ]
  },
  {
   "cell_type": "markdown",
   "id": "external-ghana",
   "metadata": {},
   "source": [
    "## 문제 25. 실패율 (O)"
   ]
  },
  {
   "cell_type": "code",
   "execution_count": null,
   "id": "blind-carrier",
   "metadata": {},
   "outputs": [],
   "source": [
    "def solution(N, stages):\n",
    "    answer = []\n",
    "    result = []\n",
    "    count = [0] * (max(stages) + 1)\n",
    "    \n",
    "    for i in range(len(stages)):\n",
    "        count[stages[i]] += 1\n",
    "    \n",
    "    for i in range(1, N+1):\n",
    "        if sum(count[i:]) == 0:\n",
    "            fail_rate = 0\n",
    "        else:\n",
    "            fail_rate = count[i] / sum(count[i:])\n",
    "        result.append((fail_rate, i))\n",
    "        \n",
    "    result.sort(key=lambda x: (-x[0], x[1]))\n",
    "    \n",
    "    for i in range(len(result)):\n",
    "        answer.append(result[i][1])\n",
    "    \n",
    "    return answer"
   ]
  },
  {
   "cell_type": "markdown",
   "id": "north-observation",
   "metadata": {},
   "source": [
    "## 문제 26. 카드 정렬하기"
   ]
  },
  {
   "cell_type": "code",
   "execution_count": 8,
   "id": "seasonal-sugar",
   "metadata": {},
   "outputs": [
    {
     "name": "stdout",
     "output_type": "stream",
     "text": [
      "3\n",
      "10\n",
      "20\n",
      "40\n",
      "50\n",
      "100\n",
      "\n"
     ]
    },
    {
     "ename": "ValueError",
     "evalue": "invalid literal for int() with base 10: ''",
     "output_type": "error",
     "traceback": [
      "\u001b[0;31m---------------------------------------------------------------------------\u001b[0m",
      "\u001b[0;31mValueError\u001b[0m                                Traceback (most recent call last)",
      "\u001b[0;32m<ipython-input-8-49c4023d54c0>\u001b[0m in \u001b[0;36m<module>\u001b[0;34m\u001b[0m\n\u001b[1;32m      8\u001b[0m     \u001b[0mdata\u001b[0m \u001b[0;34m=\u001b[0m \u001b[0mint\u001b[0m\u001b[0;34m(\u001b[0m\u001b[0minput\u001b[0m\u001b[0;34m(\u001b[0m\u001b[0;34m)\u001b[0m\u001b[0;34m)\u001b[0m\u001b[0;34m\u001b[0m\u001b[0;34m\u001b[0m\u001b[0m\n\u001b[1;32m      9\u001b[0m     \u001b[0mheapq\u001b[0m\u001b[0;34m.\u001b[0m\u001b[0mheappush\u001b[0m\u001b[0;34m(\u001b[0m\u001b[0mheap\u001b[0m\u001b[0;34m,\u001b[0m \u001b[0mdata\u001b[0m\u001b[0;34m)\u001b[0m\u001b[0;34m\u001b[0m\u001b[0;34m\u001b[0m\u001b[0m\n\u001b[0;32m---> 10\u001b[0;31m     \u001b[0mbundle\u001b[0m\u001b[0;34m.\u001b[0m\u001b[0mappend\u001b[0m\u001b[0;34m(\u001b[0m\u001b[0mint\u001b[0m\u001b[0;34m(\u001b[0m\u001b[0minput\u001b[0m\u001b[0;34m(\u001b[0m\u001b[0;34m)\u001b[0m\u001b[0;34m)\u001b[0m\u001b[0;34m)\u001b[0m\u001b[0;34m\u001b[0m\u001b[0;34m\u001b[0m\u001b[0m\n\u001b[0m\u001b[1;32m     11\u001b[0m \u001b[0;34m\u001b[0m\u001b[0m\n\u001b[1;32m     12\u001b[0m \u001b[0mresult\u001b[0m \u001b[0;34m=\u001b[0m \u001b[0;36m0\u001b[0m\u001b[0;34m\u001b[0m\u001b[0;34m\u001b[0m\u001b[0m\n",
      "\u001b[0;31mValueError\u001b[0m: invalid literal for int() with base 10: ''"
     ]
    }
   ],
   "source": [
    "# 매 상황에서 가장 작은 크기의 두 카드 묶음을 꺼내서 이를 합친 뒤에 다시 리스트에 삽입하는 과정\n",
    "import heapq #우선순위 큐 이용\n",
    "\n",
    "n = int(input())\n",
    "\n",
    "heap = []\n",
    "for i in range(n):\n",
    "    data = int(input())\n",
    "    heapq.heappush(heap, data)\n",
    "\n",
    "result = 0\n",
    "\n",
    "#힙(Heap)원소가 1개 남을 때까지\n",
    "while len(heap) != 1:\n",
    "    #가장 작은 2개의 카드 묶음 꺼내기\n",
    "    one = heapq.heappop(heap)\n",
    "    two = heapq.heappop(heap)\n",
    "    \n",
    "    #카드 묶음을 합쳐서 다시 삽입\n",
    "    sum_value = one + two\n",
    "    result += sum_value\n",
    "    heapq.heappush(heap, sum_value)\n",
    "\n",
    "print(result)"
   ]
  }
 ],
 "metadata": {
  "kernelspec": {
   "display_name": "Python 3",
   "language": "python",
   "name": "python3"
  },
  "language_info": {
   "codemirror_mode": {
    "name": "ipython",
    "version": 3
   },
   "file_extension": ".py",
   "mimetype": "text/x-python",
   "name": "python",
   "nbconvert_exporter": "python",
   "pygments_lexer": "ipython3",
   "version": "3.6.9"
  }
 },
 "nbformat": 4,
 "nbformat_minor": 5
}
