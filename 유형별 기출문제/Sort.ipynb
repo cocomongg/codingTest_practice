{
 "cells": [
  {
   "cell_type": "markdown",
   "id": "weighted-grove",
   "metadata": {},
   "source": [
    "## 문제 23. 국영수"
   ]
  },
  {
   "cell_type": "code",
   "execution_count": null,
   "id": "instructional-conjunction",
   "metadata": {},
   "outputs": [],
   "source": [
    "n = int(input())\n",
    "students = []\n",
    "for i in range(n):\n",
    "    students.append(input().split())\n",
    "    for j in range(1, 4):\n",
    "        students[i][j] = int(students[i][j])\n",
    "\n",
    "students.sort(key=lambda x: (-x[1], x[2], -x[3], x[0]))\n",
    "        \n",
    "for i in students:\n",
    "    name, a, b, c = i\n",
    "    print(name)"
   ]
  }
 ],
 "metadata": {
  "kernelspec": {
   "display_name": "Python 3",
   "language": "python",
   "name": "python3"
  },
  "language_info": {
   "codemirror_mode": {
    "name": "ipython",
    "version": 3
   },
   "file_extension": ".py",
   "mimetype": "text/x-python",
   "name": "python",
   "nbconvert_exporter": "python",
   "pygments_lexer": "ipython3",
   "version": "3.6.9"
  }
 },
 "nbformat": 4,
 "nbformat_minor": 5
}
