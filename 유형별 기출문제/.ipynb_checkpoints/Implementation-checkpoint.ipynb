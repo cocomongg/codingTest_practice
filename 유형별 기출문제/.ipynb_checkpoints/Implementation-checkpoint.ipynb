{
 "cells": [
  {
   "cell_type": "markdown",
   "id": "statistical-organization",
   "metadata": {},
   "source": [
    "## 문제 7. 럭키 스트레이트(O)"
   ]
  },
  {
   "cell_type": "code",
   "execution_count": null,
   "id": "absolute-satin",
   "metadata": {},
   "outputs": [],
   "source": [
    "n = input()\n",
    "result = \"\"\n",
    "\n",
    "n_int = list(map(int, n))\n",
    "\n",
    "mid_index = int(len(n_int) / 2)\n",
    "\n",
    "if sum(n_int[:mid_index]) == sum(n_int[mid_index:]):\n",
    "    result = \"LUCKY\"\n",
    "else:\n",
    "    result = \"READY\"\n",
    "    \n",
    "print(result)"
   ]
  },
  {
   "cell_type": "code",
   "execution_count": null,
   "id": "patient-doctrine",
   "metadata": {},
   "outputs": [],
   "source": [
    "# A07.py 답안 예시\n",
    "n = input()\n",
    "length = len(n)\n",
    "summary = 0\n",
    "\n",
    "# 왼쪽 부분의 자릿수 합 더하기\n",
    "for i in range(length // 2):\n",
    "    summary += int(n[i])\n",
    "\n",
    "# 오른족 부분의 자릿수 합 빼기\n",
    "for i in range(length//2, length):\n",
    "    summary -= int(n[i])\n",
    "    \n",
    "# 왼쪽 부분과 오른쪽 부분의 자릿수 합이 동일한지 검사\n",
    "if summary == 0:\n",
    "    print(\"LUCKY\")\n",
    "else:\n",
    "    print(\"READY\")"
   ]
  },
  {
   "cell_type": "markdown",
   "id": "double-million",
   "metadata": {},
   "source": [
    "## 문제 8. 문자열 재정렬 (O)"
   ]
  },
  {
   "cell_type": "code",
   "execution_count": null,
   "id": "loaded-robinson",
   "metadata": {},
   "outputs": [],
   "source": [
    "s = input()\n",
    "result = \"\"\n",
    "\n",
    "s = list(s)\n",
    "s.sort()\n",
    "\n",
    "sum_num = 0\n",
    "\n",
    "for i in range(len(s)):\n",
    "    check = 0\n",
    "    \n",
    "    for j in range(48, 58):\n",
    "        if s[i] == chr(j):\n",
    "            check = 1\n",
    "            sum_num += int(s[i])\n",
    "            break\n",
    "            \n",
    "    if check == 0:\n",
    "        result += s[i]\n",
    "    \n",
    "result += str(sum_num)\n",
    "print(result)            "
   ]
  },
  {
   "cell_type": "code",
   "execution_count": null,
   "id": "limited-rescue",
   "metadata": {},
   "outputs": [],
   "source": [
    "# A08.py 답안 예시\n",
    "data = input()\n",
    "result = []\n",
    "value = 0\n",
    "\n",
    "# 문자를 하나씩 확인\n",
    "for x in data:\n",
    "    if x.isalpha(): # isalpha(): 파이썬 문자열 함수, 알파벳인지 아닌지 알려줌\n",
    "        result.append(x)\n",
    "    else: # 숫자면 더하기\n",
    "        value += int(x)\n",
    "        \n",
    "result.sort()\n",
    "\n",
    "#숫자가 있으면 가장 뒤에 삽입\n",
    "if value != 0:\n",
    "    result.append(str(value))\n",
    "    \n",
    "#join()을 통해 list를 문자열으로 변환하여 출력\n",
    "print(''.join(result)) "
   ]
  },
  {
   "cell_type": "markdown",
   "id": "modified-enemy",
   "metadata": {},
   "source": [
    "## 문제 9. 문자열 압축 (O)"
   ]
  },
  {
   "cell_type": "code",
   "execution_count": null,
   "id": "fatal-musician",
   "metadata": {},
   "outputs": [],
   "source": [
    "s = input()\n",
    "\n",
    "length = len(s)\n",
    "string = \"\"\n",
    "index = 0\n",
    "result = length\n",
    "\n",
    "for i in range(1, length // 2 + 1): #압축 단위 \n",
    "\n",
    "    string = s[:i]\n",
    "    index = i\n",
    "    count = 1\n",
    "    compressed = \"\"\n",
    "    \n",
    "    while True:\n",
    "        if index > length+1:\n",
    "            compressed += s[(index-i):]\n",
    "            break\n",
    "        \n",
    "        if string == s[index:index+i]:\n",
    "            count += 1\n",
    "\n",
    "        else:\n",
    "            if count == 1:\n",
    "                compressed += string\n",
    "            else:\n",
    "                str_count = str(count)\n",
    "                compressed += str_count + string\n",
    "            count = 1\n",
    "        \n",
    "        \n",
    "        string = s[index:index+i]\n",
    "        index = index + i    \n",
    "\n",
    "    result = min(result, len(compressed))\n",
    "    \n",
    "print(result)"
   ]
  },
  {
   "cell_type": "code",
   "execution_count": null,
   "id": "military-moisture",
   "metadata": {},
   "outputs": [],
   "source": [
    "#A09.py 답안예시\n",
    "\n",
    "s = input()\n",
    "answer = len(s)\n",
    "\n",
    "# 1개 단위(step)부터 압축 단위를 늘려가며 확인\n",
    "for step in range(1, len(s)//2 + 1):\n",
    "    compressed=\"\"\n",
    "    prev = s[0:step] #앞에서부터 step 만큼의 문자열 추출\n",
    "    count = 1\n",
    "    \n",
    "    #단위(step) 크기만큼 증가시키며 이전 문자열과 비교\n",
    "    for j in range(step, len(s), step):\n",
    "        #이전 상태와 동일하다면 압축 횟수(count) 증가\n",
    "        if prev == s[j:j + step]:\n",
    "            count += 1\n",
    "        \n",
    "        #다른 문자열이 나왔다면(더 이상 압축하지 못하는 경우)\n",
    "        else:\n",
    "            compressed += str(count) + prev if count >= 2 else prev\n",
    "            prev = s[j:j+step] #다시 상태 초기화\n",
    "            count = 1\n",
    "            \n",
    "    #남아 있는 문자열에 대해서 처리\n",
    "    compressed += str(count) + prev if count >= 2 else prev\n",
    "        \n",
    "    #만들어지는 압축 문자열이 가장 짧은 것이 정답\n",
    "    answer = min(answer, len(compressed))\n",
    "\n",
    "print(answer)"
   ]
  }
 ],
 "metadata": {
  "kernelspec": {
   "display_name": "Python 3",
   "language": "python",
   "name": "python3"
  },
  "language_info": {
   "codemirror_mode": {
    "name": "ipython",
    "version": 3
   },
   "file_extension": ".py",
   "mimetype": "text/x-python",
   "name": "python",
   "nbconvert_exporter": "python",
   "pygments_lexer": "ipython3",
   "version": "3.6.9"
  }
 },
 "nbformat": 4,
 "nbformat_minor": 5
}
