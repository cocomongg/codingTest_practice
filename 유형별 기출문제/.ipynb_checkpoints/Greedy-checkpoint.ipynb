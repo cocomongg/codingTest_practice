{
 "cells": [
  {
   "cell_type": "markdown",
   "id": "stupid-literacy",
   "metadata": {},
   "source": [
    "## 문제1. 모험가 길드 (X)"
   ]
  },
  {
   "cell_type": "code",
   "execution_count": null,
   "id": "military-entrance",
   "metadata": {},
   "outputs": [],
   "source": [
    "n = int(input())\n",
    "data = list(map(int, input().split()))\n",
    "data.sort()\n",
    "\n",
    "result = 0\n",
    "count = 0\n",
    "\n",
    "for i in data:\n",
    "    count += 1\n",
    "    if count >= i:\n",
    "        result += 1\n",
    "        count = 0\n",
    "        \n",
    "print(group_result)        "
   ]
  },
  {
   "cell_type": "markdown",
   "id": "auburn-check",
   "metadata": {},
   "source": [
    "## 문제2. 곱하기 혹은 더하기 (O)"
   ]
  },
  {
   "cell_type": "code",
   "execution_count": null,
   "id": "portable-current",
   "metadata": {},
   "outputs": [],
   "source": [
    "s = list(map(int, input()))\n",
    "result = s[0]\n",
    "\n",
    "for i in range(1, len(s)):\n",
    "    if result < 2 or s[i] < 2:\n",
    "        result += s[i]\n",
    "    else:\n",
    "        result *= s[i]\n",
    "\n",
    "print(result)\n",
    "        "
   ]
  },
  {
   "cell_type": "markdown",
   "id": "regulation-cradle",
   "metadata": {},
   "source": [
    "## 문제3. 문자열 뒤집기 (O)"
   ]
  },
  {
   "cell_type": "code",
   "execution_count": null,
   "id": "lesbian-ready",
   "metadata": {},
   "outputs": [],
   "source": [
    "s = list(map(int, input()))\n",
    "s.sort()\n",
    "\n",
    "first_1_index = 0\n",
    "result = 0\n",
    "\n",
    "while len(list(set(s))) != 1:\n",
    "    first_1_index = s.index(1)\n",
    "    \n",
    "    if first_1_index <= len(s)//2:\n",
    "        for i in range(first_1_index):\n",
    "            s[i] = 1\n",
    "        result += 1\n",
    "    \n",
    "    else:\n",
    "        for i in range(first_1_index, len(s)):\n",
    "            s[i] = 0\n",
    "        result += 1\n",
    "        \n",
    "print(result) "
   ]
  },
  {
   "cell_type": "code",
   "execution_count": null,
   "id": "illegal-right",
   "metadata": {},
   "outputs": [],
   "source": [
    "# 문제3 예시답안\n",
    "# 전부 0으로 바꾸는 경우와 전부 1로 바꾸는 경우 중에서 더 적은 횟수를 가지는 경우를 계산\n",
    "\n",
    "data = input()\n",
    "count0 = 0 #전부 0으로 바꾸는 경우\n",
    "count1 = 0 #전부 1로 바꾸는 경우\n",
    "\n",
    "if data[0] == '1':\n",
    "    count0 += 1\n",
    "else:\n",
    "    count1 += 1\n",
    "    \n",
    "#두 번째 원소부터 모든 원소를 확인하며\n",
    "for i in range(len(data) - 1):\n",
    "    if data[i] != data[i+1]:\n",
    "        \n",
    "        #다음 수에서 1로 바뀌는 경우\n",
    "        if data[i+1] == '1':\n",
    "            count0 += 1\n",
    "        \n",
    "        #다음 수에서 0으로 바뀌는 경우\n",
    "        else:\n",
    "            count1 += 1\n",
    "\n",
    "print(min(count0, count1))"
   ]
  }
 ],
 "metadata": {
  "kernelspec": {
   "display_name": "Python 3",
   "language": "python",
   "name": "python3"
  },
  "language_info": {
   "codemirror_mode": {
    "name": "ipython",
    "version": 3
   },
   "file_extension": ".py",
   "mimetype": "text/x-python",
   "name": "python",
   "nbconvert_exporter": "python",
   "pygments_lexer": "ipython3",
   "version": "3.6.9"
  }
 },
 "nbformat": 4,
 "nbformat_minor": 5
}
