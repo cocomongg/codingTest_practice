{
 "cells": [
  {
   "cell_type": "markdown",
   "id": "super-worcester",
   "metadata": {},
   "source": [
    "## 문제 41. 여행 계획"
   ]
  },
  {
   "cell_type": "code",
   "execution_count": null,
   "id": "requested-idaho",
   "metadata": {},
   "outputs": [],
   "source": [
    "# '여행 계획'에 해당하는 모든 노드가 같은 집합에 속하기만 하면 가능한 여행 경로\n",
    "def find_parent(parent, x):\n",
    "    if parent[x] != x:\n",
    "        parent[x] = find_parent(parent, parent[x])\n",
    "        \n",
    "    return parent[x]\n",
    "    \n",
    "def union_parent(parent, a, b):\n",
    "    a = find_parent(parent, a)\n",
    "    b = find_parent(parent, b)\n",
    "    \n",
    "    if a < b:\n",
    "        parent[b] = a\n",
    "    else:\n",
    "        parent[a] = b\n",
    "    \n",
    "    \n",
    "v, e = map(int, input().split())\n",
    "parent = [0] * (v + 1)\n",
    "\n",
    "for i in range(1, v+1):\n",
    "    parent[i] = i\n",
    "\n",
    "graph = [[] for _ in range(v + 1)]\n",
    "\n",
    "for a in range(1, v+1):\n",
    "    data = list(map(int, input().split()))\n",
    "    graph[a].append(data)\n",
    "    \n",
    "    for i in range(v):\n",
    "        b = data[i]\n",
    "        if b == 1:\n",
    "            union_parent(parent, a, i+1)\n",
    "        \n",
    "plan = list(map(int, input().split()))\n",
    "check = True\n",
    "        \n",
    "for i in range(len(plan)-1):\n",
    "    if find_parent(parent, plan[i]) != find_parent(parent, plan[i+1]):\n",
    "        check = False\n",
    "    \n",
    "if check:\n",
    "    print(\"YES\")\n",
    "else:\n",
    "    print(\"NO\")"
   ]
  },
  {
   "cell_type": "markdown",
   "id": "daily-hometown",
   "metadata": {},
   "source": [
    "## 문제 42. 탑승구"
   ]
  },
  {
   "cell_type": "code",
   "execution_count": null,
   "id": "coordinate-round",
   "metadata": {},
   "outputs": [],
   "source": []
  },
  {
   "cell_type": "markdown",
   "id": "laughing-classroom",
   "metadata": {},
   "source": [
    "## 문제 43. 어두운 길"
   ]
  },
  {
   "cell_type": "code",
   "execution_count": null,
   "id": "figured-touch",
   "metadata": {},
   "outputs": [],
   "source": [
    "def find_parent(parent, x):\n",
    "    if parent[x] != x:\n",
    "        parent[x] = find_parent(parent, parent[x])\n",
    "        \n",
    "    return parent[x]\n",
    "\n",
    "def union_parent(parent, a, b):\n",
    "    a = find_parent(parent, a)\n",
    "    b = find_parent(parent, b)\n",
    "    \n",
    "    if a < b:\n",
    "        parent[b] = a\n",
    "    else:\n",
    "        parent[a] = b\n",
    "\n",
    "v, e = map(int, input().split())\n",
    "\n",
    "parent = [0] * (v + 1)\n",
    "for i in range(1, v+1):\n",
    "    parent[i] = i\n",
    "    \n",
    "edges = []\n",
    "\n",
    "all_cost = 0\n",
    "for _ in range(e):\n",
    "    a, b, cost = map(int, input().split())\n",
    "    edges.append((cost, a, b))\n",
    "    all_cost += cost\n",
    "    \n",
    "edges.sort()\n",
    " \n",
    "sum_cost = 0\n",
    "for edge in edges:\n",
    "    cost, a, b = edge\n",
    "    \n",
    "    if find_parent(parent, a) != find_parent(parent, b):\n",
    "        union_parent(parent, a, b)\n",
    "        sum_cost += cost\n",
    "\n",
    "result = all_cost - sum_cost\n",
    "print(result)"
   ]
  }
 ],
 "metadata": {
  "kernelspec": {
   "display_name": "Python 3",
   "language": "python",
   "name": "python3"
  },
  "language_info": {
   "codemirror_mode": {
    "name": "ipython",
    "version": 3
   },
   "file_extension": ".py",
   "mimetype": "text/x-python",
   "name": "python",
   "nbconvert_exporter": "python",
   "pygments_lexer": "ipython3",
   "version": "3.6.9"
  }
 },
 "nbformat": 4,
 "nbformat_minor": 5
}
