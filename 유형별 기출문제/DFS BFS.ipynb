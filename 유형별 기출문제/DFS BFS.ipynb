{
 "cells": [
  {
   "cell_type": "markdown",
   "id": "better-wheat",
   "metadata": {},
   "source": [
    "## 문제 15. 특정거리의 도시 찾기 (O)"
   ]
  },
  {
   "cell_type": "code",
   "execution_count": null,
   "id": "polar-bolivia",
   "metadata": {},
   "outputs": [],
   "source": [
    "from collections import deque\n",
    "\n",
    "n, m, k, start = map(int, input().split())\n",
    "graph = [[] for _ in range(n+1)]\n",
    "\n",
    "for _ in range(m):\n",
    "    a, b = map(int, input().split())\n",
    "    graph[a].append(b)\n",
    "\n",
    "distance = [-1] * (n + 1)\n",
    "\n",
    "q = deque([start])\n",
    "distance[start] = 0\n",
    "while q:\n",
    "    now = q.popleft()\n",
    "\n",
    "    for v in graph[now]:\n",
    "        if distance[v] == -1:\n",
    "            distance[v] = distance[now] + 1\n",
    "            q.append(v)\n",
    "\n",
    "check = False\n",
    "for i in range(len(distance)):\n",
    "    if distance[i] == k:\n",
    "        check = True\n",
    "        print(i)\n",
    "if check == False:\n",
    "    print(-1)"
   ]
  }
 ],
 "metadata": {
  "kernelspec": {
   "display_name": "Python 3",
   "language": "python",
   "name": "python3"
  },
  "language_info": {
   "codemirror_mode": {
    "name": "ipython",
    "version": 3
   },
   "file_extension": ".py",
   "mimetype": "text/x-python",
   "name": "python",
   "nbconvert_exporter": "python",
   "pygments_lexer": "ipython3",
   "version": "3.6.9"
  }
 },
 "nbformat": 4,
 "nbformat_minor": 5
}
