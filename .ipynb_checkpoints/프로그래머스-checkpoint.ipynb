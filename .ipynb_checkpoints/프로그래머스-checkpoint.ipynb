{
 "cells": [
  {
   "cell_type": "markdown",
   "id": "dense-unemployment",
   "metadata": {},
   "source": [
    "## 문제1"
   ]
  },
  {
   "cell_type": "markdown",
   "id": "square-spirituality",
   "metadata": {},
   "source": [
    "## 문제2"
   ]
  },
  {
   "cell_type": "markdown",
   "id": "executed-pepper",
   "metadata": {},
   "source": [
    "## 문제3"
   ]
  },
  {
   "cell_type": "code",
   "execution_count": 26,
   "id": "eight-stream",
   "metadata": {},
   "outputs": [
    {
     "name": "stdout",
     "output_type": "stream",
     "text": [
      "0 0 0\n",
      "3 0 3\n",
      "[0]\n",
      "3 1 3\n",
      "1 1 1\n",
      "[0, 1]\n"
     ]
    },
    {
     "ename": "KeyError",
     "evalue": "1",
     "output_type": "error",
     "traceback": [
      "\u001b[0;31m---------------------------------------------------------------------------\u001b[0m",
      "\u001b[0;31mKeyError\u001b[0m                                  Traceback (most recent call last)",
      "\u001b[0;32m<ipython-input-26-67c5fbe85e73>\u001b[0m in \u001b[0;36m<module>\u001b[0;34m\u001b[0m\n\u001b[1;32m     52\u001b[0m             \u001b[0;32mdel\u001b[0m \u001b[0msort_info\u001b[0m\u001b[0;34m[\u001b[0m\u001b[0mid1\u001b[0m\u001b[0;34m]\u001b[0m\u001b[0;34m\u001b[0m\u001b[0;34m\u001b[0m\u001b[0m\n\u001b[1;32m     53\u001b[0m     \u001b[0;32mreturn\u001b[0m \u001b[0manswer\u001b[0m\u001b[0;34m\u001b[0m\u001b[0;34m\u001b[0m\u001b[0m\n\u001b[0;32m---> 54\u001b[0;31m \u001b[0msolution\u001b[0m\u001b[0;34m(\u001b[0m\u001b[0;34m[\u001b[0m\u001b[0;36m0\u001b[0m\u001b[0;34m,\u001b[0m\u001b[0;36m1\u001b[0m\u001b[0;34m,\u001b[0m\u001b[0;36m3\u001b[0m\u001b[0;34m,\u001b[0m\u001b[0;36m0\u001b[0m\u001b[0;34m]\u001b[0m\u001b[0;34m,\u001b[0m\u001b[0;34m[\u001b[0m\u001b[0;36m0\u001b[0m\u001b[0;34m,\u001b[0m\u001b[0;36m1\u001b[0m\u001b[0;34m,\u001b[0m\u001b[0;36m2\u001b[0m\u001b[0;34m,\u001b[0m\u001b[0;36m3\u001b[0m\u001b[0;34m]\u001b[0m\u001b[0;34m)\u001b[0m\u001b[0;34m\u001b[0m\u001b[0;34m\u001b[0m\u001b[0m\n\u001b[0m",
      "\u001b[0;32m<ipython-input-26-67c5fbe85e73>\u001b[0m in \u001b[0;36msolution\u001b[0;34m(t, r)\u001b[0m\n\u001b[1;32m     23\u001b[0m         \u001b[0mid1\u001b[0m \u001b[0;34m=\u001b[0m \u001b[0mkeys\u001b[0m\u001b[0;34m[\u001b[0m\u001b[0mi\u001b[0m\u001b[0;34m]\u001b[0m\u001b[0;34m\u001b[0m\u001b[0;34m\u001b[0m\u001b[0m\n\u001b[1;32m     24\u001b[0m         \u001b[0mid2\u001b[0m \u001b[0;34m=\u001b[0m \u001b[0mkeys\u001b[0m\u001b[0;34m[\u001b[0m\u001b[0mi\u001b[0m\u001b[0;34m+\u001b[0m\u001b[0;36m1\u001b[0m\u001b[0;34m]\u001b[0m\u001b[0;34m\u001b[0m\u001b[0;34m\u001b[0m\u001b[0m\n\u001b[0;32m---> 25\u001b[0;31m         \u001b[0mt1\u001b[0m\u001b[0;34m,\u001b[0m \u001b[0mr1\u001b[0m \u001b[0;34m=\u001b[0m \u001b[0msort_info\u001b[0m\u001b[0;34m[\u001b[0m\u001b[0mkeys\u001b[0m\u001b[0;34m[\u001b[0m\u001b[0mi\u001b[0m\u001b[0;34m]\u001b[0m\u001b[0;34m]\u001b[0m\u001b[0;34m\u001b[0m\u001b[0;34m\u001b[0m\u001b[0m\n\u001b[0m\u001b[1;32m     26\u001b[0m         \u001b[0mt2\u001b[0m\u001b[0;34m,\u001b[0m \u001b[0mr2\u001b[0m \u001b[0;34m=\u001b[0m \u001b[0msort_info\u001b[0m\u001b[0;34m[\u001b[0m\u001b[0mkeys\u001b[0m\u001b[0;34m[\u001b[0m\u001b[0mi\u001b[0m\u001b[0;34m+\u001b[0m\u001b[0;36m1\u001b[0m\u001b[0;34m]\u001b[0m\u001b[0;34m]\u001b[0m\u001b[0;34m\u001b[0m\u001b[0;34m\u001b[0m\u001b[0m\n\u001b[1;32m     27\u001b[0m \u001b[0;34m\u001b[0m\u001b[0m\n",
      "\u001b[0;31mKeyError\u001b[0m: 1"
     ]
    }
   ],
   "source": [
    "def solution(t, r):\n",
    "    answer = []\n",
    "    temp = dict()\n",
    "    people = len(t)\n",
    "    \n",
    "    for i in range(people):\n",
    "        temp[i] = temp.get(i, ()) + (t[i], r[i])\n",
    "    \n",
    "    info = list(temp.values())\n",
    "    info.sort()\n",
    "    keys = []\n",
    "    for i in range(len(info)):\n",
    "        for key, value in temp.items():\n",
    "            if value == info[i]:\n",
    "                keys.append(key)\n",
    "    \n",
    "    sort_info = dict()\n",
    "    for i in range(len(keys)):\n",
    "        sort_info[keys[i]] = sort_info.get(keys[i], ()) + info[i]\n",
    "    # print(sort_info)\n",
    "    \n",
    "    for i in range(len(keys)-1):\n",
    "        id1 = keys[i]\n",
    "        id2 = keys[i+1]\n",
    "        t1, r1 = sort_info[keys[i]]\n",
    "        t2, r2 = sort_info[keys[i+1]]\n",
    "        \n",
    "        print(id1, t1, r1)\n",
    "        print(id2, t2, r2)\n",
    "        \n",
    "        if t1 == t2:\n",
    "            if r1 == r2:\n",
    "                if id1 < id2:\n",
    "                    answer.append(id1)\n",
    "                    sort_info[id2][0] = (t2+1, r2)\n",
    "                    keys.remove()\n",
    "                else:\n",
    "                    answer.append(id2)\n",
    "                    sort_info[id1][0] = (t1+1, r1)\n",
    "            elif r1 < r2:\n",
    "                answer.append(id1)\n",
    "                sort_info[id2] = (t2+1, r2)\n",
    "            elif r1 > r2:\n",
    "                answer.append(id2)\n",
    "                sort_info[id1] = (t1+1, r1)\n",
    "            print(answer)\n",
    "        else:\n",
    "            answer.append(id1)\n",
    "    return answer\n",
    "solution([0,1,3,0],[0,1,2,3])"
   ]
  },
  {
   "cell_type": "code",
   "execution_count": 47,
   "id": "advised-value",
   "metadata": {},
   "outputs": [
    {
     "data": {
      "text/plain": [
       "[3, 1, 0, 2]"
      ]
     },
     "execution_count": 47,
     "metadata": {},
     "output_type": "execute_result"
    }
   ],
   "source": [
    "def solution(t, r):\n",
    "    answer = []\n",
    "    temp = dict()\n",
    "    people = len(t)\n",
    "    \n",
    "    for i in range(people):\n",
    "        temp[i] = temp.get(i, ()) + (t[i], r[i])\n",
    "        \n",
    "    value = list(temp.values())\n",
    "    key = list(temp.keys())\n",
    "    \n",
    "    while True:\n",
    "        value = list(temp.values())\n",
    "        key = list(temp.keys())\n",
    "        first = 100001\n",
    "        \n",
    "        if len(temp) == 1:\n",
    "            answer.append(key[0])\n",
    "            break\n",
    "        for id1, val1 in temp.items():\n",
    "            t1, r1 = val1\n",
    "            for id2, val2 in temp.items():\n",
    "                if id1 == id2:\n",
    "                    continue\n",
    "                t2, r2 = val2\n",
    "                \n",
    "                first = min(t1, t2)\n",
    "        \n",
    "        keys = []\n",
    "        count = 0\n",
    "        \n",
    "        for i in range(len(value)):\n",
    "            t, r = value[i]\n",
    "            if t == first:\n",
    "                keys.append(key[i])\n",
    "        if len(keys) == 1: #도착한 시간이 빠른 사람이 1명만 있을 때\n",
    "            answer.append(keys[0])\n",
    "            del temp[keys[0]]\n",
    "        else: # 도착한 시간이 겹칠때\n",
    "            min_grade = 6\n",
    "            a = []\n",
    "            for i in range(len(keys)):\n",
    "                t, r = temp[keys[i]]\n",
    "                min_grade = min(min_grade, r)\n",
    "            for i in range(len(keys)):\n",
    "                Id = keys[i]\n",
    "                t, r = temp[keys[i]]\n",
    "                if r == min_grade:\n",
    "                    a.append(keys[i])\n",
    "                    \n",
    "            if len(a) == 1: # 도착시간 겹치고, 등급이 안겹칠때\n",
    "                answer.append(a[0])\n",
    "                for i in range(len(keys)): #대기 시간 늘려주기\n",
    "                    if keys[i] == a[0]:\n",
    "                        continue\n",
    "                    else:\n",
    "                        t, r = temp[keys[i]]\n",
    "                        temp[keys[i]] = (t+1, r)\n",
    "                del temp[a[0]]\n",
    "\n",
    "            \n",
    "            else: #등급도 같고 시간도 같으면 ID 순으로 \n",
    "                keys.sort()\n",
    "                answer.append(temp[keys[0]])\n",
    "                for i in range(1, len(keys)): #대기 시간 늘려주기\n",
    "                    t, r = temp[keys[i]]\n",
    "                    temp[keys[i]] = (t+1, r)\n",
    "                del temp[keys[0]]\n",
    "\n",
    "    return answer\n",
    "solution([0,1,3,0],[0,1,2,3])\n",
    "solution([7,6,8,1], [0,1,2,3])"
   ]
  }
 ],
 "metadata": {
  "kernelspec": {
   "display_name": "Python 3",
   "language": "python",
   "name": "python3"
  },
  "language_info": {
   "codemirror_mode": {
    "name": "ipython",
    "version": 3
   },
   "file_extension": ".py",
   "mimetype": "text/x-python",
   "name": "python",
   "nbconvert_exporter": "python",
   "pygments_lexer": "ipython3",
   "version": "3.6.9"
  }
 },
 "nbformat": 4,
 "nbformat_minor": 5
}
