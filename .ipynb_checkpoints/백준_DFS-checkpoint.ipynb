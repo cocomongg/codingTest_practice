{
 "cells": [
  {
   "cell_type": "markdown",
   "id": "valuable-third",
   "metadata": {},
   "source": [
    "## 문제 1260. DFS와 BFS (O)"
   ]
  },
  {
   "cell_type": "code",
   "execution_count": null,
   "id": "appointed-precipitation",
   "metadata": {},
   "outputs": [],
   "source": [
    "from collections import deque\n",
    "\n",
    "def dfs(graph, visited, start):\n",
    "    print(start, end=' ')\n",
    "    visited[start] = True\n",
    "    \n",
    "    if len(graph[start]) > 1:\n",
    "        graph[start].sort()\n",
    "        \n",
    "    for i in graph[start]:\n",
    "        if not visited[i]:\n",
    "            dfs(graph, visited, i)\n",
    "\n",
    "def bfs(graph, visited, start):\n",
    "    q = deque([start])\n",
    "    visited[start] = True\n",
    "    while q:\n",
    "        now = q.popleft()\n",
    "        print(now, end=' ')\n",
    "        \n",
    "        if len(graph[start]) > 1:\n",
    "            graph[start].sort()\n",
    "            \n",
    "        for i in graph[now]:\n",
    "            if not visited[i]:\n",
    "                q.append(i)\n",
    "                visited[i] = True\n",
    "    \n",
    "    \n",
    "n, m, start = map(int, input().split())\n",
    "graph = [[] for _ in range(n+1)]\n",
    "visited = [False] * (n+1)\n",
    "for _ in range(m):\n",
    "    a, b = map(int, input().split())\n",
    "    graph[a].append(b)\n",
    "    graph[b].append(a)\n",
    "    \n",
    "dfs(graph, visited, start)\n",
    "print()\n",
    "visited = [False] * (n+1)\n",
    "bfs(graph, visited, start)"
   ]
  },
  {
   "cell_type": "markdown",
   "id": "congressional-basketball",
   "metadata": {},
   "source": [
    "## 문제 2667. 단지 번호 붙이기 (O)"
   ]
  },
  {
   "cell_type": "code",
   "execution_count": null,
   "id": "coupled-electricity",
   "metadata": {},
   "outputs": [],
   "source": [
    "# 상하좌우\n",
    "dx = [-1, 1, 0, 0]\n",
    "dy = [0, 0, -1, 1]\n",
    "def dfs(graph, visited, start):\n",
    "    global res \n",
    "    res += 1\n",
    "    x, y = start\n",
    "    visited[x][y] = True\n",
    "    \n",
    "    for i in range(4):\n",
    "        nx = x + dx[i]\n",
    "        ny = y + dy[i]\n",
    "        if nx < 0 or nx >= n or ny < 0 or ny >= n:\n",
    "            continue\n",
    "        if graph[nx][ny] == 0:\n",
    "            continue\n",
    "            \n",
    "        if not visited[nx][ny]:\n",
    "            dfs(graph, visited, (nx, ny))\n",
    "\n",
    "    \n",
    "    \n",
    "n = int(input())\n",
    "graph = [] \n",
    "visited =[[False] * n for _ in range(n)]\n",
    "\n",
    "for _ in range(n):\n",
    "    a = input()  \n",
    "    graph.append(list(map(int, a)))\n",
    "\n",
    "result = []\n",
    "for i in range(n):\n",
    "    for j in range(n):\n",
    "        res = 0\n",
    "        if not visited[i][j] and graph[i][j] != 0: \n",
    "            dfs(graph, visited, (i, j))\n",
    "            result.append(res)\n",
    "            \n",
    "result.sort()           \n",
    "print(len(result))\n",
    "for i in range(len(result)):\n",
    "    print(result[i])"
   ]
  },
  {
   "cell_type": "markdown",
   "id": "greatest-polish",
   "metadata": {},
   "source": [
    "## 문제 1012. 유기농 배추 (O)"
   ]
  },
  {
   "cell_type": "code",
   "execution_count": null,
   "id": "encouraging-feedback",
   "metadata": {},
   "outputs": [],
   "source": [
    "## import sys\n",
    "# input = sys.stdin.readline\n",
    "\n",
    "dx = [-1, 1, 0, 0]\n",
    "dy = [0, 0, -1 , 1]\n",
    "\n",
    "def dfs(graph, x, y):\n",
    "    graph[x][y] = 0\n",
    "    for i in range(4):\n",
    "        nx = x + dx[i]\n",
    "        ny = y + dy[i]\n",
    "        if nx < 0 or nx >= m or ny < 0 or ny >= n:\n",
    "            continue\n",
    "        if graph[nx][ny] == 0:\n",
    "            continue\n",
    "        dfs(graph, nx, ny)\n",
    "    \n",
    "\n",
    "for i in range(int(input())):\n",
    "    m, n, k = map(int, input().split())\n",
    "    graph = [[0] * n for _ in range(m)]\n",
    "    result = 0\n",
    "    for _ in range(k):\n",
    "        x, y = map(int, input().split())\n",
    "        graph[x][y] = 1\n",
    "#     print(graph)\n",
    "    for i in range(m):\n",
    "        for j in range(n):\n",
    "            if graph[i][j] == 1:\n",
    "                dfs(graph, i, j)\n",
    "                result += 1\n",
    "    print(result)"
   ]
  },
  {
   "cell_type": "markdown",
   "id": "digital-athletics",
   "metadata": {},
   "source": [
    "## 문제 2606. 바이러스 (O)"
   ]
  },
  {
   "cell_type": "code",
   "execution_count": null,
   "id": "historical-scout",
   "metadata": {},
   "outputs": [],
   "source": [
    "def dfs(graph, start, result, visited):\n",
    "    result.append(start)\n",
    "    visited[start] = True\n",
    "    for i in graph[start]:\n",
    "        if not visited[i]:\n",
    "            dfs(graph, i, result, visited)\n",
    "\n",
    "n = int(input())\n",
    "k = int(input())\n",
    "start = 1\n",
    "visited = [False] * (n+1)\n",
    "graph = [[] for _ in range(n+1)]\n",
    "\n",
    "result = []\n",
    "for _ in range(k):\n",
    "    a, b = map(int, input().split())\n",
    "    graph[a].append(b)\n",
    "    graph[b].append(a)\n",
    "\n",
    "\n",
    "dfs(graph, start, result, visited)\n",
    "\n",
    "print(len(result)-1)"
   ]
  },
  {
   "cell_type": "markdown",
   "id": "vulnerable-cassette",
   "metadata": {},
   "source": [
    "## 문제 1987. 알파벳 (x, 시간초과)"
   ]
  },
  {
   "cell_type": "code",
   "execution_count": 4,
   "id": "unknown-trademark",
   "metadata": {},
   "outputs": [
    {
     "name": "stdout",
     "output_type": "stream",
     "text": [
      "2 4\n",
      "CAAB\n",
      "ADCB\n",
      "(0, 0)\n",
      "(1, 0)\n",
      "(1, 1)\n",
      "(0, 1)\n",
      "(1, 1)\n",
      "3\n"
     ]
    }
   ],
   "source": [
    "# 예시 답안, alpha리스트를 통해 중복검사\n",
    "dx = [-1, 1, 0, 0]\n",
    "dy = [0, 0, -1, 1]\n",
    "r, c = map(int, input().split())\n",
    "graph = [list(map(lambda x: ord(x) - 65, input().rstrip())) for _ in range(r)]\n",
    "alpha = [0] * 26 \n",
    "\n",
    "def dfs(start, cnt):\n",
    "    global result\n",
    "    result = max(result, cnt)\n",
    "\n",
    "    x, y = start\n",
    "    for i in range(4):\n",
    "        nx = x + dx[i]\n",
    "        ny = y + dy[i]\n",
    "        \n",
    "        if 0 <= nx < r and 0 <= ny < c and alpha[graph[nx][ny]] == 0:\n",
    "            alpha[graph[nx][ny]] = 1\n",
    "            dfs((nx, ny), cnt + 1)\n",
    "            alpha[graph[nx][ny]] = 0\n",
    "\n",
    "\n",
    "result = 1\n",
    "alpha[graph[0][0]] = 1\n",
    "dfs((0,0), 1)\n",
    "print(result)"
   ]
  },
  {
   "cell_type": "markdown",
   "id": "early-relevance",
   "metadata": {},
   "source": [
    "## 문제 11724. 연결 요소의 개수(O)"
   ]
  },
  {
   "cell_type": "code",
   "execution_count": 11,
   "id": "unavailable-giant",
   "metadata": {},
   "outputs": [
    {
     "name": "stdout",
     "output_type": "stream",
     "text": [
      "6 8\n",
      "1 2\n",
      "2 5\n",
      "5 1\n",
      "3 4\n",
      "4 6\n",
      "5 4\n",
      "2 4\n",
      "2 3\n",
      "1\n"
     ]
    }
   ],
   "source": [
    "def dfs(graph, node):\n",
    "    visited[node] = True\n",
    "    \n",
    "    for i in graph[node]:\n",
    "        if not visited[i]:\n",
    "            dfs(graph, i)\n",
    "\n",
    "n, m = map(int, input().split())\n",
    "graph = [[] for _ in range(n+1)]\n",
    "visited = [False] * (n+1)\n",
    "for _ in range(m):\n",
    "    a, b = map(int, input().split())\n",
    "    graph[a].append(b)\n",
    "    graph[b].append(a)\n",
    "    \n",
    "result = 0\n",
    "for i in range(1, n+1):\n",
    "    if not visited[i]:\n",
    "        dfs(graph, i)\n",
    "        result += 1\n",
    "        \n",
    "print(result)"
   ]
  }
 ],
 "metadata": {
  "kernelspec": {
   "display_name": "Python 3",
   "language": "python",
   "name": "python3"
  },
  "language_info": {
   "codemirror_mode": {
    "name": "ipython",
    "version": 3
   },
   "file_extension": ".py",
   "mimetype": "text/x-python",
   "name": "python",
   "nbconvert_exporter": "python",
   "pygments_lexer": "ipython3",
   "version": "3.6.9"
  }
 },
 "nbformat": 4,
 "nbformat_minor": 5
}
