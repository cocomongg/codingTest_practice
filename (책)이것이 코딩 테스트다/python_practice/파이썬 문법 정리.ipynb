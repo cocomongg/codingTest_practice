{
 "cells": [
  {
   "cell_type": "markdown",
   "id": "balanced-maria",
   "metadata": {},
   "source": [
    "# List"
   ]
  },
  {
   "cell_type": "markdown",
   "id": "needed-oregon",
   "metadata": {},
   "source": [
    "<리스트 관련 기타 메서드> <br/>\n",
    "append() -> O(1) <br/>\n",
    "sort() -> O(NlogN) <br/>\n",
    "reverse() -> O(N) <br/>\n",
    "insert() -> O(N) <br/>\n",
    "count() -> O(N) <br/>\n",
    "remove() -> O(N) <br/>"
   ]
  },
  {
   "cell_type": "code",
   "execution_count": 1,
   "id": "narrow-orlando",
   "metadata": {
    "scrolled": true
   },
   "outputs": [
    {
     "name": "stdout",
     "output_type": "stream",
     "text": [
      "[1, 3, 5, 7, 9, 11, 13, 15, 17, 19]\n"
     ]
    }
   ],
   "source": [
    "#리스트 컴프리헨션 -> 리스트 초기화 방법중 하나 \n",
    "array = [i for i in range(20) if i % 2 == 1] #odd\n",
    "print(array)"
   ]
  },
  {
   "cell_type": "code",
   "execution_count": 2,
   "id": "enormous-milton",
   "metadata": {},
   "outputs": [
    {
     "name": "stdout",
     "output_type": "stream",
     "text": [
      "[1, 4, 9, 16, 25, 36, 49, 64, 81]\n"
     ]
    }
   ],
   "source": [
    "array = [i*i for i in range(1, 10)]\n",
    "print(array)"
   ]
  },
  {
   "cell_type": "code",
   "execution_count": 3,
   "id": "continuing-cookie",
   "metadata": {},
   "outputs": [
    {
     "name": "stdout",
     "output_type": "stream",
     "text": [
      "[[0, 0, 0, 0], [0, 0, 0, 0], [0, 0, 0, 0]]\n"
     ]
    }
   ],
   "source": [
    "# N*M 크기의 2차원 리스트 초기화\n",
    "n = 3\n",
    "m = 4\n",
    "array = [[0] * m for _ in range(n)] # _(언더바) : 반복을 수행하되 반복을 위한 변수의 값을 무시하고자 할 때\n",
    "print(array)"
   ]
  },
  {
   "cell_type": "code",
   "execution_count": 4,
   "id": "improving-marketplace",
   "metadata": {},
   "outputs": [
    {
     "name": "stdout",
     "output_type": "stream",
     "text": [
      "[[0, 0, 0, 0], [0, 0, 0, 0], [0, 0, 0, 0]]\n",
      "[[0, 5, 0, 0], [0, 5, 0, 0], [0, 5, 0, 0]]\n"
     ]
    }
   ],
   "source": [
    "# N*M 크기의 2차원 리스트 초기화(잘못된 방법)\n",
    "n = 3\n",
    "m = 4\n",
    "array = [[0]*m] * n\n",
    "print(array)\n",
    "\n",
    "array[1][1] = 5\n",
    "print(array) # 3개의 리스트가 모두 동일한 객체에 대한 3개의 레퍼런스로 인식"
   ]
  },
  {
   "cell_type": "code",
   "execution_count": 5,
   "id": "appropriate-chorus",
   "metadata": {},
   "outputs": [
    {
     "name": "stdout",
     "output_type": "stream",
     "text": [
      "[1, 2, 4]\n"
     ]
    }
   ],
   "source": [
    "#특정한 값의 원소를 모두 제거\n",
    "a = [1, 2, 3, 4, 5, 5, 5]\n",
    "remove_set = {3, 5}\n",
    "\n",
    "#remove set에 포함되지 않은 값만을 저장\n",
    "result = [i for i in a if i not in remove_set]\n",
    "print(result)"
   ]
  },
  {
   "cell_type": "markdown",
   "id": "welsh-tissue",
   "metadata": {},
   "source": [
    "# Tuple"
   ]
  },
  {
   "cell_type": "markdown",
   "id": "exceptional-people",
   "metadata": {},
   "source": [
    "리스트와 차이점\n",
    "- 한번 선언된 값을 변경할 수 없다.\n",
    "- 소괄호() 사용"
   ]
  },
  {
   "cell_type": "markdown",
   "id": "pointed-patio",
   "metadata": {},
   "source": [
    "# Dictionary"
   ]
  },
  {
   "cell_type": "markdown",
   "id": "concerned-dispatch",
   "metadata": {},
   "source": [
    "특징\n",
    "- 데이터 검색 및 수정에 있어서 (1)의 시간에 처리 가능, 리스트보다 빠르게 동작<br/>"
   ]
  },
  {
   "cell_type": "code",
   "execution_count": 6,
   "id": "italian-valuable",
   "metadata": {},
   "outputs": [
    {
     "name": "stdout",
     "output_type": "stream",
     "text": [
      "dict_keys(['사과', '바나나', '코코넛'])\n",
      "dict_values(['Apple', 'Banana', 'Coconut'])\n",
      "Apple\n",
      "Banana\n",
      "Coconut\n"
     ]
    }
   ],
   "source": [
    "data = dict();\n",
    "data['사과'] = 'Apple'\n",
    "data['바나나'] = 'Banana'\n",
    "data['코코넛'] = 'Coconut'\n",
    "\n",
    "key_list = data.keys()\n",
    "value_list = data.values()\n",
    "\n",
    "print(key_list)\n",
    "print(value_list)\n",
    "\n",
    "for key in key_list:\n",
    "    print(data[key])"
   ]
  },
  {
   "cell_type": "markdown",
   "id": "internal-sport",
   "metadata": {},
   "source": [
    "# Set"
   ]
  },
  {
   "cell_type": "markdown",
   "id": "acoustic-johnson",
   "metadata": {},
   "source": [
    "특징\n",
    "- 중복 허용 X\n",
    "- 순서가 없음\n",
    "- 특정 원소가 존재하는지를 검사하는 연산의 시간 복잡도는 O(1)"
   ]
  },
  {
   "cell_type": "code",
   "execution_count": 7,
   "id": "incorporate-harvey",
   "metadata": {},
   "outputs": [
    {
     "name": "stdout",
     "output_type": "stream",
     "text": [
      "{1, 2, 3, 4, 5}\n",
      "{1, 2, 3, 4, 5, 6, 7}\n",
      "{3, 4, 5}\n",
      "{1, 2}\n"
     ]
    }
   ],
   "source": [
    "data = set([1, 1, 2, 3, 4, 4, 5])\n",
    "print(data)\n",
    "\n",
    "a = set([1, 2, 3, 4, 5])\n",
    "b = set([3, 4, 5, 6, 7])\n",
    "\n",
    "print(a | b) #합집합\n",
    "print(a & b) #교집합\n",
    "print(a - b) #차집합"
   ]
  },
  {
   "cell_type": "markdown",
   "id": "pleasant-louis",
   "metadata": {},
   "source": [
    "<집합 관련 기타 메서드> <br/>\n",
    "add() -> O(1)<br/>\n",
    "remove() -> O(1)"
   ]
  },
  {
   "cell_type": "code",
   "execution_count": 8,
   "id": "exempt-crisis",
   "metadata": {},
   "outputs": [
    {
     "name": "stdout",
     "output_type": "stream",
     "text": [
      "{1, 2, 3}\n",
      "{1, 2, 3, 4}\n",
      "{1, 2, 3, 4, 5, 6}\n",
      "{1, 2, 4, 5, 6}\n"
     ]
    }
   ],
   "source": [
    "data = set([1, 2, 3])\n",
    "print(data)\n",
    "\n",
    "data.add(4)\n",
    "print(data)\n",
    "\n",
    "data.update([5, 6])\n",
    "print(data)\n",
    "\n",
    "data.remove(3)\n",
    "print(data)"
   ]
  },
  {
   "cell_type": "markdown",
   "id": "horizontal-attack",
   "metadata": {},
   "source": [
    "# lamda"
   ]
  },
  {
   "cell_type": "code",
   "execution_count": 9,
   "id": "pleased-spice",
   "metadata": {},
   "outputs": [
    {
     "name": "stdout",
     "output_type": "stream",
     "text": [
      "10\n",
      "10\n"
     ]
    }
   ],
   "source": [
    "def add(a,b):\n",
    "    return a+b\n",
    "\n",
    "print(add(3, 7))\n",
    "\n",
    "print((lambda a, b : a+b)(3, 7))"
   ]
  },
  {
   "cell_type": "markdown",
   "id": "floating-prospect",
   "metadata": {},
   "source": [
    "# 입력"
   ]
  },
  {
   "cell_type": "code",
   "execution_count": 10,
   "id": "altered-access",
   "metadata": {},
   "outputs": [
    {
     "name": "stdout",
     "output_type": "stream",
     "text": [
      "3\n",
      "1 2 3\n",
      "[3, 2, 1]\n"
     ]
    }
   ],
   "source": [
    "# 1. 입력이 많지 않은 경우\n",
    "# 데이터의 개수 입력\n",
    "n = int(input())\n",
    "# 각 데이터를 공백으로 구분하여 입력\n",
    "data = list(map(int, input().split()))\n",
    "\n",
    "data.sort(reverse = True)\n",
    "print(data)"
   ]
  },
  {
   "cell_type": "code",
   "execution_count": 11,
   "id": "exact-alfred",
   "metadata": {},
   "outputs": [
    {
     "name": "stdout",
     "output_type": "stream",
     "text": [
      "\n"
     ]
    }
   ],
   "source": [
    "# 2. 입력이 많은 경우\n",
    "import sys\n",
    " \n",
    "data = sys.stdin.readline().rstrip() #rstrip(): 공백문자 제거\n",
    "print(data)"
   ]
  },
  {
   "cell_type": "markdown",
   "id": "naughty-casting",
   "metadata": {},
   "source": [
    "# 표준 라이브러리"
   ]
  },
  {
   "cell_type": "markdown",
   "id": "awful-disposition",
   "metadata": {},
   "source": [
    "- 내장함수: print(), input(), sorted()등 기본 내장 라이브러리.\n",
    "- itertools: 반복되는 형태의 데이터를 처리하는 기능 제공, 순열과 조합\n",
    "- heapq: 힙 기능을 제공하는 라이브러리, 우선순위 큐 기능을 구현하기 위해 사용\n",
    "- bisect: 이진탐색 기능 제공, '정렬된 배열'에서 특정한 원소를 찾아야 할 때 매우 효과적으로 사용\n",
    "- collections: 덱(deque), 카운트(counter) 등의 유용한 자료구조를 포함한 라이브러리\n",
    "- math: 수학적 기능 제공, 팩토리얼, 제곱근, 최대공약수, 삼각함수 관련"
   ]
  },
  {
   "cell_type": "markdown",
   "id": "endangered-norman",
   "metadata": {},
   "source": [
    "## 1. 내장함수"
   ]
  },
  {
   "cell_type": "code",
   "execution_count": 12,
   "id": "diverse-colony",
   "metadata": {},
   "outputs": [
    {
     "name": "stdout",
     "output_type": "stream",
     "text": [
      "15\n",
      "2\n",
      "7\n",
      "56\n",
      "[('c', 3), ('b', 2), ('a', 1)]\n",
      "[1, 4, 5, 8, 9]\n"
     ]
    }
   ],
   "source": [
    "#내장 함수\n",
    "result = sum([1, 2, 3, 4, 5])\n",
    "print(result)\n",
    "\n",
    "result = min(7, 3, 5, 2)\n",
    "print(result)\n",
    "\n",
    "result = max(7, 3, 5, 2)\n",
    "print(result)\n",
    "\n",
    "result = eval(\"(3 + 5) * 7\")\n",
    "print(result)\n",
    "\n",
    "result = sorted([('a', 1), ('b', 2), ('c', 3)], key = lambda x: x[1], reverse = True)\n",
    "print(result)\n",
    "\n",
    "data = [9, 1, 8, 5, 4]\n",
    "data.sort()\n",
    "print(data)"
   ]
  },
  {
   "cell_type": "markdown",
   "id": "musical-survivor",
   "metadata": {},
   "source": [
    "## 2. itertools"
   ]
  },
  {
   "cell_type": "code",
   "execution_count": 13,
   "id": "irish-survey",
   "metadata": {},
   "outputs": [
    {
     "name": "stdout",
     "output_type": "stream",
     "text": [
      "[('A', 'B', 'C'), ('A', 'C', 'B'), ('B', 'A', 'C'), ('B', 'C', 'A'), ('C', 'A', 'B'), ('C', 'B', 'A')]\n"
     ]
    }
   ],
   "source": [
    "from itertools import permutations\n",
    "\n",
    "data = ['A', 'B', 'C'] \n",
    "result = list(permutations(data, 3)) #모든 순열 구하기\n",
    "print(result)"
   ]
  },
  {
   "cell_type": "code",
   "execution_count": 14,
   "id": "happy-consistency",
   "metadata": {},
   "outputs": [
    {
     "name": "stdout",
     "output_type": "stream",
     "text": [
      "[('A', 'A'), ('A', 'B'), ('A', 'C'), ('B', 'A'), ('B', 'B'), ('B', 'C'), ('C', 'A'), ('C', 'B'), ('C', 'C')]\n"
     ]
    }
   ],
   "source": [
    "from itertools import product\n",
    "\n",
    "data = ['A', 'B', 'C'] \n",
    "result = list(product(data, repeat=2)) #2개를 뽑는 모든 순열 구하기(중복 허용)\n",
    "print(result)"
   ]
  },
  {
   "cell_type": "code",
   "execution_count": 15,
   "id": "realistic-scholarship",
   "metadata": {},
   "outputs": [
    {
     "name": "stdout",
     "output_type": "stream",
     "text": [
      "[('A', 'B'), ('A', 'C'), ('B', 'C')]\n"
     ]
    }
   ],
   "source": [
    "from itertools import combinations\n",
    "\n",
    "data = ['A', 'B', 'C'] \n",
    "result = list(combinations(data, 2)) #2개를 뽑는 모든 조합 구하기\n",
    "print(result)"
   ]
  },
  {
   "cell_type": "code",
   "execution_count": 16,
   "id": "fallen-somewhere",
   "metadata": {},
   "outputs": [
    {
     "name": "stdout",
     "output_type": "stream",
     "text": [
      "[('A', 'A'), ('A', 'B'), ('A', 'C'), ('B', 'B'), ('B', 'C'), ('C', 'C')]\n"
     ]
    }
   ],
   "source": [
    "from itertools import combinations_with_replacement\n",
    "\n",
    "data = ['A', 'B', 'C'] \n",
    "result = list(combinations_with_replacement(data, 2)) #2개를 뽑는 모든 조합 구하기(중복 허용)\n",
    "print(result)"
   ]
  },
  {
   "cell_type": "markdown",
   "id": "ongoing-championship",
   "metadata": {},
   "source": [
    "## 3. heapq"
   ]
  },
  {
   "cell_type": "code",
   "execution_count": 17,
   "id": "occupied-adolescent",
   "metadata": {},
   "outputs": [
    {
     "name": "stdout",
     "output_type": "stream",
     "text": [
      "[0, 1, 2, 3, 4, 5, 6, 7, 8, 9]\n"
     ]
    }
   ],
   "source": [
    "import heapq\n",
    "\n",
    "def heapsort(iterable):\n",
    "    h = []\n",
    "    result = []\n",
    "    \n",
    "    #모든 원소를 차례대로 힙에 삽입\n",
    "    for value in iterable:\n",
    "        heapq.heappush(h, value)\n",
    "    \n",
    "    # 힙에 삽입된 모든 원소를 차례대로 꺼내어 담기\n",
    "    for i in range(len(h)):\n",
    "        result.append(heapq.heappop(h))\n",
    "    return result\n",
    "\n",
    "result = heapsort([1, 3, 5, 7, 9, 2, 4, 6, 8, 0])\n",
    "print(result)"
   ]
  },
  {
   "cell_type": "code",
   "execution_count": 18,
   "id": "informative-sellers",
   "metadata": {},
   "outputs": [
    {
     "name": "stdout",
     "output_type": "stream",
     "text": [
      "[9, 8, 7, 6, 5, 4, 3, 2, 1, 0]\n"
     ]
    }
   ],
   "source": [
    "import heapq\n",
    "\n",
    "def heapsort(iterable):\n",
    "    h = []\n",
    "    result = []\n",
    "    \n",
    "    #모든 원소를 차례대로 힙에 삽입\n",
    "    for value in iterable:\n",
    "        heapq.heappush(h, -value)\n",
    "    \n",
    "    # 힙에 삽입된 모든 원소를 차례대로 꺼내어 담기\n",
    "    for i in range(len(h)):\n",
    "        result.append(-heapq.heappop(h))\n",
    "    return result\n",
    "\n",
    "result = heapsort([1, 3, 5, 7, 9, 2, 4, 6, 8, 0])\n",
    "print(result)"
   ]
  },
  {
   "cell_type": "markdown",
   "id": "determined-concord",
   "metadata": {},
   "source": [
    "## 4. bisect"
   ]
  },
  {
   "cell_type": "code",
   "execution_count": 19,
   "id": "checked-petite",
   "metadata": {},
   "outputs": [
    {
     "name": "stdout",
     "output_type": "stream",
     "text": [
      "2\n",
      "4\n"
     ]
    }
   ],
   "source": [
    "from bisect import bisect_left, bisect_right\n",
    "\n",
    "a = [1, 2, 4, 4, 8]\n",
    "x = 4\n",
    "\n",
    "print(bisect_left(a, x)) #정렬된 순서를 유지하면서 리스트 a에 데이터 x를 삽입할 가장 왼쪽 인덱스를 찾는 메서드\n",
    "print(bisect_right(a, x)) #정렬된 순서를 유지하면서 리스트 a에 데이터 x를 삽입할 가장 오른쪽 인덱스를 찾는 메서드"
   ]
  },
  {
   "cell_type": "code",
   "execution_count": 20,
   "id": "finnish-opinion",
   "metadata": {},
   "outputs": [
    {
     "name": "stdout",
     "output_type": "stream",
     "text": [
      "2\n",
      "6\n"
     ]
    }
   ],
   "source": [
    "from bisect import bisect_left, bisect_right\n",
    "\n",
    "# 정렬된 리스트에서 값이 [left_value, right_value]인 데이터의 개수를 반환하는 함수 -> O(logN)\n",
    "def count_by_range(a, left_value, right_value):\n",
    "    right_index = bisect_right(a, right_value)\n",
    "    left_index = bisect_left(a, left_value)\n",
    "    return right_index - left_index\n",
    "\n",
    "a = [1, 2, 3, 3, 3, 3, 4, 4, 8, 9]\n",
    "\n",
    "#값이 4인 데이터 개수 출력\n",
    "print(count_by_range(a, 4, 4))\n",
    "\n",
    "#값이 [-1, 3] 범위에 있는 데이터 개수 출력\n",
    "print(count_by_range(a, -1, 3))"
   ]
  },
  {
   "cell_type": "markdown",
   "id": "parallel-framing",
   "metadata": {},
   "source": [
    "## 5. collections"
   ]
  },
  {
   "cell_type": "markdown",
   "id": "brown-release",
   "metadata": {},
   "source": [
    "- deque를 사용해 큐를 구현, 별도로 제공되는 Queue라이브러리가 있는데 일반적인 큐 자료구조를 구현하는 라이브러리는 아님\n",
    "  따라서 deque를 이용해 큐를 구현해야 한다\n",
    "- deque는 스택이나 큐의 기능을 모두 포함한다고 볼 수 있기 때문에 스택 혹은 큐의 대용으로 사용 가능\n",
    "- deque를 자료구조로 이용할 때, 원소를 삽입할 때에는 append()를 사용하고 원소를 삭제할 때는 popleft() 사용"
   ]
  },
  {
   "cell_type": "code",
   "execution_count": 21,
   "id": "guilty-israel",
   "metadata": {},
   "outputs": [
    {
     "name": "stdout",
     "output_type": "stream",
     "text": [
      "deque([1, 2, 3, 4, 5])\n",
      "[1, 2, 3, 4, 5]\n"
     ]
    }
   ],
   "source": [
    "from collections import deque\n",
    "\n",
    "data = deque([2, 3, 4])\n",
    "data.appendleft(1)\n",
    "data.append(5)\n",
    "\n",
    "print(data)\n",
    "print(list(data))"
   ]
  },
  {
   "cell_type": "code",
   "execution_count": 22,
   "id": "moral-definition",
   "metadata": {},
   "outputs": [
    {
     "name": "stdout",
     "output_type": "stream",
     "text": [
      "3\n",
      "1\n",
      "{'red': 2, 'blue': 3, 'green': 1}\n"
     ]
    }
   ],
   "source": [
    "from collections import Counter\n",
    "\n",
    "counter = Counter(['red', 'blue', 'red', 'green', 'blue', 'blue'])\n",
    "\n",
    "print(counter['blue']) #'blue'가 등장한 횟수 출력\n",
    "print(counter['green']) #'green'이 등장한 횟수 출력\n",
    "print(dict(counter)) #사전 자료형으로 변환"
   ]
  },
  {
   "cell_type": "markdown",
   "id": "neutral-chuck",
   "metadata": {},
   "source": [
    "## 6. math"
   ]
  },
  {
   "cell_type": "code",
   "execution_count": 23,
   "id": "specified-driving",
   "metadata": {},
   "outputs": [
    {
     "name": "stdout",
     "output_type": "stream",
     "text": [
      "120\n",
      "2.6457513110645907\n",
      "7\n",
      "3.141592653589793\n",
      "2.718281828459045\n"
     ]
    }
   ],
   "source": [
    "import math\n",
    "\n",
    "print(math.factorial(5))\n",
    "\n",
    "print(math.sqrt(7))\n",
    "\n",
    "print(math.gcd(21, 14)) #최대공약수\n",
    " \n",
    "print(math.pi) #파이\n",
    "\n",
    "print(math.e) #자연상수"
   ]
  },
  {
   "cell_type": "code",
   "execution_count": null,
   "id": "aging-undergraduate",
   "metadata": {},
   "outputs": [],
   "source": []
  }
 ],
 "metadata": {
  "kernelspec": {
   "display_name": "Python 3",
   "language": "python",
   "name": "python3"
  },
  "language_info": {
   "codemirror_mode": {
    "name": "ipython",
    "version": 3
   },
   "file_extension": ".py",
   "mimetype": "text/x-python",
   "name": "python",
   "nbconvert_exporter": "python",
   "pygments_lexer": "ipython3",
   "version": "3.6.9"
  }
 },
 "nbformat": 4,
 "nbformat_minor": 5
}
