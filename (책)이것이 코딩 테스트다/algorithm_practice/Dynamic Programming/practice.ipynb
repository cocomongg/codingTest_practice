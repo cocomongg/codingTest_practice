{
 "cells": [
  {
   "cell_type": "markdown",
   "id": "premium-distributor",
   "metadata": {},
   "source": [
    "### 다이나믹 프로그래밍\n",
    "- 메모리 공간을 약간 더 사용하여 연산 속도를 비약적으로 증가시킬 수 있는 방법\n",
    "- 큰 문제를 작게 나누고, 같은 문제라면 한 번씩만 풀어 문제를 효율적으로 해결하는 알고리즘 기법\n",
    "- ex) 피보나치 수열\n",
    "  - n번째 피보나치 수 = (n - 1)번째 피보나치 수 + (n - 2)번째 피보나치 수 \n",
    "  - 단, 1번째 피보나치 수 = 1, 2번째 피보나치 수 = 1\n",
    "  - 재귀함수를 이용한 피보나치 수열의 소스코드(8-1.py)의 문제점\n",
    "    - n이 커지면 커질수록 수행 시간이 기하급수적으로 늘어난다.\n",
    "    - 이미 한번 계산했지만 여러 번 호출 됨\n",
    "    -  <b>이러한 문제는 다이나믹 프로그래밍을 사용하면 효율적으로 해결할 수 있다.<b/>\n",
    "- 다이나믹 프로그램 사용 가능 조건\n",
    "  1. 큰 문제를 작은 문제로 나눌 수 있다.\n",
    "  2. 작은 문제에서 구한 정답은 그것을 포함하는 큰 문제에서도 동일하다.\n",
    "<br/>\n",
    "- 다이나믹 프로그래밍 구현 방법<br/>\n",
    "  - 메모이제이션 기법\n",
    "     - 한 번 구한 결과를 메모리 공간에 메모해두고 같은 식을 다시 호출하면 메모한 결과를 그대로 가져오는 기법\n",
    "     - 값을 저장하는 방법이므로 캐싱이라고도 한다.\n",
    "     - <b>구현방법: 한 번 구한 정보를 리스트에 저장하는 것<b/><br/><br/>\n",
    "  - 탑다운 방식: 재귀 함수를 이용하여 다이나믹 프로그래밍 구현\n",
    "  - 보텀업 방식: 반복문을 이용하여 다이나믹 프로그래밍 구현 (권장)"
   ]
  },
  {
   "cell_type": "code",
   "execution_count": null,
   "id": "durable-photography",
   "metadata": {},
   "outputs": [],
   "source": [
    "#8-1.py 피보나치 함수 소스코드\n",
    "def fibo(x):\n",
    "    if x == 1 or x == 2:\n",
    "        return 1\n",
    "    return fibo(x-1) + fibo(x-2)\n",
    "\n",
    "print(fibo(4))"
   ]
  },
  {
   "cell_type": "code",
   "execution_count": null,
   "id": "active-fancy",
   "metadata": {},
   "outputs": [],
   "source": [
    "#8-2.py 피보나치 수열 소스코드(재귀적)\n",
    "\n",
    "#한 번 계산된 결과를 메모제이션하기 위한 리스트 초기화\n",
    "d = [0] * 100\n",
    "\n",
    "#피보나치 함수를 재귀함수로 구현(탑다운 다이나믹 프로그래밍)\n",
    "def fibo(x):\n",
    "    #종료 조건(1 혹은 2일 때 1을 반환)\n",
    "    if x == 1 or x == 2:\n",
    "        return 1\n",
    "    #이미 계산한 적 있는 문제라면 그대로 반환\n",
    "    if d[x] != 0:\n",
    "        return d[x]\n",
    "    #아직 계산하지 않은 문제라면 점화식에 따라서 피보나치 결과 반환\n",
    "    d[x] = fibo(x-1) + fibo(x-2)\n",
    "    return d[x]\n",
    "\n",
    "print(fibo(99))"
   ]
  },
  {
   "cell_type": "code",
   "execution_count": null,
   "id": "pregnant-knife",
   "metadata": {},
   "outputs": [],
   "source": [
    "#8-3.py 호출되는 함수 확인\n",
    "d = [0] * 100\n",
    "\n",
    "def pibo(x):\n",
    "    print('f(' + str(x) + ')', end=' ')\n",
    "    if x == 1 or x == 2:\n",
    "        return 1\n",
    "    if d[x] != 0:\n",
    "        return d[x]\n",
    "    d[x] = pibo(x-1) + pibo(x-2)\n",
    "    return d[x]\n",
    "\n",
    "pibo(6)"
   ]
  },
  {
   "cell_type": "code",
   "execution_count": null,
   "id": "early-figure",
   "metadata": {},
   "outputs": [],
   "source": [
    "#8-4.py 피보나치 수열 소스코드(반복적)\n",
    "d = [0] * 100\n",
    "\n",
    "#첫 번째 피보나치 수와 두 번째 피보나치 수는 1\n",
    "d[1] = 1\n",
    "d[2] = 1\n",
    "n = 99\n",
    "\n",
    "#피보나치 함수 반복문으로 구현(보텀업 다이나믹 프로그래밍)\n",
    "for i in range(3, n+1):\n",
    "    d[i] = d[i-1] + d[i-2]\n",
    "    \n",
    "print(d[n])"
   ]
  },
  {
   "cell_type": "markdown",
   "id": "chief-greeting",
   "metadata": {},
   "source": [
    "### 실전문제 1. 1로 만들기"
   ]
  },
  {
   "cell_type": "code",
   "execution_count": null,
   "id": "particular-domain",
   "metadata": {},
   "outputs": [],
   "source": [
    "x = int(input())\n",
    "result = 0\n",
    "while x > 1:\n",
    "    if x % 5 == 0:\n",
    "        x /= 5\n",
    "    \n",
    "    elif (x-1) % 5 == 0:\n",
    "        x -= 1\n",
    "        \n",
    "    elif x % 3 == 0:\n",
    "        x /= 3\n",
    "        \n",
    "    elif (x-1) % 3 == 0:\n",
    "        x -= 1\n",
    "        \n",
    "    elif x % 2 == 0:\n",
    "        x /= 2\n",
    "        \n",
    "    else:\n",
    "        x -= 1 \n",
    "        \n",
    "    result += 1\n",
    "\n",
    "print(result)"
   ]
  },
  {
   "cell_type": "code",
   "execution_count": null,
   "id": "round-production",
   "metadata": {},
   "outputs": [],
   "source": [
    "# 8-5.py 답안 예시\n",
    "x = int(input())\n",
    "\n",
    "#앞서 계산된 결과를 저장하기 위한 DP 테이블 초기화\n",
    "d = [0] * 30001\n",
    "\n",
    "#다이나믹 프로그래밍 진행(보텀업)\n",
    "for i in range(2, x+1):\n",
    "    #현재의 수에서 1을 빼는 경우\n",
    "    d[i] = d[i-1] + 1\n",
    "    \n",
    "    #현재의 수가 2로 나누어 떨어질 경우\n",
    "    if i % 2 == 0:\n",
    "        d[i] = min(d[i], d[i // 2] + 1)\n",
    "    \n",
    "    #현재의 수가 3으로 나누어 떨어질 경우\n",
    "    if i % 3 == 0:\n",
    "        d[i] = min(d[i], d[i // 3] + 1)\n",
    "     \n",
    "    #현재의 수가 5로 나누어 떨어질 경우\n",
    "    if i % 5 == 0:\n",
    "        d[i] = min(d[i], d[i // 5] + 1)\n",
    "\n",
    "print(d[x])"
   ]
  },
  {
   "cell_type": "markdown",
   "id": "stable-gasoline",
   "metadata": {},
   "source": [
    "### 실전문제 2. 개미 전사"
   ]
  },
  {
   "cell_type": "code",
   "execution_count": null,
   "id": "apparent-monthly",
   "metadata": {},
   "outputs": [],
   "source": [
    "# 8-6.py 답안 예시\n",
    "n = int(input())\n",
    "array = list(map(int, input().split()))\n",
    "\n",
    "d = [0] * 100\n",
    "\n",
    "d[0] = array[0]\n",
    "d[1] = max(array[0], array[1])\n",
    "\n",
    "for i in range(2, n):\n",
    "    d[i] = max(d[i-1], d[i-2] + array[i])\n",
    "\n",
    "print(d[n-1])"
   ]
  },
  {
   "cell_type": "markdown",
   "id": "corrected-spencer",
   "metadata": {},
   "source": [
    "### 실전문제 3. 바닥 공사"
   ]
  },
  {
   "cell_type": "code",
   "execution_count": 2,
   "id": "professional-worry",
   "metadata": {},
   "outputs": [
    {
     "name": "stdout",
     "output_type": "stream",
     "text": [
      "3\n",
      "5\n"
     ]
    }
   ],
   "source": [
    "n = int(input())\n",
    "\n",
    "d = [0] * 1001\n",
    "d[1] = 1\n",
    "d[2] = 3\n",
    "\n",
    "for i in range(3, n+1):\n",
    "    d[i] = (d[i-1] + d[i-2] * 2) % 796796\n",
    "\n",
    "print(d[n])"
   ]
  },
  {
   "cell_type": "markdown",
   "id": "impaired-light",
   "metadata": {},
   "source": [
    "### 실전문제 4. 효율적인 화폐 구성"
   ]
  },
  {
   "cell_type": "code",
   "execution_count": 12,
   "id": "desirable-founder",
   "metadata": {},
   "outputs": [
    {
     "name": "stdout",
     "output_type": "stream",
     "text": [
      "2 15\n",
      "2\n",
      "3\n",
      "5\n"
     ]
    }
   ],
   "source": [
    "n, m = map(int, input().split())\n",
    "\n",
    "array = []\n",
    "for i in range(n):\n",
    "    array.append(int(input()))\n",
    "\n",
    "d = [10001] * (m+1)\n",
    "d[0] = 0\n",
    "\n",
    "for i in range(n):\n",
    "    for j in range(array[i], m+1):\n",
    "        if d[j - array[i]] != 10001:\n",
    "            d[j] = min(d[j], d[j-array[i]] + 1)\n",
    "\n",
    "if d[m] == 10001:\n",
    "    print(-1)\n",
    "else:\n",
    "    print(d[m])\n",
    "        "
   ]
  }
 ],
 "metadata": {
  "kernelspec": {
   "display_name": "Python 3",
   "language": "python",
   "name": "python3"
  },
  "language_info": {
   "codemirror_mode": {
    "name": "ipython",
    "version": 3
   },
   "file_extension": ".py",
   "mimetype": "text/x-python",
   "name": "python",
   "nbconvert_exporter": "python",
   "pygments_lexer": "ipython3",
   "version": "3.6.9"
  }
 },
 "nbformat": 4,
 "nbformat_minor": 5
}
