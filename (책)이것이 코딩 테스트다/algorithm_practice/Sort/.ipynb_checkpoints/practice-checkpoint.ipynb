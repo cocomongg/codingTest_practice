{
 "cells": [
  {
   "cell_type": "markdown",
   "id": "grateful-bridges",
   "metadata": {},
   "source": [
    "## 정렬: 데이터를 특정한 기준에 따라서 순서대로 나열"
   ]
  },
  {
   "cell_type": "markdown",
   "id": "gothic-sodium",
   "metadata": {},
   "source": [
    "### 1. 선택 정렬: \n",
    "- 가장 작은 데이터를 선택해 맨 앞에 있는 데이터와 바꾸고, 그 다음 작은 데이터를 선택해 앞에서 두 번째 데이터와 바꾸는 과정을 반복(시간복잡도: O(N^2))<br/>\n",
    "=> 가장 원시적인 방법으로 매번 '가장 작은 것을 선택'한다는 의미"
   ]
  },
  {
   "cell_type": "code",
   "execution_count": null,
   "id": "abstract-leone",
   "metadata": {},
   "outputs": [],
   "source": [
    "# 6-1.py 선택 정렬 소스코드\n",
    "array = [7, 5, 9, 0, 3, 1, 6, 2, 4, 8]\n",
    "\n",
    "for i in range(len(array)):\n",
    "    min_index = i # 가장 작은 원소의 인덱스\n",
    "    for j in range(i + 1, len(array)):\n",
    "        if array[min_index] > array[j]:\n",
    "            min_index = j\n",
    "    array[i], array[min_index] = array[min_index], array[i] #swap\n",
    "\n",
    "print(array)"
   ]
  },
  {
   "cell_type": "markdown",
   "id": "distant-cradle",
   "metadata": {},
   "source": [
    "### 2. 삽입 정렬:\n",
    "- 특정한 데이터를 적절한 위치에 '삽입', 특정한 데이터가 적절한 위치에 들어가기 이전에, 그 앞까지의 데이터는 이미 정렬되어 있다고 가정(시간복잡도: O(N^2))<br/>\n",
    "=> 현재 리스트의 데이터가 거의 정렬되어 있는 상태라면 매우 빠르게 동작, 최선의 경우 O(N)의 시간복잡도를 가짐"
   ]
  },
  {
   "cell_type": "code",
   "execution_count": null,
   "id": "pressing-danger",
   "metadata": {},
   "outputs": [],
   "source": [
    "# 6-3.py 삽입 정렬 소스코드\n",
    "array = [7, 5, 9, 0, 3, 1, 6, 2, 4, 8]\n",
    "\n",
    "for i in range (1, len(array)):\n",
    "    for j in range(i, 0, -1): #인덱스 i부터 1까지 감소하며 반복하는 문법\n",
    "        if array[j] < array[j-1]:\n",
    "            array[j], array[j-1] = array[j-1], array[j]\n",
    "        else:\n",
    "            break\n",
    "\n",
    "print(array)"
   ]
  },
  {
   "cell_type": "markdown",
   "id": "close-leather",
   "metadata": {},
   "source": [
    "### 3.퀵 정렬: \n",
    "- 기준을 설정한 다음 큰 수와 작은 수를 교환한 후 리스트를 반으로 나누는 방식으로 동작(시간복잡도: O(NlogN))\n",
    "- 피벗(pivot): 큰 수와 작은 수를 교환할 때, 교환하기 위한 '기준'\n",
    "- 가장 대표적인 분할 방식: 호어 분할 => 리스트에서 첫 번째 데이터를 피벗으로 정한다.<br/>\n",
    "=> 최악의 경우 (이미 데이터가 정렬되어 있는 경우) 에는 시간복잡도 O(N^2)"
   ]
  },
  {
   "cell_type": "code",
   "execution_count": null,
   "id": "iraqi-extra",
   "metadata": {},
   "outputs": [],
   "source": [
    "# 6-4.py 퀵 정렬 소스코드\n",
    "array = [5, 7, 9, 0, 3, 1, 6, 2, 4, 8]\n",
    "\n",
    "def quick_sort(array, start, end):\n",
    "    if start >= end: #원소가 1개인 경우 종료\n",
    "        return\n",
    "    pivot = start # 피벗은 첫 번째 원소\n",
    "    left = start + 1\n",
    "    right = end\n",
    "    \n",
    "    while left <= right:\n",
    "        #피벗보다 큰 데이터를 찾을 때까지 반복\n",
    "        while left <= end and array[left] <= array[pivot]:\n",
    "            left += 1\n",
    "        # 피벗보다 작은 데이터를 찾을 때까지 반복\n",
    "        while right > start and array[right] >= array[pivot]:\n",
    "            right -= 1\n",
    "        if left > right: #엇갈렸다면 작은 데이터와 피벗을 교체\n",
    "            array[right], array[pivot] = array[pivot], array[right]\n",
    "        else: # 엇갈리지 않았다면 작은 데이터와 큰 데이터를 교체\n",
    "            array[left], array[right] = array[right], array[left]\n",
    "    #분할 이후 왼쪽 부분과 오른쪽 부분에서 각각 정렬 수행\n",
    "    quick_sort(array, start, right-1)\n",
    "    quick_sort(array, right+1, end)\n",
    "\n",
    "quick_sort(array, 0, len(array)-1)\n",
    "print(array)\n",
    "        "
   ]
  },
  {
   "cell_type": "code",
   "execution_count": null,
   "id": "fuzzy-shade",
   "metadata": {},
   "outputs": [],
   "source": [
    "# 6-5.py 파이썬의 장점을 살린 퀵 정렬 소스코드\n",
    "array = [5, 7, 9, 0, 3, 1, 6, 2, 4, 8]\n",
    "\n",
    "def quick_sort(array):\n",
    "    if len(array) <= 1: #리스트가 하나 이하의 원소만 가지고 있으면 종료\n",
    "        return array\n",
    "    \n",
    "    pivot = array[0] #피벗은 첫 번째 원소\n",
    "    tail = array[1:] #피벗을 제외한 리스트\n",
    "    \n",
    "    left_side = [x for x in tail if x <= pivot] #분할된 왼쪽 부분\n",
    "    right_side = [x for x in tail if x > pivot] #분할된 오른쪽 부분\n",
    "    \n",
    "    # 분할 이후 왼쪽 부분과 오른쪽 부분에서 각각 정렬을 수행하고, 전체 리스트를 반환\n",
    "    return quick_sort(left_side) + [pivot] + quick_sort(right_side)\n",
    "\n",
    "print(quick_sort(array))"
   ]
  },
  {
   "cell_type": "markdown",
   "id": "straight-shelter",
   "metadata": {},
   "source": [
    "### 3.계수 정렬:\n",
    "- 별도의 리스트를 선언하고 그 안에 정렬에 대한 정보를 기록(별도의 리스트는 가장 작은수와 가장 큰 수 범위로 초기화 한다. 모두 값이 0인 리스트)\n",
    "- 특정한 조건이 부합할 때만 사용할 수 있지만 매우 빠른 정렬 알고리즘\n",
    "- 조건: '데이터의 크기 범위가 제한되어 정수 형태로 표현할 수 있을 때'(양의 정수와 0만)\n",
    "- 가장 큰 수와 가장 작은 수의 차이가 너무 크면 사용 불가.\n",
    "  - 이유: 계수정렬을 사용할 때 '모든 범위를 담을 수 있는 크기의 리스트를 선언'해야 하기 때문이다.\n",
    "- 시간복잡도: O(N + K), 데이터 개수(N) & 최대값 크기(K)<br/>\n",
    "=> 작은 수와 큰 수의 차이가 작고, 동일한 값을 가지는 데이터가 여러 개 등장할 때 적합하다.\n",
    "=> 코딩 테스트에서 정렬 알고리즘이 사용되는 경우\n",
    "   1. 정렬 라이브러리로 풀 수 있는 문제\n",
    "   2. 정렬 알고리즘의 원리에 대해서 물어보는 문제 (선택, 삽입, 퀵 정렬)\n",
    "   3. 더 빠른 정렬이 필요한 문제 (계수 정렬등의 다른 정렬 알고리즘)"
   ]
  },
  {
   "cell_type": "code",
   "execution_count": null,
   "id": "photographic-practitioner",
   "metadata": {},
   "outputs": [],
   "source": [
    "# 6-6.py 계수 정렬 소스코드\n",
    "\n",
    "# 모든 원소의 값이 0보다 크거나 같나고 가정\n",
    "array = [7, 5, 9, 0, 3, 1, 6, 2, 9, 1, 4, 8, 0, 5, 2]\n",
    "\n",
    "# 모든 범위를 포함하는 리스트 선언(모든 값은 0으로 초기화)\n",
    "count = [0] * (max(array) + 1)\n",
    "\n",
    "for i in range(len(array)):\n",
    "    count[array[i]] += 1 #각 데이터에 해당하는 인덱스의 값 증가\n",
    "    \n",
    "for i in range(len(count)): #리스트에 기록된 정렬 정보 확인\n",
    "    for j in range(count[i]):\n",
    "        print(i, end=' ') #띄어쓰기를 구분으로 등장한 횟수만큼 인덱스 출력"
   ]
  },
  {
   "cell_type": "raw",
   "id": "loved-sterling",
   "metadata": {},
   "source": [
    "### 4. 파이썬의 정렬 라이브러리\n",
    "- sorted() : 퀵 정렬과 동작 방식이 비슷한 병합 정렬을 기반으로 만들어짐, 최악의 경우에도 시간 복잡도는 O(NlogN)"
   ]
  },
  {
   "cell_type": "code",
   "execution_count": null,
   "id": "clean-entry",
   "metadata": {},
   "outputs": [],
   "source": [
    "# 6-7.py sorted 소스코드\n",
    "array = [7, 5, 9, 0, 3, 1, 6, 2, 4, 8]\n",
    "\n",
    "result = sorted(array)\n",
    "print(result)"
   ]
  },
  {
   "cell_type": "code",
   "execution_count": null,
   "id": "twenty-talent",
   "metadata": {},
   "outputs": [],
   "source": [
    "# 6-8.py sort 소스코드\n",
    "array = [7, 5, 9, 0, 3, 1, 6, 2, 4, 8]\n",
    "\n",
    "array.sort()\n",
    "print(array)"
   ]
  },
  {
   "cell_type": "code",
   "execution_count": null,
   "id": "australian-finder",
   "metadata": {},
   "outputs": [],
   "source": [
    "# 6-9.py 정렬 라이브러리에서 key를 활용한 소스코드\n",
    "array = [('바나나', 2), ('사과', 5), ('당근', 3)]\n",
    "\n",
    "def setting(data):\n",
    "    return data[1]\n",
    "\n",
    "result = sorted(array, key=setting) # key값으로는 하나의 함수가 들어가야 하며 이를 정렬 기준으로 사용\n",
    "print(result)"
   ]
  },
  {
   "cell_type": "markdown",
   "id": "accepting-depression",
   "metadata": {},
   "source": [
    "### 실전문제 1. 위에서 아래로\n",
    "- 큰 수 부터 작은 수의 순서로 정렬, 수열을 내림차순으로 정렬하는 알고리즘\n",
    "- 입력조건\n",
    "  - 첫째 줄: 수열에 속해 있는 수의 개수 N\n",
    "  - 듈째 줄: N+1번째 줄까지 N개의 수 입력"
   ]
  },
  {
   "cell_type": "code",
   "execution_count": null,
   "id": "proved-radar",
   "metadata": {},
   "outputs": [],
   "source": [
    "n = int(input())\n",
    "num_list = []\n",
    "\n",
    "for i in range(n):\n",
    "    num_list.append(int(input()))\n",
    "\n",
    "num_list.sort(reverse=True)\n",
    "\n",
    "for i in num_list:\n",
    "    print(i, end=' ')"
   ]
  },
  {
   "cell_type": "markdown",
   "id": "sufficient-cover",
   "metadata": {},
   "source": [
    "### 실전문제 2. 성적이 낮은 순서로 학생 출력하기 - 예시 답안 다시보기\n",
    "- N명의 학생 정보, 학생 정보는 학생의 이름과 학생의 성적으로 구분, 성적이 낮은 순서대로 학생의 이름 출력하기\n",
    "- 입력조건\n",
    "  - 첫째 줄: 학생의 수 N\n",
    "  - 듈째 줄: 학생의 이름, 공백, 해당 학생 성적"
   ]
  },
  {
   "cell_type": "code",
   "execution_count": null,
   "id": "protecting-leadership",
   "metadata": {},
   "outputs": [],
   "source": [
    "n = int(input())\n",
    "dict_ = {}\n",
    "\n",
    "for i in range(n):\n",
    "    name, score = input().split()\n",
    "    dict_[name] = int(score)\n",
    "\n",
    "def setting(data):\n",
    "    return data[1]\n",
    "\n",
    "result = sorted(dict_, key=setting)\n",
    "\n",
    "key_list = list(dict_.keys())\n",
    "for i in key_list:\n",
    "    print(i, end=' ')"
   ]
  },
  {
   "cell_type": "code",
   "execution_count": null,
   "id": "numerous-exchange",
   "metadata": {},
   "outputs": [],
   "source": [
    "#6-11.py 실전문제2 답안 예시\n",
    "n = int(input())\n",
    "\n",
    "array = []\n",
    "for i in range(n):\n",
    "    input_data = input().split()\n",
    "    array.append((input_data[0], int(input_data[1])))\n",
    "    \n",
    "array = sorted(array, key=lambda student:student[1])\n",
    "\n",
    "for student in array:\n",
    "    print(student[0], end=' ')"
   ]
  },
  {
   "cell_type": "markdown",
   "id": "protecting-payroll",
   "metadata": {},
   "source": [
    "### 실전문제 3. 두 배열의 원소 교체 - 예시 답안 다시보기\n",
    "- 두 개의 배열 A, B (배열의 길이는 둘다 N)\n",
    "- K번 만큼 두 배열의 데이터를 바꿔치기 할 수 있다.\n",
    "- 배열 A의 모든 원소의 합이 최대로 바꿔치기를 수행\n",
    "- 입력조건\n",
    "  - 첫째 줄: N, K가 공백으로 구분되어 입력된다.\n",
    "  - 듈째 줄: 배열 A 원소들이 공백으로 구분되어 입력된다.\n",
    "  - 셋째 줄: 배열 B 원소들이 공백으로 구분되어 입력된다."
   ]
  },
  {
   "cell_type": "code",
   "execution_count": null,
   "id": "dominant-sitting",
   "metadata": {},
   "outputs": [],
   "source": [
    "n, k = map(int, input().split())\n",
    "\n",
    "a = list(map(int, input().split()))\n",
    "b = list(map(int, input().split()))\n",
    "\n",
    "a.sort()\n",
    "b.sort(reverse=True)\n",
    "\n",
    "for i in range(k):\n",
    "    a[i], b[i] = b[i], a[i]\n",
    "\n",
    "result = sum(a)\n",
    "print(result)"
   ]
  },
  {
   "cell_type": "code",
   "execution_count": null,
   "id": "extra-southeast",
   "metadata": {},
   "outputs": [],
   "source": [
    "#6-12.py 실전문제3 답안 예시\n",
    "n, k = map(int, input().split())\n",
    "\n",
    "a = list(map(int, input().split()))\n",
    "b = list(map(int, input().split()))\n",
    "\n",
    "a.sort()\n",
    "b.sort(reverse=True)\n",
    "\n",
    "for i in range(k):\n",
    "    if a[i] < b[i]:\n",
    "        a[i], b[i] = b[i], a[i]\n",
    "    else:\n",
    "        break\n",
    "\n",
    "result = sum(a)\n",
    "print(result)"
   ]
  }
 ],
 "metadata": {
  "kernelspec": {
   "display_name": "Python 3",
   "language": "python",
   "name": "python3"
  },
  "language_info": {
   "codemirror_mode": {
    "name": "ipython",
    "version": 3
   },
   "file_extension": ".py",
   "mimetype": "text/x-python",
   "name": "python",
   "nbconvert_exporter": "python",
   "pygments_lexer": "ipython3",
   "version": "3.6.9"
  }
 },
 "nbformat": 4,
 "nbformat_minor": 5
}
