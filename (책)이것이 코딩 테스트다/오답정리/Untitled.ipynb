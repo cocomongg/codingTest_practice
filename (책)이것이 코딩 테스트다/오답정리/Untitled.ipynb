{
 "cells": [
  {
   "cell_type": "code",
   "execution_count": null,
   "id": "accomplished-montreal",
   "metadata": {},
   "outputs": [],
   "source": [
    "from collections import deque\n",
    "\n",
    "def solution(numbers, target):\n",
    "    answer = 0\n",
    "    length = len(numbers)\n",
    "    \n",
    "    queue = deque()\n",
    "    queue.append([numbers[0], 0])\n",
    "    queue.append([-numbers[0], 0])\n",
    "\n",
    "    while queue:\n",
    "        now_val, now_idx = queue.popleft()\n",
    "        \n",
    "        next_idx = now_idx + 1\n",
    "        if next_idx < length:\n",
    "            queue.append([now_val + numbers[next_idx], next_idx])\n",
    "            queue.append([now_val - numbers[next_idx], next_idx])\n",
    "        else:\n",
    "            if target == now_val:\n",
    "                answer+=1\n",
    "    \n",
    "    return answer\n",
    "\n",
    "solution([1, 1, 1, 1, 1], 3)"
   ]
  },
  {
   "cell_type": "code",
   "execution_count": null,
   "id": "expressed-pattern",
   "metadata": {},
   "outputs": [],
   "source": [
    "def solution(numbers, target):\n",
    "    answer = 0\n",
    "    length = len(numbers)\n",
    "    \n",
    "    def dfs(idx, result):\n",
    "        if idx == length:\n",
    "            if result == target:\n",
    "                nonlocal answer\n",
    "                answer += 1\n",
    "            return\n",
    "        else:\n",
    "            dfs(idx+1, result+numbers[idx])\n",
    "            dfs(idx+1, result-numbers[idx])\n",
    "    \n",
    "    dfs(0, 0)\n",
    "    return answer\n",
    "solution([1, 1, 1, 1, 1], 3)"
   ]
  },
  {
   "cell_type": "code",
   "execution_count": 38,
   "id": "coordinate-reliance",
   "metadata": {},
   "outputs": [
    {
     "name": "stdout",
     "output_type": "stream",
     "text": [
      "+-*\n",
      "+*-\n",
      "-+*\n",
      "-*+\n",
      "*+-\n",
      "*-+\n"
     ]
    },
    {
     "data": {
      "text/plain": [
       "300"
      ]
     },
     "execution_count": 38,
     "metadata": {},
     "output_type": "execute_result"
    }
   ],
   "source": [
    "from itertools import permutations\n",
    "def calc(left, right, op):\n",
    "    result = 0\n",
    "    if op == '+':\n",
    "        result = left + right\n",
    "        \n",
    "    elif op == '-':\n",
    "        result = left - right\n",
    "\n",
    "    elif op == '*':\n",
    "        result = left * right\n",
    "    \n",
    "    return result\n",
    "    \n",
    "def solution(expression):\n",
    "    answer = 0\n",
    "    oper = ['+', '-', '*']\n",
    "    priority_op = list(map(''.join, permutations(oper)))\n",
    "    \n",
    "    max_val = 0\n",
    "    \n",
    "    for i in range(len(priority_op)):\n",
    "        oper = priority_op[i]\n",
    "        print(oper)\n",
    "        j = 0\n",
    "        nums = []\n",
    "        opers = []\n",
    "        \n",
    "        for i in range(len(expression)):\n",
    "            if expression[i] == '+' or expression[i] == '-' or expression[i] == '*':\n",
    "                num = expression[j:i]\n",
    "                nums.append(int(num))\n",
    "                opers.append(expression[i])\n",
    "                j = i + 1\n",
    "        \n",
    "        num = expression[j:len(expression)]\n",
    "        nums.append(int(num))\n",
    "        \n",
    "        for op_idx in range(3):\n",
    "            op = oper[op_idx]\n",
    "            \n",
    "            i = 0\n",
    "            while i < len(opers):\n",
    "                if opers[i] == op:\n",
    "                    result = calc(nums[i], nums[i+1], opers[i])\n",
    "                    nums[i] = result\n",
    "                    nums.pop(i+1)\n",
    "                    opers.pop(i)\n",
    "                    i -= 1\n",
    "                i+=1\n",
    "        temp = abs(nums[0])\n",
    "        max_val = max(max_val, temp)\n",
    "        \n",
    "    answer = max_val\n",
    "    return answer\n",
    "solution(\"50*6-3*2\")"
   ]
  },
  {
   "cell_type": "code",
   "execution_count": 34,
   "id": "identical-pound",
   "metadata": {},
   "outputs": [
    {
     "name": "stdout",
     "output_type": "stream",
     "text": [
      "['+-*', '+*-', '-+*', '-*+', '*+-', '*-+']\n"
     ]
    }
   ],
   "source": [
    "pr = ['+','-','*']\n",
    "pm = list(map(''.join, permutations(pr)))\n",
    "print(pm)"
   ]
  }
 ],
 "metadata": {
  "kernelspec": {
   "display_name": "Python 3",
   "language": "python",
   "name": "python3"
  },
  "language_info": {
   "codemirror_mode": {
    "name": "ipython",
    "version": 3
   },
   "file_extension": ".py",
   "mimetype": "text/x-python",
   "name": "python",
   "nbconvert_exporter": "python",
   "pygments_lexer": "ipython3",
   "version": "3.6.9"
  }
 },
 "nbformat": 4,
 "nbformat_minor": 5
}
