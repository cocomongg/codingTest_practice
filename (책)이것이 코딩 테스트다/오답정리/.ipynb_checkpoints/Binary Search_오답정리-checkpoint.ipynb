{
 "cells": [
  {
   "cell_type": "markdown",
   "id": "disabled-positive",
   "metadata": {},
   "source": [
    "## 문제 27. 정렬된 배열에서 특정 수의 개수 구하기( X, 다시풀기)"
   ]
  },
  {
   "cell_type": "code",
   "execution_count": null,
   "id": "operating-story",
   "metadata": {},
   "outputs": [],
   "source": [
    "# 포인트: bisect라이브러리 사용\n",
    "# bisect 라이브러리란?\n",
    "# => 원소들이 정렬된 리스트에서 특정 원소를 찾을 때 효과적이다.\n",
    "# bisect_left(list, data): list에 data를 삽입할 가장 왼쪽 인덱스를 찾는 함수\n",
    "# bisect_rigth(list, data): list에 data를 삽입할 가장 오른쪽 인덱스를 찾는 함수\n",
    "# **위에 두 함수는 원소들이 정렬된 리스트에서 특정 범위 내에 속하는 특정 값의 개수를 구할 때 효과적\n",
    "\n",
    "from bisect import bisect_left, bisect_right\n",
    "\n",
    "def count_by_range(array, left_value, right_value):\n",
    "    right_index = bisect_right(array, right_value) # 경계(right_value)포함 인덱스 반환\n",
    "    left_index = bisect_left(array, left_value) # 경계(left_value)전 인덱스 반환\n",
    "    \n",
    "    return right_index - left_index\n",
    "\n",
    "n, target = map(int, input().split())\n",
    "array = list(map(int, input().split()))\n",
    "\n",
    "# 값이 target ~ target범위에 있는 데이터의 개수 계산\n",
    "result = count_by_range(array, target, target)\n",
    "\n",
    "if result == 0:\n",
    "    print(-1)\n",
    "    \n",
    "else:\n",
    "    print(result)"
   ]
  },
  {
   "cell_type": "markdown",
   "id": "charitable-washer",
   "metadata": {},
   "source": [
    "## 문제 29. 공유기 설치(X, 다시풀기)"
   ]
  },
  {
   "cell_type": "code",
   "execution_count": null,
   "id": "alpha-rhythm",
   "metadata": {},
   "outputs": [],
   "source": []
  },
  {
   "cell_type": "markdown",
   "id": "sublime-greensboro",
   "metadata": {},
   "source": [
    "## 문제 30. 가사 검색"
   ]
  },
  {
   "cell_type": "code",
   "execution_count": null,
   "id": "intermediate-graphic",
   "metadata": {},
   "outputs": [],
   "source": []
  }
 ],
 "metadata": {
  "kernelspec": {
   "display_name": "Python 3",
   "language": "python",
   "name": "python3"
  },
  "language_info": {
   "codemirror_mode": {
    "name": "ipython",
    "version": 3
   },
   "file_extension": ".py",
   "mimetype": "text/x-python",
   "name": "python",
   "nbconvert_exporter": "python",
   "pygments_lexer": "ipython3",
   "version": "3.6.9"
  }
 },
 "nbformat": 4,
 "nbformat_minor": 5
}
