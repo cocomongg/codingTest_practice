{
 "cells": [
  {
   "cell_type": "code",
   "execution_count": 21,
   "id": "sharing-crisis",
   "metadata": {},
   "outputs": [
    {
     "data": {
      "text/plain": [
       "5"
      ]
     },
     "execution_count": 21,
     "metadata": {},
     "output_type": "execute_result"
    }
   ],
   "source": [
    "from collections import deque\n",
    "\n",
    "def solution(numbers, target):\n",
    "    answer = 0\n",
    "    length = len(numbers)\n",
    "    \n",
    "    queue = deque()\n",
    "    queue.append([numbers[0], 0])\n",
    "    queue.append([-numbers[0], 0])\n",
    "\n",
    "    while queue:\n",
    "        now_val, now_idx = queue.popleft()\n",
    "        \n",
    "        next_idx = now_idx + 1\n",
    "        if next_idx < length:\n",
    "            queue.append([now_val + numbers[next_idx], next_idx])\n",
    "            queue.append([now_val - numbers[next_idx], next_idx])\n",
    "        else:\n",
    "            if target == now_val:\n",
    "                answer+=1\n",
    "    \n",
    "    return answer\n",
    "\n",
    "solution([1, 1, 1, 1, 1], 3)"
   ]
  },
  {
   "cell_type": "code",
   "execution_count": 32,
   "id": "running-warrior",
   "metadata": {},
   "outputs": [
    {
     "data": {
      "text/plain": [
       "5"
      ]
     },
     "execution_count": 32,
     "metadata": {},
     "output_type": "execute_result"
    }
   ],
   "source": [
    "def solution(numbers, target):\n",
    "    answer = 0\n",
    "    length = len(numbers)\n",
    "    \n",
    "    def dfs(idx, result):\n",
    "        if idx == length:\n",
    "            if result == target:\n",
    "                nonlocal answer\n",
    "                answer += 1\n",
    "            return\n",
    "        else:\n",
    "            dfs(idx+1, result+numbers[idx])\n",
    "            dfs(idx+1, result-numbers[idx])\n",
    "    \n",
    "    dfs(0, 0)\n",
    "    return answer\n",
    "solution([1, 1, 1, 1, 1], 3)"
   ]
  }
 ],
 "metadata": {
  "kernelspec": {
   "display_name": "Python 3",
   "language": "python",
   "name": "python3"
  },
  "language_info": {
   "codemirror_mode": {
    "name": "ipython",
    "version": 3
   },
   "file_extension": ".py",
   "mimetype": "text/x-python",
   "name": "python",
   "nbconvert_exporter": "python",
   "pygments_lexer": "ipython3",
   "version": "3.6.9"
  }
 },
 "nbformat": 4,
 "nbformat_minor": 5
}
