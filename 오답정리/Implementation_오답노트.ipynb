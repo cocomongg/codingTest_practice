{
 "cells": [
  {
   "cell_type": "markdown",
   "id": "fitting-calculation",
   "metadata": {},
   "source": [
    "## 문제8. 문자열 재정렬(O, join함수 사용법과, isalpha 함수 다시 보기)"
   ]
  },
  {
   "cell_type": "code",
   "execution_count": null,
   "id": "significant-submission",
   "metadata": {},
   "outputs": [],
   "source": [
    "data = input()\n",
    "result = []\n",
    "num = 0\n",
    "\n",
    "for i in data:\n",
    "    if i >='A' and i<='Z':\n",
    "        result.append(i)\n",
    "    else:\n",
    "        num += int(i)\n",
    "\n",
    "result.sort()\n",
    "result.append(str(num))\n",
    "print(''.join(result))"
   ]
  },
  {
   "cell_type": "code",
   "execution_count": null,
   "id": "seven-style",
   "metadata": {},
   "outputs": [],
   "source": [
    "# 예시답안\n",
    "data = input()\n",
    "result = []\n",
    "value = 0\n",
    "\n",
    "# 문자를 하나씩 확인하며\n",
    "for x in data:\n",
    "    # 알파벳인 경우 결과 리스트에 삽입\n",
    "    if x.isalpha():\n",
    "        result.append(x)\n",
    "    # 숫자는 따로 더하기\n",
    "    else:\n",
    "        value += int(x)\n",
    "\n",
    "# 알파벳을 오름차순으로 정렬\n",
    "result.sort()\n",
    "\n",
    "# 숫자가 하나라도 존재하는 경우 가장 뒤에 삽입\n",
    "if value != 0:\n",
    "    result.append(str(value))\n",
    "\n",
    "# 최종 결과 출력(리스트를 문자열로 변환하여 출력)\n",
    "print(''.join(result))"
   ]
  },
  {
   "cell_type": "markdown",
   "id": "considerable-jones",
   "metadata": {},
   "source": [
    "## 문제 9. 문자열 압축(△, 한 글자만 있는 경우를 고려 하지 않아 96점.., 다시풀어보기)"
   ]
  },
  {
   "cell_type": "code",
   "execution_count": null,
   "id": "approximate-trial",
   "metadata": {},
   "outputs": [],
   "source": [
    "# 오답 review: 한글자만 있는 경우를 고려하지 않았다. 처음 코드에서 7번째줄 result = length + 1 이렇게 함으로써 \n",
    "#             한 자리수를 가진 문자열에 대해 처리가 안되었다.. 예시답안의 풀이방법과는 똑같다.\n",
    "\n",
    "def solution(s):\n",
    "    answer = 0\n",
    "\n",
    "    length = len(s) #문자열 길이\n",
    "    result = length\n",
    "    \n",
    "    for unit in range(1, length // 2 + 1):\n",
    "        string = \"\"\n",
    "        first = s[0:unit]\n",
    "        count = 1\n",
    "        for i in range(unit, length, unit):\n",
    "            \n",
    "            if first == s[i:i+unit]:\n",
    "                count += 1\n",
    "            else:\n",
    "                if count > 1:\n",
    "                    string += str(count) + first\n",
    "                else:\n",
    "                    string += first\n",
    "                count = 1\n",
    "                first = s[i:i+unit]\n",
    "        \n",
    "        #27번째줄 ~30번째줄 string += str(count) + first if count >= 2 else first 대체 가능 \n",
    "        if count > 1:\n",
    "            string += str(count) + first\n",
    "        else:\n",
    "            string += first\n",
    "\n",
    "        result = min(len(string), result)\n",
    "        \n",
    "    answer = result\n",
    "    return answer\n",
    "\n",
    "\n",
    "solution(s)"
   ]
  },
  {
   "cell_type": "markdown",
   "id": "friendly-chile",
   "metadata": {},
   "source": [
    "## 문제 10. 자물쇠와 열쇠 (X, 다시풀기)"
   ]
  },
  {
   "cell_type": "code",
   "execution_count": null,
   "id": "hungry-scale",
   "metadata": {},
   "outputs": [],
   "source": [
    "# 포인트: 완전탐색, 탐색을 좀 더 편리하게 하기 위해 자물쇠의 크기를 3배로 확장한다.\n",
    "# 2차원 리스트 회전하는 함수 rotate_a_matrix_by_90_degree() 참고하기\n",
    "\n",
    "def rotate_a_matrix_by_90_degree(a):\n",
    "    n = len(a) #행 길이 계산\n",
    "    m = len(a[0]) #열 길이 계산\n",
    "    \n",
    "    result = [[0] * n for _ in range(m)] #결과 리스트\n",
    "    \n",
    "    for i in range(n):\n",
    "        for j in range(m):\n",
    "            result[j][n - i - 1] = a[i][j]\n",
    "    \n",
    "    return result\n",
    "\n",
    "# 확장된 자물쇠 가운데에 1로 채워져 있는지 확인\n",
    "def check(new_lock):\n",
    "    lock_length = len(new_lock) // 3\n",
    "    \n",
    "    for i in range(lock_length, lock_length*2):\n",
    "        for j in range(lock_length, lock_length*2):\n",
    "            if new_lock[i][j] != 1:\n",
    "                return False\n",
    "            \n",
    "    return True\n",
    "\n",
    "def solution(key, lock):\n",
    "    answer = True\n",
    "    \n",
    "    n = len(lock)\n",
    "    m = len(key)\n",
    "    \n",
    "    new_lock = [[0] * (n*3) for _ in range(n*3)]\n",
    "\n",
    "    for i in range(n):\n",
    "        for j in range(n):\n",
    "            new_lock[i+n][j+n] = lock[i][j]\n",
    "            \n",
    "    for _ in range(4):\n",
    "        key = rotata_a_matrix_by_90_degree(key)\n",
    "        \n",
    "        for x in range(n * 2):\n",
    "            for y in range(n * 2):\n",
    "                for i in range(m):\n",
    "                    for j in range(m):\n",
    "                        new_lock[x+i][y+j] += key[i][j]\n",
    "                \n",
    "                if check(new_lock):\n",
    "                    return True\n",
    "                \n",
    "                # 자물쇠에 안끼워졌으면 키 다시 빼기\n",
    "                for i in range(m):\n",
    "                    for j in range(m):\n",
    "                        new_lock[x+i][y+j] -= key[i][j]\n",
    "                        \n",
    "                        \n",
    "    return False"
   ]
  },
  {
   "cell_type": "markdown",
   "id": "efficient-denver",
   "metadata": {},
   "source": [
    "## 문제 11. 뱀"
   ]
  },
  {
   "cell_type": "code",
   "execution_count": null,
   "id": "homeless-blackberry",
   "metadata": {},
   "outputs": [],
   "source": []
  }
 ],
 "metadata": {
  "kernelspec": {
   "display_name": "Python 3",
   "language": "python",
   "name": "python3"
  },
  "language_info": {
   "codemirror_mode": {
    "name": "ipython",
    "version": 3
   },
   "file_extension": ".py",
   "mimetype": "text/x-python",
   "name": "python",
   "nbconvert_exporter": "python",
   "pygments_lexer": "ipython3",
   "version": "3.6.9"
  }
 },
 "nbformat": 4,
 "nbformat_minor": 5
}
