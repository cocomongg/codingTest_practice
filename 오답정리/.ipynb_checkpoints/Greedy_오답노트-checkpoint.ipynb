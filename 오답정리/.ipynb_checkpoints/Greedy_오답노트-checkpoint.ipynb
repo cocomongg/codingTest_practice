{
 "cells": [
  {
   "cell_type": "markdown",
   "id": "nutritional-fellowship",
   "metadata": {},
   "source": [
    " ## 문제 1. 모험가 길드 (X, 다시풀기)"
   ]
  },
  {
   "cell_type": "code",
   "execution_count": 1,
   "id": "premier-opera",
   "metadata": {},
   "outputs": [
    {
     "name": "stdout",
     "output_type": "stream",
     "text": [
      "5\n",
      "2 3 1 2 2\n",
      "2\n"
     ]
    }
   ],
   "source": [
    "# 포인트: 그룹수의 최대값이므로 공포도를 낮은 것부터 확인.\n",
    "n = int(input())\n",
    "data = list(map(int, input().split()))\n",
    "data.sort()\n",
    "\n",
    "result = 0 # 총 그룹의 수\n",
    "count = 0 # 현재 그룹에 포함된 모험가의 수\n",
    "\n",
    "for i in data: # 최대 그룹이므로 공포도를 낮은 것부터 확인하는게 포인트\n",
    "    count += 1\n",
    "    \n",
    "    if count >= i: \n",
    "        result += 1\n",
    "        count = 0\n",
    "        \n",
    "print(result)"
   ]
  },
  {
   "cell_type": "markdown",
   "id": "executive-induction",
   "metadata": {},
   "source": [
    "## 문제 3. 문자열 뒤집기 (X, 다시풀기)"
   ]
  },
  {
   "cell_type": "code",
   "execution_count": 2,
   "id": "molecular-quality",
   "metadata": {},
   "outputs": [
    {
     "name": "stdout",
     "output_type": "stream",
     "text": [
      "0001100\n",
      "1\n"
     ]
    }
   ],
   "source": [
    "#포인트: 전부 0으로 바꾸는 경우와 전부 1로 바꾸는 경우 중에서 더 작은 횟수를 가지는 경우 찾기\n",
    "# 맨처음에는 연속적인 것을 어떻게 찾지라는 의문이 들었는데 예시 답안은 연속적이지 않을 때를 찾는 방법이였다.\n",
    "# 다음에는 반대로도 생각해봐야겠다.\n",
    "\n",
    "data = input()\n",
    "\n",
    "count0 = 0 # 전부 0으로 바꾸는 경우\n",
    "count1 = 1 # 전부 1로 바꾸는 경우\n",
    "\n",
    "if data[0] == '1':\n",
    "    count0 += 1\n",
    "else:\n",
    "    count1 += 1\n",
    "    \n",
    "for i in range(len(data) - 1):\n",
    "    if data[i] != data[i+1]: #연속적이지 않을 때\n",
    "\n",
    "        # 0 -> 1로 바뀔 때\n",
    "        if data[i+1] == '1': \n",
    "            count0 += 1\n",
    "        # 1 -> 0 으로 바뀔 때\n",
    "        else:    \n",
    "            count1 += 1\n",
    "            \n",
    "print(min(count0, count1))\n",
    "    "
   ]
  },
  {
   "cell_type": "markdown",
   "id": "organized-karen",
   "metadata": {},
   "source": [
    "## 문제 4. 만들 수 없는 금액 (X, 다시 풀기)"
   ]
  },
  {
   "cell_type": "code",
   "execution_count": 10,
   "id": "operational-range",
   "metadata": {},
   "outputs": [
    {
     "name": "stdout",
     "output_type": "stream",
     "text": [
      "5\n",
      "3 2 1 1 9\n",
      "8\n"
     ]
    }
   ],
   "source": [
    "# 포인트: 동전 단위를 오름차순으로 정렬 후 target이라는 변수와 계속 비교하며 누적시키기\n",
    "# target == coins[i] 이면 해당 target을 만들 수 있다.\n",
    "# target > coins[i] 이면 해당 target을 만들 수 있다.\n",
    "n = int(input())\n",
    "coins = list(map(int, input().split()))\n",
    "coins.sort()\n",
    "\n",
    "target = 1\n",
    "for x in coins:\n",
    "    #만들 수 없는 금액을 찾았을 때 반복 종료\n",
    "    if target < x:\n",
    "        break\n",
    "    target += x\n",
    "    \n",
    "print(target)"
   ]
  },
  {
   "cell_type": "markdown",
   "id": "wrong-parade",
   "metadata": {},
   "source": [
    "## 문제 5. 볼링공 고르기 (△, 효율적인 방법으로 다시 풀어보기)"
   ]
  },
  {
   "cell_type": "code",
   "execution_count": 7,
   "id": "continental-pickup",
   "metadata": {},
   "outputs": [
    {
     "name": "stdout",
     "output_type": "stream",
     "text": [
      "8 5\n",
      "1 5 4 3 2 4 5 2\n",
      "25\n"
     ]
    }
   ],
   "source": [
    "from itertools import combinations\n",
    "\n",
    "n, m = map(int, input().split())\n",
    "data = list(map(int, input().split()))\n",
    "\n",
    "index = [i for i in range(1, n+1)]\n",
    "nC2 = list(combinations(index, 2))\n",
    "\n",
    "result = 0\n",
    "\n",
    "for i in nC2:\n",
    "    a, b = i\n",
    "    if data[a-1] == data[b-1]:\n",
    "        continue\n",
    "    \n",
    "    result+=1\n",
    "\n",
    "print(result)"
   ]
  },
  {
   "cell_type": "code",
   "execution_count": 8,
   "id": "announced-trustee",
   "metadata": {},
   "outputs": [
    {
     "name": "stdout",
     "output_type": "stream",
     "text": [
      "8 5\n",
      "1 5 4 3 2 4 5 2\n",
      "25\n"
     ]
    }
   ],
   "source": [
    "# 예시답안, 내가 푼 코드보다 효율성이 더 좋다.\n",
    "n, m = map(int, input().split())\n",
    "data = list(map(int, input().split()))\n",
    "\n",
    "# 무게 1 부터 10까지 담을 리스트\n",
    "array = [0] * 11 \n",
    "\n",
    "for x in data:\n",
    "    #각 무게에 해당하는 볼링공 개수 카운트\n",
    "    array[x] += 1\n",
    "    \n",
    "result = 0\n",
    "for i in range(1, m+1):\n",
    "    n -= array[i] #무게가 i인 볼링공의 개수 제외(A가 선택할 수 있는 개수)\n",
    "    result += array[i] * n #B가 선택하는 경우의 수와 곱해주기\n",
    "    \n",
    "print(result)"
   ]
  }
 ],
 "metadata": {
  "kernelspec": {
   "display_name": "Python 3",
   "language": "python",
   "name": "python3"
  },
  "language_info": {
   "codemirror_mode": {
    "name": "ipython",
    "version": 3
   },
   "file_extension": ".py",
   "mimetype": "text/x-python",
   "name": "python",
   "nbconvert_exporter": "python",
   "pygments_lexer": "ipython3",
   "version": "3.6.9"
  }
 },
 "nbformat": 4,
 "nbformat_minor": 5
}
