{
 "cells": [
  {
   "cell_type": "markdown",
   "id": "nutritional-fellowship",
   "metadata": {},
   "source": [
    " ## 문제 1. 모험가 길드 (X, 다시풀기)"
   ]
  },
  {
   "cell_type": "code",
   "execution_count": null,
   "id": "premier-opera",
   "metadata": {},
   "outputs": [],
   "source": [
    "# 포인트: 그룹수의 최대값이므로 공포도를 낮은 것부터 확인.\n",
    "n = int(input())\n",
    "data = list(map(int, input().split()))\n",
    "data.sort()\n",
    "\n",
    "result = 0 # 총 그룹의 수\n",
    "count = 0 # 현재 그룹에 포함된 모험가의 수\n",
    "\n",
    "for i in data: # 최대 그룹이므로 공포도를 낮은 것부터 확인하는게 포인트\n",
    "    count += 1\n",
    "    \n",
    "    if count >= i: \n",
    "        result += 1\n",
    "        count = 0\n",
    "        \n",
    "print(result)"
   ]
  },
  {
   "cell_type": "markdown",
   "id": "executive-induction",
   "metadata": {},
   "source": [
    "## 문제 3. 문자열 뒤집기 (X, 다시풀기)"
   ]
  },
  {
   "cell_type": "code",
   "execution_count": null,
   "id": "molecular-quality",
   "metadata": {},
   "outputs": [],
   "source": [
    "#포인트: 전부 0으로 바꾸는 경우와 전부 1로 바꾸는 경우 중에서 더 작은 횟수를 가지는 경우 찾기\n",
    "# 맨처음에는 연속적인 것을 어떻게 찾지라는 의문이 들었는데 예시 답안은 연속적이지 않을 때를 찾는 방법이였다.\n",
    "# 다음에는 반대로도 생각해봐야겠다.\n",
    "\n",
    "data = input()\n",
    "\n",
    "count0 = 0 # 전부 0으로 바꾸는 경우\n",
    "count1 = 1 # 전부 1로 바꾸는 경우\n",
    "\n",
    "if data[0] == '1':\n",
    "    count0 += 1\n",
    "else:\n",
    "    count1 += 1\n",
    "    \n",
    "for i in range(len(data) - 1):\n",
    "    if data[i] != data[i+1]: #연속적이지 않을 때\n",
    "\n",
    "        # 0 -> 1로 바뀔 때\n",
    "        if data[i+1] == '1': \n",
    "            count0 += 1\n",
    "        # 1 -> 0 으로 바뀔 때\n",
    "        else:    \n",
    "            count1 += 1\n",
    "            \n",
    "print(min(count0, count1))\n",
    "    "
   ]
  },
  {
   "cell_type": "markdown",
   "id": "organized-karen",
   "metadata": {},
   "source": [
    "## 문제 4. 만들 수 없는 금액 (X, 다시 풀기)"
   ]
  },
  {
   "cell_type": "code",
   "execution_count": null,
   "id": "operational-range",
   "metadata": {},
   "outputs": [],
   "source": [
    "# 포인트: 동전 단위를 오름차순으로 정렬 후 target이라는 변수와 계속 비교하며 누적시키기\n",
    "# target == coins[i] 이면 해당 target을 만들 수 있다.\n",
    "# target > coins[i] 이면 해당 target을 만들 수 있다.\n",
    "n = int(input())\n",
    "coins = list(map(int, input().split()))\n",
    "coins.sort()\n",
    "\n",
    "target = 1\n",
    "for x in coins:\n",
    "    #만들 수 없는 금액을 찾았을 때 반복 종료\n",
    "    if target < x:\n",
    "        break\n",
    "    target += x\n",
    "    \n",
    "print(target)"
   ]
  },
  {
   "cell_type": "markdown",
   "id": "wrong-parade",
   "metadata": {},
   "source": [
    "## 문제 5. 볼링공 고르기 (△, 효율적인 방법으로 다시 풀어보기)"
   ]
  },
  {
   "cell_type": "code",
   "execution_count": null,
   "id": "continental-pickup",
   "metadata": {},
   "outputs": [],
   "source": [
    "from itertools import combinations\n",
    "\n",
    "n, m = map(int, input().split())\n",
    "data = list(map(int, input().split()))\n",
    "\n",
    "index = [i for i in range(1, n+1)]\n",
    "nC2 = list(combinations(index, 2))\n",
    "\n",
    "result = 0\n",
    "\n",
    "for i in nC2:\n",
    "    a, b = i\n",
    "    if data[a-1] == data[b-1]:\n",
    "        continue\n",
    "    \n",
    "    result+=1\n",
    "\n",
    "print(result)"
   ]
  },
  {
   "cell_type": "code",
   "execution_count": null,
   "id": "announced-trustee",
   "metadata": {},
   "outputs": [],
   "source": [
    "# 예시답안, 내가 푼 코드보다 효율성이 더 좋다.\n",
    "n, m = map(int, input().split())\n",
    "data = list(map(int, input().split()))\n",
    "\n",
    "# 무게 1 부터 10까지 담을 리스트\n",
    "array = [0] * 11 \n",
    "\n",
    "for x in data:\n",
    "    #각 무게에 해당하는 볼링공 개수 카운트\n",
    "    array[x] += 1\n",
    "    \n",
    "result = 0\n",
    "for i in range(1, m+1):\n",
    "    n -= array[i] #무게가 i인 볼링공의 개수 제외(A가 선택할 수 있는 개수)\n",
    "    result += array[i] * n #B가 선택하는 경우의 수와 곱해주기\n",
    "    \n",
    "print(result)"
   ]
  },
  {
   "cell_type": "markdown",
   "id": "bacterial-fundamentals",
   "metadata": {},
   "source": [
    "## 문제 6. 무지의 먹방 라이브(X, 다시풀기)"
   ]
  },
  {
   "cell_type": "code",
   "execution_count": null,
   "id": "selected-concord",
   "metadata": {},
   "outputs": [],
   "source": [
    "def solution(food_times, k):\n",
    "    answer = 0\n",
    "    length = len(food_times)\n",
    "    \n",
    "    index = 0\n",
    "    \n",
    "    for i in range(k):\n",
    "        find = False\n",
    "        \n",
    "        if food_times[index % length] == 0:\n",
    "            print(index)\n",
    "            for j in range((index % length) +1, length):\n",
    "                if food_times[j] != 0:\n",
    "                    food_times[j] -= 1\n",
    "                    index += j\n",
    "                    find = True\n",
    "                    break\n",
    "            if not find:\n",
    "                for j in range(0, index % length +1):\n",
    "                    if food_times[j] != 0:\n",
    "                        food_times[j] -= 1\n",
    "                        index += j\n",
    "                        break\n",
    "    \n",
    "        else:\n",
    "            food_times[index % length] -= 1\n",
    "            index += 1\n",
    "        \n",
    "        \n",
    "    print(food_times)\n",
    "    print(index)\n",
    "    \n",
    "    return answer\n",
    "\n",
    "solution(food_times, k)"
   ]
  },
  {
   "cell_type": "code",
   "execution_count": null,
   "id": "comparable-temperature",
   "metadata": {},
   "outputs": [],
   "source": [
    "#예시 답안 \n",
    "import heapq\n",
    "\n",
    "def solution(food_times, k):\n",
    "    # 전체 음식을 먹는 시간보다 k가 크거나 같다면 -1\n",
    "    if sum(food_times) <= k:\n",
    "        return -1\n",
    "\n",
    "    # 시간이 작은 음식부터 빼야 하므로 우선순위 큐를 이용\n",
    "    q = []\n",
    "    for i in range(len(food_times)):\n",
    "        # (음식 시간, 음식 번호) 형태로 우선순위 큐에 삽입\n",
    "        heapq.heappush(q, (food_times[i], i + 1))  \n",
    "\n",
    "    sum_value = 0 # 먹기 위해 사용한 시간\n",
    "    previous = 0 # 직전에 다 먹은 음식 시간\n",
    "    length = len(food_times) # 남은 음식의 개수\n",
    "\n",
    "    # sum_value + (현재의 음식 시간 - 이전 음식 시간) * 현재 음식 개수와 k 비교\n",
    "    while sum_value + ((q[0][0] - previous) * length) <= k:\n",
    "        now = heapq.heappop(q)[0]\n",
    "        sum_value += (now - previous) * length\n",
    "        length -= 1 # 다 먹은 음식 제외\n",
    "        previous = now # 이전 음식 시간 재설정\n",
    "\n",
    "    # 남은 음식 중에서 몇 번째 음식인지 확인하여 출력\n",
    "    result = sorted(q, key=lambda x: x[1]) # 음식의 번호 기준으로 정렬\n",
    "    return result[(k - sum_value) % length][1]"
   ]
  }
 ],
 "metadata": {
  "kernelspec": {
   "display_name": "Python 3",
   "language": "python",
   "name": "python3"
  },
  "language_info": {
   "codemirror_mode": {
    "name": "ipython",
    "version": 3
   },
   "file_extension": ".py",
   "mimetype": "text/x-python",
   "name": "python",
   "nbconvert_exporter": "python",
   "pygments_lexer": "ipython3",
   "version": "3.6.9"
  }
 },
 "nbformat": 4,
 "nbformat_minor": 5
}
