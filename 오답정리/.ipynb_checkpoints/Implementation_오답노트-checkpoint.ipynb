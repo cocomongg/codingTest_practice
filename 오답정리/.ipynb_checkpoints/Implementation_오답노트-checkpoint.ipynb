{
 "cells": [
  {
   "cell_type": "markdown",
   "id": "fitting-calculation",
   "metadata": {},
   "source": [
    "## 문제8. 문자열 재정렬(O, join함수 사용법과, isalpha 함수 다시 보기)"
   ]
  },
  {
   "cell_type": "code",
   "execution_count": null,
   "id": "significant-submission",
   "metadata": {},
   "outputs": [],
   "source": [
    "data = input()\n",
    "result = []\n",
    "num = 0\n",
    "\n",
    "for i in data:\n",
    "    if i >='A' and i<='Z':\n",
    "        result.append(i)\n",
    "    else:\n",
    "        num += int(i)\n",
    "\n",
    "result.sort()\n",
    "result.append(str(num))\n",
    "print(''.join(result))"
   ]
  },
  {
   "cell_type": "code",
   "execution_count": null,
   "id": "seven-style",
   "metadata": {},
   "outputs": [],
   "source": [
    "# 예시답안\n",
    "data = input()\n",
    "result = []\n",
    "value = 0\n",
    "\n",
    "# 문자를 하나씩 확인하며\n",
    "for x in data:\n",
    "    # 알파벳인 경우 결과 리스트에 삽입\n",
    "    if x.isalpha():\n",
    "        result.append(x)\n",
    "    # 숫자는 따로 더하기\n",
    "    else:\n",
    "        value += int(x)\n",
    "\n",
    "# 알파벳을 오름차순으로 정렬\n",
    "result.sort()\n",
    "\n",
    "# 숫자가 하나라도 존재하는 경우 가장 뒤에 삽입\n",
    "if value != 0:\n",
    "    result.append(str(value))\n",
    "\n",
    "# 최종 결과 출력(리스트를 문자열로 변환하여 출력)\n",
    "print(''.join(result))"
   ]
  },
  {
   "cell_type": "markdown",
   "id": "considerable-jones",
   "metadata": {},
   "source": [
    "## 문제 9. 문자열 압축(△, 한 글자만 있는 경우를 고려 하지 않아 96점.., 다시풀어보기)"
   ]
  },
  {
   "cell_type": "code",
   "execution_count": null,
   "id": "approximate-trial",
   "metadata": {},
   "outputs": [],
   "source": [
    "# 오답 review: 한글자만 있는 경우를 고려하지 않았다. 처음 코드에서 7번째줄 result = length + 1 이렇게 함으로써 \n",
    "#             한 자리수를 가진 문자열에 대해 처리가 안되었다.. 예시답안의 풀이방법과는 똑같다.\n",
    "\n",
    "def solution(s):\n",
    "    answer = 0\n",
    "\n",
    "    length = len(s) #문자열 길이\n",
    "    result = length\n",
    "    \n",
    "    for unit in range(1, length // 2 + 1):\n",
    "        string = \"\"\n",
    "        first = s[0:unit]\n",
    "        count = 1\n",
    "        for i in range(unit, length, unit):\n",
    "            \n",
    "            if first == s[i:i+unit]:\n",
    "                count += 1\n",
    "            else:\n",
    "                if count > 1:\n",
    "                    string += str(count) + first\n",
    "                else:\n",
    "                    string += first\n",
    "                count = 1\n",
    "                first = s[i:i+unit]\n",
    "        \n",
    "        #27번째줄 ~30번째줄 string += str(count) + first if count >= 2 else first 대체 가능 \n",
    "        if count > 1:\n",
    "            string += str(count) + first\n",
    "        else:\n",
    "            string += first\n",
    "\n",
    "        result = min(len(string), result)\n",
    "        \n",
    "    answer = result\n",
    "    return answer\n",
    "\n",
    "\n",
    "solution(s)"
   ]
  }
 ],
 "metadata": {
  "kernelspec": {
   "display_name": "Python 3",
   "language": "python",
   "name": "python3"
  },
  "language_info": {
   "codemirror_mode": {
    "name": "ipython",
    "version": 3
   },
   "file_extension": ".py",
   "mimetype": "text/x-python",
   "name": "python",
   "nbconvert_exporter": "python",
   "pygments_lexer": "ipython3",
   "version": "3.6.9"
  }
 },
 "nbformat": 4,
 "nbformat_minor": 5
}
