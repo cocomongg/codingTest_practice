{
 "cells": [
  {
   "cell_type": "markdown",
   "id": "formal-headline",
   "metadata": {},
   "source": [
    "## 문제 25. 실패율(O, 다시풀어보기)"
   ]
  },
  {
   "cell_type": "code",
   "execution_count": null,
   "id": "marked-yahoo",
   "metadata": {},
   "outputs": [],
   "source": [
    "def solution(N, stages):\n",
    "    answer = []\n",
    "    user = len(stages)\n",
    "\n",
    "    result = []\n",
    "    for n in range(1, N+1):\n",
    "        count = stages.count(n)\n",
    "        \n",
    "        if user == 0:\n",
    "            fail_rate = 0\n",
    "            \n",
    "        else:\n",
    "            fail_rate = count / user\n",
    "            \n",
    "        result.append((fail_rate, n))\n",
    "        user -= count\n",
    "        \n",
    "    result.sort(key=lambda x: (-x[0], x[1]))\n",
    "    \n",
    "    for i in range(len(result)):\n",
    "        answer.append(result[i][1])\n",
    "    \n",
    "    return answer"
   ]
  },
  {
   "cell_type": "markdown",
   "id": "individual-valuation",
   "metadata": {},
   "source": [
    "## 문제 26. 카드 정렬하기(X, 다시풀기)"
   ]
  },
  {
   "cell_type": "code",
   "execution_count": null,
   "id": "numerical-strength",
   "metadata": {},
   "outputs": [],
   "source": [
    "# 포인트: 매 상황에서 가장 작은 크기의 두 카드 묶음을 꺼내서 이를 합친 뒤에 다시 리스트에 삽입하는 과정\n",
    "#        => 그러기 위해서 priority queue 사용\n",
    "\n",
    "import heapq\n",
    "\n",
    "n = int(input())\n",
    "cards = []\n",
    "for _ in range(n):\n",
    "    heapq.heappush(cards, (int(input())))\n",
    "\n",
    "result = 0\n",
    "\n",
    "\n",
    "while len(cards) != 1:\n",
    "        \n",
    "    a = heapq.heappop(cards)\n",
    "    b = heapq.heappop(cards)\n",
    "    \n",
    "    sum_value = a+b\n",
    "    result += sum_value\n",
    "    \n",
    "    heapq.heappush(cards, sum_value)\n",
    "    \n",
    "print(result)"
   ]
  }
 ],
 "metadata": {
  "kernelspec": {
   "display_name": "Python 3",
   "language": "python",
   "name": "python3"
  },
  "language_info": {
   "codemirror_mode": {
    "name": "ipython",
    "version": 3
   },
   "file_extension": ".py",
   "mimetype": "text/x-python",
   "name": "python",
   "nbconvert_exporter": "python",
   "pygments_lexer": "ipython3",
   "version": "3.6.9"
  }
 },
 "nbformat": 4,
 "nbformat_minor": 5
}
