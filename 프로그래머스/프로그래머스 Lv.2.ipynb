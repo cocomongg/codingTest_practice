{
 "cells": [
  {
   "cell_type": "markdown",
   "id": "automotive-crazy",
   "metadata": {},
   "source": [
    "## 문제. 짝지어 제거하기 (O)"
   ]
  },
  {
   "cell_type": "code",
   "execution_count": null,
   "id": "painted-collapse",
   "metadata": {},
   "outputs": [],
   "source": [
    "# stack을 사용하면 쉽게 풀 수 있는 문제이다. 순차적으로 짝을 지어줘야 할 때는 stack을 고려해보기로 해야겠다.\n",
    "\n",
    "def solution(s):\n",
    "    answer = -1\n",
    "    stack = [s[0]]\n",
    "    \n",
    "    if len(s) % 2 == 1:\n",
    "        return 0\n",
    "    \n",
    "    for i in range(1, len(s)):\n",
    "        if len(stack) !=0 and stack[-1] == s[i]:\n",
    "            stack.pop()\n",
    "        else:\n",
    "            stack.append(s[i])\n",
    "    \n",
    "    if len(stack) == 0:\n",
    "        answer = 1\n",
    "    else:\n",
    "        answer = 0\n",
    "    return answer"
   ]
  },
  {
   "cell_type": "markdown",
   "id": "tender-cartoon",
   "metadata": {},
   "source": [
    "## 문제. 기능개발(O)"
   ]
  },
  {
   "cell_type": "code",
   "execution_count": null,
   "id": "infectious-patrol",
   "metadata": {},
   "outputs": [],
   "source": [
    "# 간단한 구현 예제\n",
    "def solution(progresses, speeds):\n",
    "    answer = []\n",
    "    day_list = []\n",
    "    \n",
    "    for i in range(len(progresses)):\n",
    "        if (100 - progresses[i]) % speeds[i] == 0:\n",
    "            days = (100 - progresses[i]) // speeds[i]\n",
    "        else:\n",
    "            days = (100 - progresses[i]) // speeds[i] + 1\n",
    "        \n",
    "        if i == 0 or day_list[-1] < days:\n",
    "            day_list.append(days)\n",
    "        else:\n",
    "            day_list.append(day_list[-1])\n",
    "    \n",
    "    day_kind = list(set(day_list))\n",
    "    day_kind.sort()\n",
    "    for day in day_kind:\n",
    "        answer.append(day_list.count(day))\n",
    "    \n",
    "    return answer"
   ]
  },
  {
   "cell_type": "markdown",
   "id": "essential-peripheral",
   "metadata": {},
   "source": [
    "## 문제. 더 맵게(O)"
   ]
  },
  {
   "cell_type": "code",
   "execution_count": null,
   "id": "broad-routine",
   "metadata": {},
   "outputs": [],
   "source": [
    "# 우선순위 큐를 사용하여 풀이\n",
    "\n",
    "import heapq\n",
    "\n",
    "def solution(scoville, K):\n",
    "    answer = 0\n",
    "    priority_q = []\n",
    "\n",
    "    #heapq.heapify(scoville)\n",
    "    for sc in scoville:\n",
    "        heapq.heappush(priority_q, sc)\n",
    "\n",
    "    while True:\n",
    "        first = heapq.heappop(priority_q)\n",
    "        if first >= K:\n",
    "            break\n",
    "        if len(priority_q) == 0:\n",
    "            answer = -1\n",
    "            break\n",
    "        second = heapq.heappop(priority_q)\n",
    "        new_scoville = first + second * 2\n",
    "\n",
    "        heapq.heappush(priority_q, new_scoville)\n",
    "        answer += 1\n",
    "\n",
    "    return answer"
   ]
  }
 ],
 "metadata": {
  "kernelspec": {
   "display_name": "Python 3",
   "language": "python",
   "name": "python3"
  },
  "language_info": {
   "codemirror_mode": {
    "name": "ipython",
    "version": 3
   },
   "file_extension": ".py",
   "mimetype": "text/x-python",
   "name": "python",
   "nbconvert_exporter": "python",
   "pygments_lexer": "ipython3",
   "version": "3.6.9"
  }
 },
 "nbformat": 4,
 "nbformat_minor": 5
}
