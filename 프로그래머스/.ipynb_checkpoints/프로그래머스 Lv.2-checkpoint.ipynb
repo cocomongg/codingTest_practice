{
 "cells": [
  {
   "cell_type": "markdown",
   "id": "automotive-crazy",
   "metadata": {},
   "source": [
    "## 문제. 짝지어 제거하기 (O)"
   ]
  },
  {
   "cell_type": "code",
   "execution_count": null,
   "id": "painted-collapse",
   "metadata": {},
   "outputs": [],
   "source": [
    "# stack을 사용하면 쉽게 풀 수 있는 문제이다. 순차적으로 짝을 지어줘야 할 때는 stack을 고려해보기로 해야겠다.\n",
    "\n",
    "def solution(s):\n",
    "    answer = -1\n",
    "    stack = [s[0]]\n",
    "    \n",
    "    if len(s) % 2 == 1:\n",
    "        return 0\n",
    "    \n",
    "    for i in range(1, len(s)):\n",
    "        if len(stack) !=0 and stack[-1] == s[i]:\n",
    "            stack.pop()\n",
    "        else:\n",
    "            stack.append(s[i])\n",
    "    \n",
    "    if len(stack) == 0:\n",
    "        answer = 1\n",
    "    else:\n",
    "        answer = 0\n",
    "    return answer"
   ]
  },
  {
   "cell_type": "markdown",
   "id": "tender-cartoon",
   "metadata": {},
   "source": [
    "## 문제. 기능개발(O)"
   ]
  },
  {
   "cell_type": "code",
   "execution_count": null,
   "id": "infectious-patrol",
   "metadata": {},
   "outputs": [],
   "source": [
    "# 간단한 구현 예제\n",
    "def solution(progresses, speeds):\n",
    "    answer = []\n",
    "    day_list = []\n",
    "    \n",
    "    for i in range(len(progresses)):\n",
    "        if (100 - progresses[i]) % speeds[i] == 0:\n",
    "            days = (100 - progresses[i]) // speeds[i]\n",
    "        else:\n",
    "            days = (100 - progresses[i]) // speeds[i] + 1\n",
    "        \n",
    "        if i == 0 or day_list[-1] < days:\n",
    "            day_list.append(days)\n",
    "        else:\n",
    "            day_list.append(day_list[-1])\n",
    "    \n",
    "    day_kind = list(set(day_list))\n",
    "    day_kind.sort()\n",
    "    for day in day_kind:\n",
    "        answer.append(day_list.count(day))\n",
    "    \n",
    "    return answer"
   ]
  },
  {
   "cell_type": "markdown",
   "id": "essential-peripheral",
   "metadata": {},
   "source": [
    "## 문제. 더 맵게(O)"
   ]
  },
  {
   "cell_type": "code",
   "execution_count": null,
   "id": "broad-routine",
   "metadata": {},
   "outputs": [],
   "source": [
    "# 우선순위 큐를 사용하여 풀이\n",
    "\n",
    "import heapq\n",
    "\n",
    "def solution(scoville, K):\n",
    "    answer = 0\n",
    "    priority_q = []\n",
    "\n",
    "    #heapq.heapify(scoville)\n",
    "    for sc in scoville:\n",
    "        heapq.heappush(priority_q, sc)\n",
    "\n",
    "    while True:\n",
    "        first = heapq.heappop(priority_q)\n",
    "        if first >= K:\n",
    "            break\n",
    "        if len(priority_q) == 0:\n",
    "            answer = -1\n",
    "            break\n",
    "        second = heapq.heappop(priority_q)\n",
    "        new_scoville = first + second * 2\n",
    "\n",
    "        heapq.heappush(priority_q, new_scoville)\n",
    "        answer += 1\n",
    "\n",
    "    return answer"
   ]
  },
  {
   "cell_type": "markdown",
   "id": "completed-completion",
   "metadata": {},
   "source": [
    "## 문제. 타겟 넘버(O, 다시 풀어보기)"
   ]
  },
  {
   "cell_type": "code",
   "execution_count": null,
   "id": "electrical-tonight",
   "metadata": {},
   "outputs": [],
   "source": [
    "# 내 풀이: '+'와 '-' 두 경우에 대한 dfs를 각각 호출해줬다.\n",
    "# 출력 결과와 코드를 다시 봤을 때 정답에는 맞지만 좀 이상한것 같아서 다시풀어봐야함\n",
    "answer = 0\n",
    "def dfs(numbers, result, i, oper, target): \n",
    "    global answer\n",
    "    if oper == '+':\n",
    "        result += numbers[i]\n",
    "    elif oper == '-':\n",
    "        result -= numbers[i]\n",
    "        \n",
    "    if i == (len(numbers)-1):\n",
    "        if result == target:\n",
    "            answer += 1\n",
    "        return \n",
    "    \n",
    "    i += 1\n",
    "\n",
    "    dfs(numbers, result, i, '+', target)\n",
    "    dfs(numbers, result, i, '-', target)\n",
    "\n",
    "\n",
    "def solution(numbers, target):\n",
    "    global answer\n",
    "    dfs(numbers, 0, 0, '-', target)\n",
    "    dfs(numbers, 0, 0, '+', target)\n",
    "    return answer"
   ]
  },
  {
   "cell_type": "code",
   "execution_count": null,
   "id": "split-bench",
   "metadata": {},
   "outputs": [],
   "source": [
    "# 다른 사람 풀이\n",
    "# 부호 검사를 할 필요 없이 결과값을 +와 - 따로 계산해서 dfs를 각각 호출하면 되는 문제\n",
    "answer = 0\n",
    "\n",
    "def DFS(idx, numbers, target, value):\n",
    "    global answer\n",
    "\n",
    "    if idx== len(numbers):\n",
    "        if value == target:\n",
    "            answer += 1\n",
    "        return\n",
    "\n",
    "    DFS(idx+1,numbers,target,value+numbers[idx])\n",
    "    DFS(idx+1,numbers,target,value-numbers[idx])\n",
    "    \n",
    "def solution(numbers, target):\n",
    "    global answer\n",
    "    DFS(0,numbers,target,0)\n",
    "    return answer"
   ]
  },
  {
   "cell_type": "markdown",
   "id": "optical-index",
   "metadata": {},
   "source": [
    "## 문제. 프린터 (O)"
   ]
  },
  {
   "cell_type": "code",
   "execution_count": null,
   "id": "seasonal-stadium",
   "metadata": {},
   "outputs": [],
   "source": [
    "# 인덱스(현재 위치정보)를 계속 체크해야하기 때문에 인덱스와 우선순위를 튜플을 이용해서 묶은 뒤, 큐를 이용하여 수행\n",
    "\n",
    "def solution(priorities, location):\n",
    "    answer = 0\n",
    "    queue = []\n",
    "    for i in range(len(priorities)):\n",
    "        queue.append((i, priorities[i]))\n",
    "\n",
    "\n",
    "    while True:\n",
    "        idx, priority = queue.pop(0)\n",
    "        answer += 1\n",
    "\n",
    "        if priority < max(priorities):\n",
    "            queue.append((idx, priority))\n",
    "            answer -= 1\n",
    "        else:\n",
    "            priorities.remove(priority)\n",
    "            if idx == location:\n",
    "                break\n",
    "\n",
    "    return answer"
   ]
  },
  {
   "cell_type": "markdown",
   "id": "neural-handle",
   "metadata": {},
   "source": [
    "## 문제. 오픈채팅방 (O, 다시풀어보기)"
   ]
  },
  {
   "cell_type": "code",
   "execution_count": null,
   "id": "posted-steam",
   "metadata": {},
   "outputs": [],
   "source": [
    "# 원래 풀이, dictionary에 데이터를 삽입할 때 키값을 검사했는데 굳이 할 필요가 없었다. \n",
    "# dictionary를 이용하여 풀이\n",
    "id_nickName = {}\n",
    "def change(Id, change_name):\n",
    "    id_nickName[Id] = change_name\n",
    "\n",
    "def solution(record):\n",
    "    answer = []\n",
    "    temp = []\n",
    "    command_str = {\"Enter\":\"님이 들어왔습니다.\", \"Leave\":\"님이 나갔습니다.\"}\n",
    "\n",
    "    for rec in record:\n",
    "        split_list = rec.split(\" \")\n",
    "        command = split_list[0]\n",
    "        Id = split_list[1] \n",
    "\n",
    "        if command == \"Enter\":\n",
    "            nickName = split_list[2] \n",
    "\n",
    "            if Id not in id_nickName:\n",
    "                id_nickName[Id] = nickName\n",
    "\n",
    "            elif id_nickName[Id] != nickName:\n",
    "                    change(Id, nickName)\n",
    "\n",
    "        elif command == \"Change\":\n",
    "            nickName = split_list[2] \n",
    "            change(Id, nickName)\n",
    "            continue\n",
    "\n",
    "        temp.append((Id, command))\n",
    "\n",
    "    for user_id, command in temp:\n",
    "        answer.append(id_nickName[user_id] + command_str[command])\n",
    "\n",
    "\n",
    "    return answer"
   ]
  },
  {
   "cell_type": "code",
   "execution_count": null,
   "id": "basic-charter",
   "metadata": {},
   "outputs": [],
   "source": [
    "# 개선된 풀이\n",
    "def solution(record):\n",
    "    answer = []\n",
    "    temp = []\n",
    "    id_nickName = {}\n",
    "    command_str = {\"Enter\":\"님이 들어왔습니다.\", \"Leave\":\"님이 나갔습니다.\"}\n",
    "    \n",
    "    for rec in record:\n",
    "        split_list = rec.split(\" \")\n",
    "        command = split_list[0]\n",
    "        Id = split_list[1] \n",
    "        \n",
    "        if command != \"Leave\":\n",
    "            nickName = split_list[2]\n",
    "            id_nickName[Id] = nickName\n",
    "        \n",
    "        if command != \"Change\":\n",
    "            temp.append((Id, command))\n",
    "    \n",
    "    for user_id, command in temp:\n",
    "        answer.append(id_nickName[user_id] + command_str[command])\n",
    "        \n",
    "    return answer"
   ]
  },
  {
   "cell_type": "markdown",
   "id": "failing-petersburg",
   "metadata": {},
   "source": [
    "## 문제. 124나라의 숫자(O, 다시풀어보기)"
   ]
  },
  {
   "cell_type": "code",
   "execution_count": null,
   "id": "blessed-duration",
   "metadata": {},
   "outputs": [],
   "source": [
    "# 나의 풀이: 1. 입력 숫자를 124진법으로 표현할 경우의 자리수를 구한다.\n",
    "#          2. 한 자리수당 3개의 숫자(1, 2, 4)가 있을 수 있는 점을 이용하여 for문 반복\n",
    "#          3. 하드코딩한 느낌이 드는 풀이\n",
    "def solution(n):\n",
    "    dic = {0:1, 1:2, 2:4}\n",
    "    answer = ''\n",
    "\n",
    "    digit = 1\n",
    "    number = 0\n",
    "    while True:\n",
    "        number += 3**digit\n",
    "        if n <= number:\n",
    "            break\n",
    "        digit+= 1\n",
    "        \n",
    "    start = number - 3**digit + 1\n",
    "    target = n - start + 1\n",
    "\n",
    "    for i in range(1, digit+1):\n",
    "        # a, b = divmod(target, 3**(digit-i)) => a는 몫, b는 나머지\n",
    "        a = target // 3**(digit-i)\n",
    "        if target % 3**(digit-i) == 0:\n",
    "            a -= 1\n",
    "        \n",
    "        answer += str(dic[a])\n",
    "        target -= a * 3**(digit-i)\n",
    "    \n",
    "    return answer"
   ]
  },
  {
   "cell_type": "code",
   "execution_count": null,
   "id": "utility-bread",
   "metadata": {},
   "outputs": [],
   "source": [
    "# 다른사람 풀이\n",
    "# 1, 2, 4씩 반복되는 것을 중점으로, 끝에 자리부터 채워나가는 방식\n",
    "# n-1을 하는 이유는 n이 3일때와 같은 경우들을 방지하기 위함\n",
    "def solution(n):\n",
    "    answer = ''\n",
    "    while n > 0:\n",
    "        n -= 1\n",
    "        answer = '124'[n%3] + answer\n",
    "        print(answer)\n",
    "        n //= 3\n",
    "    return answer\n",
    "\n",
    "print(solution(14))"
   ]
  }
 ],
 "metadata": {
  "kernelspec": {
   "display_name": "Python 3",
   "language": "python",
   "name": "python3"
  },
  "language_info": {
   "codemirror_mode": {
    "name": "ipython",
    "version": 3
   },
   "file_extension": ".py",
   "mimetype": "text/x-python",
   "name": "python",
   "nbconvert_exporter": "python",
   "pygments_lexer": "ipython3",
   "version": "3.6.9"
  }
 },
 "nbformat": 4,
 "nbformat_minor": 5
}
