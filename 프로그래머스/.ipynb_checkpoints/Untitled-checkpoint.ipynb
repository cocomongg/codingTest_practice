{
 "cells": [
  {
   "cell_type": "markdown",
   "id": "automotive-crazy",
   "metadata": {},
   "source": [
    "## Level2. 짝지어 제거하기 (O)"
   ]
  },
  {
   "cell_type": "code",
   "execution_count": null,
   "id": "painted-collapse",
   "metadata": {},
   "outputs": [],
   "source": [
    "# stack을 사용하면 쉽게 풀 수 있는 문제이다. 순차적으로 짝을 지어줘야 할 때는 stack을 고려해보기로 해야겠다.\n",
    "\n",
    "def solution(s):\n",
    "    answer = -1\n",
    "    stack = [s[0]]\n",
    "    \n",
    "    if len(s) % 2 == 1:\n",
    "        return 0\n",
    "    \n",
    "    for i in range(1, len(s)):\n",
    "        if len(stack) !=0 and stack[-1] == s[i]:\n",
    "            stack.pop()\n",
    "        else:\n",
    "            stack.append(s[i])\n",
    "    \n",
    "    if len(stack) == 0:\n",
    "        answer = 1\n",
    "    else:\n",
    "        answer = 0\n",
    "    return answer"
   ]
  }
 ],
 "metadata": {
  "kernelspec": {
   "display_name": "Python 3",
   "language": "python",
   "name": "python3"
  },
  "language_info": {
   "codemirror_mode": {
    "name": "ipython",
    "version": 3
   },
   "file_extension": ".py",
   "mimetype": "text/x-python",
   "name": "python",
   "nbconvert_exporter": "python",
   "pygments_lexer": "ipython3",
   "version": "3.6.9"
  }
 },
 "nbformat": 4,
 "nbformat_minor": 5
}
