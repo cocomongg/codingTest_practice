{
 "cells": [
  {
   "cell_type": "markdown",
   "id": "duplicate-perfume",
   "metadata": {},
   "source": [
    "# Greedy\n",
    "- 현재 상황에서 지금 당장 좋은 것만 고르는 방법, 나중에 미칠 영향에 대해서는 고려하지 않음\n",
    "- 예시\n",
    "  - 거스름돈 (예시 1): 그리디 알고리즘 ->  해결방법: '가장 큰 화폐 단위부터'\n"
   ]
  },
  {
   "cell_type": "code",
   "execution_count": 1,
   "id": "great-offense",
   "metadata": {},
   "outputs": [
    {
     "name": "stdout",
     "output_type": "stream",
     "text": [
      "6\n"
     ]
    }
   ],
   "source": [
    "#거스름돈(예시 1)\n",
    "#- 거스름돈 사용할 화폐 500원, 100원, 50원, 10원\n",
    "#- 손님에게 거슬러 줘야 할 돈 N원(항상 10의 배수)일 때, 거슬러 줘야 할 동전의 최소 개수\n",
    "#- 시간 복잡도: O(k) (k = 화폐종류), 시간 복잡도는 금액에 상관 없음 \n",
    "n = 1260 # 거스름돈\n",
    "count = 0 \n",
    "\n",
    "coin_types = [500, 100, 50, 10]\n",
    "\n",
    "for coin in coin_types:\n",
    "    count += n // coin #해당 화폐 단위로 거슬러 줄 수 있는 동전의 개수 세기\n",
    "    n %= coin\n",
    "\n",
    "print(count)\n"
   ]
  },
  {
   "cell_type": "markdown",
   "id": "pursuant-dictionary",
   "metadata": {},
   "source": [
    "### 실전문제1. 큰 수의 법칙\n",
    "<문제>\n",
    "다양한 수로 이루어진 배열이 있을 때 주어진 수들을  M번 더하여 가장 큰 수를 만드는 법칙\n",
    "단, 배열의 특정한 인덱스에 해당하는 수가 연속해서 K번을 초과하여 더해질 수 없는 것이 이 법칙의 특징\n",
    "\n",
    "<입력조건>\n",
    "첫째 줄에 N(2<= N <=1000), M(1<= M <= 10000), K(1<= K <= 10000)의 자연수가 주어지며, 자연수는 공백으로 구분\n",
    "둘째 줄에 개의 자연수가 주어진다, 공백으로 구분, 각각의 자연수는 1이상 10,000이하의 수로 주어진다.\n",
    "입력으로 주어지는 K는 항상 M보다 작거나 같다."
   ]
  },
  {
   "cell_type": "code",
   "execution_count": 3,
   "id": "outstanding-impression",
   "metadata": {},
   "outputs": [
    {
     "name": "stdout",
     "output_type": "stream",
     "text": [
      "5 8 3\n",
      "2 4 5 4 6\n",
      "46\n"
     ]
    }
   ],
   "source": [
    "N, M, K = map(int, input().split())\n",
    "data = list(map(int, input().split()))\n",
    "\n",
    "data.sort(reverse = True)\n",
    "\n",
    "result = 0\n",
    "max_val = data[0]\n",
    "\n",
    "for i in range(1, M+1):\n",
    "    if i % (K+1) == 0:\n",
    "        if max_val != data[1]:\n",
    "            result += data[1]\n",
    "        else:\n",
    "            result += max_val\n",
    "    else:    \n",
    "        result += max_val\n",
    "    \n",
    "print(result)"
   ]
  },
  {
   "cell_type": "code",
   "execution_count": 2,
   "id": "stable-pierre",
   "metadata": {},
   "outputs": [
    {
     "name": "stdout",
     "output_type": "stream",
     "text": [
      "5 8 3\n",
      "2 4 5 4 6\n",
      "46\n"
     ]
    }
   ],
   "source": [
    "N, M, K = map(int, input().split())\n",
    "data = list(map(int, input().split()))\n",
    "\n",
    "data.sort()\n",
    "first = data[N-1]\n",
    "second = data[N-2]\n",
    "\n",
    "result = 0\n",
    "\n",
    "while True:\n",
    "    for i in range(K):\n",
    "        if M == 0:\n",
    "            break\n",
    "        result += first\n",
    "        M -= 1\n",
    "    if M == 0:\n",
    "        break\n",
    "    result += second\n",
    "    M -= 1\n",
    "               \n",
    "print(result)"
   ]
  },
  {
   "cell_type": "code",
   "execution_count": 2,
   "id": "derived-bargain",
   "metadata": {},
   "outputs": [
    {
     "name": "stdout",
     "output_type": "stream",
     "text": [
      "5 8 3\n",
      "2 4 5 4 6\n",
      "46\n"
     ]
    }
   ],
   "source": [
    "# 가장 좋은 방법\n",
    "# 반복되는 수열을 파악\n",
    "# 예) 2 4 5 4 6, M=8, K=3 -> 반복되는 수열: {6, 6, 6, 5}, M을 K로 나눈 몫이 수열이 반복되는 횟수\n",
    "\n",
    "N, M, K = map(int, input().split())\n",
    "data = list(map(int, input().split()))\n",
    "\n",
    "data.sort()\n",
    "first = data[N-1]\n",
    "second = data[N-2]\n",
    "\n",
    "count = int(M / (K+1)) * K  #M을 K로 나눈 몫이 수열이 반복되는 횟수, 곱하기 K는 가장 큰 수가 더해지는 횟수\n",
    "count += M % (K+1) #수열의 개수대로 반복이 딱 떨어지게 되지 않을 때\n",
    "\n",
    "result = 0\n",
    "result += count * first\n",
    "result += (M-count) * second\n",
    "\n",
    "print(result)"
   ]
  },
  {
   "cell_type": "markdown",
   "id": "excellent-ballet",
   "metadata": {},
   "source": [
    "### 실전문제2. 숫자 카드 게임\n",
    "<문제><br/>\n",
    "여러개의 숫자 카드 중 가장 높은 숫자가 쓰인 카드 한 장을 뽑는 게임\n",
    "게임 룰\n",
    "1. 숫자가 쓰인 카드들이 N x M형태로 놓여 있다. \n",
    "2. 뽑고자 하는 카드가 포함되어 있는 행을 선택\n",
    "3. 선택된 행에 포함된 카드들 중 가장 숫자가 낮은 카드 뽑음\n",
    "4. 해당 행에서 가장 숫자가 낮은 카드를 뽑을 것을 고려하여 최종적으로 가장 높은 숫자의 카드를 뽑을 수 있도록 해야함\n",
    "\n",
    "<입력조건><br/>\n",
    "첫째 줄에 숫자 카드들이 놓인 행의 개수 N, 열의 개수 M 공백을 기준으로 (1 <= N, M<= 100)\n",
    "둘째 줄부터 N개의 줄에 걸쳐 각 카드에 적힌 숫자"
   ]
  },
  {
   "cell_type": "code",
   "execution_count": 27,
   "id": "completed-space",
   "metadata": {},
   "outputs": [
    {
     "name": "stdout",
     "output_type": "stream",
     "text": [
      "3 3\n",
      "3 1 2\n",
      "4 1 4\n",
      "2 2 2\n",
      "2\n"
     ]
    }
   ],
   "source": [
    "# min() 함수 사용\n",
    "N, M = map(int, input().split())\n",
    "result = 0\n",
    "\n",
    "for i in range(N):\n",
    "    data = list(map(int, input().split()))\n",
    "    min_value = min(data) #한 행에서 가장 작은 수 찾기\n",
    "    \n",
    "    result = max(result, min_value) #각 행의 작은 수에서 제일 큰 값 찾기\n",
    "\n",
    "print(result)\n",
    "\n"
   ]
  },
  {
   "cell_type": "markdown",
   "id": "contained-joining",
   "metadata": {},
   "source": [
    "### 실전문제3. 1이 될 때까지\n",
    "<문제><br/>\n",
    "N이 1이 될 때까지 다음의 두 과정중 하나를 반복적으로 선택하여 수행, 최소 횟수 구하기\n",
    "1. N에서 1을 뺀다.\n",
    "2. N을 K로 나눈다. (N이 K로 나누어떨어질때만)\n",
    "\n",
    "<입력조건><br/>\n",
    "첫째줄에 N(2<= N <=100,000)과 K(2 <= K <= 100,000)가 공백으로 구분, N >= K"
   ]
  },
  {
   "cell_type": "code",
   "execution_count": 7,
   "id": "alert-tunnel",
   "metadata": {},
   "outputs": [
    {
     "name": "stdout",
     "output_type": "stream",
     "text": [
      "27 3\n",
      "3\n"
     ]
    }
   ],
   "source": [
    "N, K = map(int, input().split())\n",
    "result = 0\n",
    "\n",
    "while(N > 1):\n",
    "    if(N % K == 0):\n",
    "        N /= K\n",
    "    else:\n",
    "        N -= 1\n",
    "    result += 1\n",
    "print(result)"
   ]
  },
  {
   "cell_type": "code",
   "execution_count": null,
   "id": "understood-cinema",
   "metadata": {},
   "outputs": [],
   "source": []
  }
 ],
 "metadata": {
  "kernelspec": {
   "display_name": "Python 3",
   "language": "python",
   "name": "python3"
  },
  "language_info": {
   "codemirror_mode": {
    "name": "ipython",
    "version": 3
   },
   "file_extension": ".py",
   "mimetype": "text/x-python",
   "name": "python",
   "nbconvert_exporter": "python",
   "pygments_lexer": "ipython3",
   "version": "3.6.9"
  }
 },
 "nbformat": 4,
 "nbformat_minor": 5
}
