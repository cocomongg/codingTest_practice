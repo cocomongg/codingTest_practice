{
 "cells": [
  {
   "cell_type": "markdown",
   "id": "premium-distributor",
   "metadata": {},
   "source": [
    "### 다이나믹 프로그래밍\n",
    "- 메모리 공간을 약간 더 사용하여 연산 속도를 비약적으로 증가시킬 수 있는 방법\n",
    "- 큰 문제를 작게 나누고, 같은 문제라면 한 번씩만 풀어 문제를 효율적으로 해결하는 알고리즘 기법\n",
    "- ex) 피보나치 수열\n",
    "  - n번째 피보나치 수 = (n - 1)번째 피보나치 수 + (n - 2)번째 피보나치 수 \n",
    "  - 단, 1번째 피보나치 수 = 1, 2번째 피보나치 수 = 1\n",
    "  - 재귀함수를 이용한 피보나치 수열의 소스코드(8-1.py)의 문제점\n",
    "    - n이 커지면 커질수록 수행 시간이 기하급수적으로 늘어난다.\n",
    "    - 이미 한번 계산했지만 여러 번 호출 됨\n",
    "    -  <b>이러한 문제는 다이나믹 프로그래밍을 사용하면 효율적으로 해결할 수 있다.<b/>\n",
    "- 다이나믹 프로그램 사용 가능 조건\n",
    "  1. 큰 문제를 작은 문제로 나눌 수 있다.\n",
    "  2. 작은 문제에서 구한 정답은 그것을 포함하는 큰 문제에서도 동일하다.\n",
    "<br/>\n",
    "- 다이나믹 프로그래밍 구현 방법<br/>\n",
    "  - 메모이제이션 기법\n",
    "     - 한 번 구한 결과를 메모리 공간에 메모해두고 같은 식을 다시 호출하면 메모한 결과를 그대로 가져오는 기법\n",
    "     - 값을 저장하는 방법이므로 캐싱이라고도 한다.\n",
    "     - <b>구현방법: 한 번 구한 정보를 리스트에 저장하는 것<b/><br/><br/>"
   ]
  },
  {
   "cell_type": "code",
   "execution_count": null,
   "id": "durable-photography",
   "metadata": {},
   "outputs": [],
   "source": [
    "#8-1.py 피보나치 함수 소스코드\n",
    "def fibo(x):\n",
    "    if x == 1 or x == 2:\n",
    "        return 1\n",
    "    return fibo(x-1) + fibo(x-2)\n",
    "\n",
    "print(fibo(4))"
   ]
  },
  {
   "cell_type": "code",
   "execution_count": null,
   "id": "active-fancy",
   "metadata": {},
   "outputs": [],
   "source": [
    "#8-2.py 피보나치 수열 소스코드(재귀적)\n",
    "\n",
    "#한 번 계산된 결과를 메모제이션하기 위한 리스트 초기화\n",
    "d = [0] * 100\n",
    "\n",
    "#피보나치 함수를 재귀함수로 구현(탑다운 다이나믹 프로그래밍)\n",
    "def fibo(x):\n",
    "    #종료 조건(1 혹은 2일 때 1을 반환)\n",
    "    if x == 1 or x == 2:\n",
    "        return 1\n",
    "    #이미 계산한 적 있는 문제라면 그대로 반환\n",
    "    if d[x] != 0:\n",
    "        return d[x]\n",
    "    #아직 계산하지 않은 문제라면 점화식에 따라서 피보나치 결과 반환\n",
    "    d[x] = fibo(x-1) + fibo(x-2)\n",
    "    return d[x]\n",
    "\n",
    "print(fibo(99))"
   ]
  },
  {
   "cell_type": "code",
   "execution_count": null,
   "id": "pregnant-knife",
   "metadata": {},
   "outputs": [],
   "source": [
    "#8-3.py 호출되는 함수 확인\n",
    "d = [0] * 100\n",
    "\n",
    "def pibo(x):\n",
    "    print('f(' + str(x) + ')', end=' ')\n",
    "    if x == 1 or x == 2:\n",
    "        return 1\n",
    "    if d[x] != 0:\n",
    "        return d[x]\n",
    "    d[x] = pibo(x-1) + pibo(x-2)\n",
    "    return d[x]\n",
    "\n",
    "pibo(6)"
   ]
  },
  {
   "cell_type": "code",
   "execution_count": null,
   "id": "early-figure",
   "metadata": {},
   "outputs": [],
   "source": [
    "#8-4.py 피보나치 수열 소스코드(반복적)\n",
    "d = [0] * 100\n",
    "\n",
    "#첫 번째 피보나치 수와 두 번째 피보나치 수는 1\n",
    "d[1] = 1\n",
    "d[2] = 1\n",
    "n = 99\n",
    "\n",
    "#피보나치 함수 반복문으로 구현(보텀업 다이나믹 프로그래밍)\n",
    "for i in range(3, n+1):\n",
    "    d[i] = d[i-1] + d[i-2]\n",
    "    \n",
    "print(d[n])"
   ]
  }
 ],
 "metadata": {
  "kernelspec": {
   "display_name": "Python 3",
   "language": "python",
   "name": "python3"
  },
  "language_info": {
   "codemirror_mode": {
    "name": "ipython",
    "version": 3
   },
   "file_extension": ".py",
   "mimetype": "text/x-python",
   "name": "python",
   "nbconvert_exporter": "python",
   "pygments_lexer": "ipython3",
   "version": "3.6.9"
  }
 },
 "nbformat": 4,
 "nbformat_minor": 5
}
