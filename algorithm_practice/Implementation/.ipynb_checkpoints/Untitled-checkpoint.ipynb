{
 "cells": [
  {
   "cell_type": "markdown",
   "id": "noble-motivation",
   "metadata": {},
   "source": [
    "# Implementation\n",
    "- 풀이를 떠올리는 것은 쉽지만 소스코드로 옮기기 어려운 문제의 유형\n",
    "- 완전탐색, 시뮬레이션\n",
    "- 시간제한\n",
    "  - 시간제한 1초, 데이터 개수 100만개, 일반적인 시간 복잡도는 O(NlogN)\n",
    "  - 1초에 2000만번의 연산을 수행한다고 가정하고 문제를 풀면 실행 시간 제한에 안정적\n",
    "  \n",
    "- 구현 알고리즘의 대표적인 예시\n",
    "  - (1) 상하좌우 - N x N 정사각형에서 (1,1)이 시작점(가장 왼쪽 위 점), 가장 오른쪽 아래점(N,N), 이동 계획서가 주어짐\n",
    "               이동계획서: L(좌)R(우)U(상)D(하)로 이동, 정사각형을 벗어나는 이동계획은 무시\n",
    "               입력 첫번째줄: 지도 크기N, \n",
    "                   두번째줄: 이동계획서<br/>\n",
    "                   \n",
    "  - (2) 시각 - 정수 N이 입력되면 00시 00분 00초부터 N시 59분 59초까지의 모든 시각중에서 3이 하나라도 포함되는 모든 경우의 수 구하기\n",
    "              입력 첫번째줄: 정수 N 입력(0 <= N <= 23)"
   ]
  },
  {
   "cell_type": "code",
   "execution_count": 7,
   "id": "logical-manchester",
   "metadata": {},
   "outputs": [
    {
     "name": "stdout",
     "output_type": "stream",
     "text": [
      "5\n",
      "R R R U D D\n",
      "[3, 4]\n"
     ]
    }
   ],
   "source": [
    "#상하좌우 - 시뮬레이션\n",
    "N = int(input())\n",
    "\n",
    "move_list = input().split()\n",
    "pos_list = [1, 1]\n",
    "\n",
    "for i in range(len(move_list)):\n",
    "    if move_list[i] == 'L':\n",
    "        if(pos_list[1] - 1 >= 1):\n",
    "            pos_list[1] -= 1\n",
    "            \n",
    "    elif move_list[i] == 'R':\n",
    "        if(pos_list[1] + 1 <= N):\n",
    "            pos_list[1] += 1\n",
    "            \n",
    "    elif move_list[i] == 'U':\n",
    "        if(pos_list[0] - 1 >= 1):\n",
    "            pos_list[0] -= 1\n",
    "            \n",
    "    elif move_list[i] == 'D':\n",
    "        if(pos_list[0] + 1 <= N):\n",
    "            pos_list[0] += 1\n",
    "\n",
    "print(pos_list)"
   ]
  },
  {
   "cell_type": "code",
   "execution_count": 8,
   "id": "rough-variance",
   "metadata": {},
   "outputs": [
    {
     "name": "stdout",
     "output_type": "stream",
     "text": [
      "5\n",
      "R R R U D D\n",
      "3 4\n"
     ]
    }
   ],
   "source": [
    "#(1)상하좌우 - 예시 답안\n",
    "n = int(input())\n",
    "x, y = 1, 1\n",
    "plans = input().split()\n",
    "\n",
    "# L, R, U, D에 따른 이동방향\n",
    "dx = [0, 0, -1, 1]\n",
    "dy = [-1, 1, 0, 0]\n",
    "move_types = ['L', 'R', 'U', 'D']\n",
    "\n",
    "for plan in plans:\n",
    "    for i in range(len(move_types)):\n",
    "        if plan == move_types[i]:\n",
    "            nx = x + dx[i]\n",
    "            ny = y + dy[i]\n",
    "    if nx < 1 or ny < 1 or nx > n or ny > n:\n",
    "        continue\n",
    "    x, y = nx, ny\n",
    "\n",
    "print(x, y)"
   ]
  },
  {
   "cell_type": "code",
   "execution_count": 23,
   "id": "coupled-convergence",
   "metadata": {},
   "outputs": [
    {
     "name": "stdout",
     "output_type": "stream",
     "text": [
      "5\n",
      "11475\n"
     ]
    }
   ],
   "source": [
    "#(2)\n",
    "\n",
    "N = int(input())\n",
    "\n",
    "a = 15 * 60 + 45 * 15\n",
    "b = 60 * 60\n",
    "result = 0\n",
    "\n",
    "if(N >= 23):\n",
    "    result = (N - 2) * a + 3 * b\n",
    "elif(N >= 13):\n",
    "    result = (N-1)*a + 2 * b\n",
    "elif(N >= 3):\n",
    "    result = N* a + b\n",
    "else:\n",
    "    result = N * a\n",
    "\n",
    "print(result)"
   ]
  },
  {
   "cell_type": "code",
   "execution_count": null,
   "id": "leading-vertex",
   "metadata": {},
   "outputs": [],
   "source": []
  }
 ],
 "metadata": {
  "kernelspec": {
   "display_name": "Python 3",
   "language": "python",
   "name": "python3"
  },
  "language_info": {
   "codemirror_mode": {
    "name": "ipython",
    "version": 3
   },
   "file_extension": ".py",
   "mimetype": "text/x-python",
   "name": "python",
   "nbconvert_exporter": "python",
   "pygments_lexer": "ipython3",
   "version": "3.6.9"
  }
 },
 "nbformat": 4,
 "nbformat_minor": 5
}
