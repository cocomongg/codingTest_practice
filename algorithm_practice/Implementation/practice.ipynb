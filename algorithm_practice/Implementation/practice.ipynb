{
 "cells": [
  {
   "cell_type": "markdown",
   "id": "saved-expense",
   "metadata": {},
   "source": [
    "# Implementation\n",
    "- 풀이를 떠올리는 것은 쉽지만 소스코드로 옮기기 어려운 문제의 유형\n",
    "- 완전탐색, 시뮬레이션\n",
    "- 시간제한\n",
    "  - 시간제한 1초, 데이터 개수 100만개, 일반적인 시간 복잡도는 O(NlogN)\n",
    "  - 1초에 2000만번의 연산을 수행한다고 가정하고 문제를 풀면 실행 시간 제한에 안정적\n",
    "  \n",
    "- 구현 알고리즘의 대표적인 예시\n",
    "  - (1) 상하좌우 - N x N 정사각형에서 (1,1)이 시작점(가장 왼쪽 위 점), 가장 오른쪽 아래점(N,N), 이동 계획서가 주어짐\n",
    "               이동계획서: L(좌)R(우)U(상)D(하)로 이동, 정사각형을 벗어나는 이동계획은 무시\n",
    "               입력 첫번째줄: 지도 크기N, \n",
    "                   두번째줄: 이동계획서<br/>\n",
    "                   \n",
    "  - (2) 시각 - 정수 N이 입력되면 00시 00분 00초부터 N시 59분 59초까지의 모든 시각중에서 3이 하나라도 포함되는 모든 경우의 수 구하기\n",
    "              입력 첫번째줄: 정수 N 입력(0 <= N <= 23)"
   ]
  },
  {
   "cell_type": "code",
   "execution_count": 7,
   "id": "retained-minister",
   "metadata": {},
   "outputs": [
    {
     "name": "stdout",
     "output_type": "stream",
     "text": [
      "5\n",
      "R R R U D D\n",
      "[3, 4]\n"
     ]
    }
   ],
   "source": [
    "#상하좌우 - 시뮬레이션\n",
    "N = int(input())\n",
    "\n",
    "move_list = input().split()\n",
    "pos_list = [1, 1]\n",
    "\n",
    "for i in range(len(move_list)):\n",
    "    if move_list[i] == 'L':\n",
    "        if(pos_list[1] - 1 >= 1):\n",
    "            pos_list[1] -= 1\n",
    "            \n",
    "    elif move_list[i] == 'R':\n",
    "        if(pos_list[1] + 1 <= N):\n",
    "            pos_list[1] += 1\n",
    "            \n",
    "    elif move_list[i] == 'U':\n",
    "        if(pos_list[0] - 1 >= 1):\n",
    "            pos_list[0] -= 1\n",
    "            \n",
    "    elif move_list[i] == 'D':\n",
    "        if(pos_list[0] + 1 <= N):\n",
    "            pos_list[0] += 1\n",
    "\n",
    "print(pos_list)"
   ]
  },
  {
   "cell_type": "code",
   "execution_count": 8,
   "id": "restricted-roman",
   "metadata": {},
   "outputs": [
    {
     "name": "stdout",
     "output_type": "stream",
     "text": [
      "5\n",
      "R R R U D D\n",
      "3 4\n"
     ]
    }
   ],
   "source": [
    "#(1)상하좌우 - 예시 답안\n",
    "n = int(input())\n",
    "x, y = 1, 1\n",
    "plans = input().split()\n",
    "\n",
    "# L, R, U, D에 따른 이동방향\n",
    "dx = [0, 0, -1, 1]\n",
    "dy = [-1, 1, 0, 0]\n",
    "move_types = ['L', 'R', 'U', 'D']\n",
    "\n",
    "for plan in plans:\n",
    "    for i in range(len(move_types)):\n",
    "        if plan == move_types[i]:\n",
    "            nx = x + dx[i]\n",
    "            ny = y + dy[i]\n",
    "    if nx < 1 or ny < 1 or nx > n or ny > n:\n",
    "        continue\n",
    "    x, y = nx, ny\n",
    "\n",
    "print(x, y)"
   ]
  },
  {
   "cell_type": "code",
   "execution_count": 23,
   "id": "united-laugh",
   "metadata": {},
   "outputs": [
    {
     "name": "stdout",
     "output_type": "stream",
     "text": [
      "5\n",
      "11475\n"
     ]
    }
   ],
   "source": [
    "#(2) 시각\n",
    "\n",
    "N = int(input())\n",
    "\n",
    "a = 15 * 60 + 45 * 15\n",
    "b = 60 * 60\n",
    "result = 0\n",
    "\n",
    "if(N >= 23):\n",
    "    result = (N - 2) * a + 3 * b\n",
    "elif(N >= 13):\n",
    "    result = (N-1)*a + 2 * b\n",
    "elif(N >= 3):\n",
    "    result = N* a + b\n",
    "else:\n",
    "    result = N * a\n",
    "\n",
    "print(result)"
   ]
  },
  {
   "cell_type": "markdown",
   "id": "historical-wildlife",
   "metadata": {},
   "source": [
    "## 실전문제 1. 왕실의 나이트 *"
   ]
  },
  {
   "cell_type": "code",
   "execution_count": 47,
   "id": "respiratory-biodiversity",
   "metadata": {},
   "outputs": [
    {
     "name": "stdout",
     "output_type": "stream",
     "text": [
      "c2\n",
      "6\n"
     ]
    }
   ],
   "source": [
    "input_data = input()\n",
    "\n",
    "#row, col => string to int\n",
    "row = int(input_data[1])\n",
    "col = int(ord(input_data[0])) - int(ord('a')) + 1 # ord() -> 특정 문자를 해당 아스키 코드로 변환\n",
    "\n",
    "steps = [(-2, -1), (-2, 1), (2, -1), (2, 1), (-1, 2), (1, 2), (-1, -2), (-1, -2)]\n",
    "result = 0\n",
    "\n",
    "for step in steps:\n",
    "    next_row = row + step[0]\n",
    "    next_col = col + step[1]\n",
    "    \n",
    "    if next_row >= 1 and next_row <=8 and next_col >=1 and next_col <=8:\n",
    "        result += 1\n",
    "        \n",
    "print(result)"
   ]
  },
  {
   "cell_type": "markdown",
   "id": "legendary-paintball",
   "metadata": {},
   "source": [
    "## 실전문제 2. 게임개발"
   ]
  },
  {
   "cell_type": "code",
   "execution_count": 72,
   "id": "cheap-default",
   "metadata": {},
   "outputs": [
    {
     "name": "stdout",
     "output_type": "stream",
     "text": [
      "4 4\n",
      "1 1 0\n",
      "1 1 1 1\n",
      "1 0 0 1\n",
      "1 1 0 1\n",
      "1 1 1 1\n",
      "3\n"
     ]
    }
   ],
   "source": [
    "n, m = map(int, input().split())\n",
    "A, B, d = map(int, input().split())\n",
    "\n",
    "_map = []\n",
    "for i in range(n):\n",
    "    _map.append(list(map(int, input().split())))\n",
    "\n",
    "\n",
    "# d = 0, 1, 2, 3, 현재 방향에서 회전해야할 다음 방향을 리스트로 저장\n",
    "direction = [3, 0, 1, 2]\n",
    "# (A, B), 방향에 따른 x, y좌표의 변화값을 리스트로 저장\n",
    "states = [(-1, 0), (0, 1), (1, 0), (0, -1)]\n",
    "\n",
    "count = 0 # 제자리에서 4번 회전하는것을 세기 위한 변수\n",
    "\n",
    "result = 0\n",
    "\n",
    "while(True):\n",
    "    if count == 4: #네 방향이 모두 막혀 있을 때\n",
    "        count = 0\n",
    "        A -= states[next_d][0] # 현재 방향에서 한 칸 빼기\n",
    "        B -= states[next_d][1]\n",
    "        \n",
    "        if _map[A][B] == 1: # 뒤로 갈려는 칸이 바다면 중단\n",
    "            break\n",
    "    \n",
    "    else:\n",
    "        next_d = direction[d]\n",
    "        A += states[next_d][0]\n",
    "        B += states[next_d][1]\n",
    "        \n",
    "        if A >= n or B >= m: # 맵을 벗어나지 않는지 체크\n",
    "            count += 1\n",
    "            A -= states[next_d][0]\n",
    "            B -= states[next_d][1]\n",
    "            d = next_d\n",
    "            continue\n",
    "        \n",
    "        else: \n",
    "            if _map[A][B] == 1 or _map[A][B] == -1: #가려는 칸이 바다이거나, 이미 방문한 칸일 때\n",
    "                count += 1\n",
    "                d = next_d\n",
    "            else:\n",
    "                d = next_d\n",
    "                _map[A][B] = -1 #방문한 칸은 지도에서 -1로 표시해줌\n",
    "                result += 1\n",
    "    \n",
    "    \n",
    "print(result)"
   ]
  }
 ],
 "metadata": {
  "kernelspec": {
   "display_name": "Python 3",
   "language": "python",
   "name": "python3"
  },
  "language_info": {
   "codemirror_mode": {
    "name": "ipython",
    "version": 3
   },
   "file_extension": ".py",
   "mimetype": "text/x-python",
   "name": "python",
   "nbconvert_exporter": "python",
   "pygments_lexer": "ipython3",
   "version": "3.6.9"
  }
 },
 "nbformat": 4,
 "nbformat_minor": 5
}
