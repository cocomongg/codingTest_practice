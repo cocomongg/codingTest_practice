{
 "cells": [
  {
   "cell_type": "markdown",
   "id": "initial-reggae",
   "metadata": {},
   "source": [
    "## 정렬: 데이터를 특정한 기준에 따라서 순서대로 나열"
   ]
  },
  {
   "cell_type": "markdown",
   "id": "killing-lover",
   "metadata": {},
   "source": [
    "### 1. 선택 정렬: \n",
    "- 가장 작은 데이터를 선택해 맨 앞에 있는 데이터와 바꾸고, 그 다음 작은 데이터를 선택해 앞에서 두 번째 데이터와 바꾸는 과정을 반복(시간복잡도: O(N^2))<br/>\n",
    "=> 가장 원시적인 방법으로 매번 '가장 작은 것을 선택'한다는 의미"
   ]
  },
  {
   "cell_type": "code",
   "execution_count": 2,
   "id": "confidential-substitute",
   "metadata": {},
   "outputs": [
    {
     "name": "stdout",
     "output_type": "stream",
     "text": [
      "[0, 1, 2, 3, 4, 5, 6, 7, 8, 9]\n"
     ]
    }
   ],
   "source": [
    "# 6-1.py 선택 정렬 소스코드\n",
    "array = [7, 5, 9, 0, 3, 1, 6, 2, 4, 8]\n",
    "\n",
    "for i in range(len(array)):\n",
    "    min_index = i # 가장 작은 원소의 인덱스\n",
    "    for j in range(i + 1, len(array)):\n",
    "        if array[min_index] > array[j]:\n",
    "            min_index = j\n",
    "    array[i], array[min_index] = array[min_index], array[i] #swap\n",
    "\n",
    "print(array)"
   ]
  },
  {
   "cell_type": "markdown",
   "id": "falling-vancouver",
   "metadata": {},
   "source": [
    "### 2. 삽입 정렬:\n",
    "- 특정한 데이터를 적절한 위치에 '삽입', 특정한 데이터가 적절한 위치에 들어가기 이전에, 그 앞까지의 데이터는 이미 정렬되어 있다고 가정(시간복잡도: O(N^2))<br/>\n",
    "=> 현재 리스트의 데이터가 거의 정렬되어 있는 상태라면 매우 빠르게 동작, 최선의 경우 O(N)의 시간복잡도를 가짐"
   ]
  },
  {
   "cell_type": "code",
   "execution_count": 3,
   "id": "natural-tomato",
   "metadata": {},
   "outputs": [
    {
     "name": "stdout",
     "output_type": "stream",
     "text": [
      "[0, 1, 2, 3, 4, 5, 6, 7, 8, 9]\n"
     ]
    }
   ],
   "source": [
    "# 6-3.py 삽입 정렬 소스코드\n",
    "array = [7, 5, 9, 0, 3, 1, 6, 2, 4, 8]\n",
    "\n",
    "for i in range (1, len(array)):\n",
    "    for j in range(i, 0, -1): #인덱스 i부터 1까지 감소하며 반복하는 문법\n",
    "        if array[j] < array[j-1]:\n",
    "            array[j], array[j-1] = array[j-1], array[j]\n",
    "        else:\n",
    "            break\n",
    "\n",
    "print(array)"
   ]
  },
  {
   "cell_type": "markdown",
   "id": "constant-penetration",
   "metadata": {},
   "source": [
    "### 3.퀵 정렬: \n",
    "- 기준을 설정한 다음 큰 수와 작은 수를 교환한 후 리스트를 반으로 나누는 방식으로 동작(시간복잡도: O(NlogN))\n",
    "- 피벗(pivot): 큰 수와 작은 수를 교환할 때, 교환하기 위한 '기준'\n",
    "- 가장 대표적인 분할 방식: 호어 분할 => 리스트에서 첫 번째 데이터를 피벗으로 정한다.<br/>\n",
    "=> 최악의 경우 (이미 데이터가 정렬되어 있는 경우) 에는 시간복잡도 O(N^2)"
   ]
  },
  {
   "cell_type": "code",
   "execution_count": 6,
   "id": "egyptian-aging",
   "metadata": {},
   "outputs": [
    {
     "name": "stdout",
     "output_type": "stream",
     "text": [
      "[0, 1, 2, 3, 4, 5, 6, 7, 8, 9]\n"
     ]
    }
   ],
   "source": [
    "# 6-4.py 퀵 정렬 소스코드\n",
    "array = [5, 7, 9, 0, 3, 1, 6, 2, 4, 8]\n",
    "\n",
    "def quick_sort(array, start, end):\n",
    "    if start >= end: #원소가 1개인 경우 종료\n",
    "        return\n",
    "    pivot = start # 피벗은 첫 번째 원소\n",
    "    left = start + 1\n",
    "    right = end\n",
    "    \n",
    "    while left <= right:\n",
    "        #피벗보다 큰 데이터를 찾을 때까지 반복\n",
    "        while left <= end and array[left] <= array[pivot]:\n",
    "            left += 1\n",
    "        # 피벗보다 작은 데이터를 찾을 때까지 반복\n",
    "        while right > start and array[right] >= array[pivot]:\n",
    "            right -= 1\n",
    "        if left > right: #엇갈렸다면 작은 데이터와 피벗을 교체\n",
    "            array[right], array[pivot] = array[pivot], array[right]\n",
    "        else: # 엇갈리지 않았다면 작은 데이터와 큰 데이터를 교체\n",
    "            array[left], array[right] = array[right], array[left]\n",
    "    #분할 이후 왼쪽 부분과 오른쪽 부분에서 각각 정렬 수행\n",
    "    quick_sort(array, start, right-1)\n",
    "    quick_sort(array, right+1, end)\n",
    "\n",
    "quick_sort(array, 0, len(array)-1)\n",
    "print(array)\n",
    "        "
   ]
  },
  {
   "cell_type": "code",
   "execution_count": 8,
   "id": "approximate-weather",
   "metadata": {},
   "outputs": [
    {
     "name": "stdout",
     "output_type": "stream",
     "text": [
      "[0, 1, 2, 3, 4, 5, 6, 7, 8, 9]\n"
     ]
    }
   ],
   "source": [
    "# 6-5.py 파이썬의 장점을 살린 퀵 정렬 소스코드\n",
    "array = [5, 7, 9, 0, 3, 1, 6, 2, 4, 8]\n",
    "\n",
    "def quick_sort(array):\n",
    "    if len(array) <= 1: #리스트가 하나 이하의 원소만 가지고 있으면 종료\n",
    "        return array\n",
    "    \n",
    "    pivot = array[0] #피벗은 첫 번째 원소\n",
    "    tail = array[1:] #피벗을 제외한 리스트\n",
    "    \n",
    "    left_side = [x for x in tail if x <= pivot] #분할된 왼쪽 부분\n",
    "    right_side = [x for x in tail if x > pivot] #분할된 오른쪽 부분\n",
    "    \n",
    "    # 분할 이후 왼쪽 부분과 오른쪽 부분에서 각각 정렬을 수행하고, 전체 리스트를 반환\n",
    "    return quick_sort(left_side) + [pivot] + quick_sort(right_side)\n",
    "\n",
    "print(quick_sort(array))"
   ]
  },
  {
   "cell_type": "code",
   "execution_count": null,
   "id": "limiting-settle",
   "metadata": {},
   "outputs": [],
   "source": []
  }
 ],
 "metadata": {
  "kernelspec": {
   "display_name": "Python 3",
   "language": "python",
   "name": "python3"
  },
  "language_info": {
   "codemirror_mode": {
    "name": "ipython",
    "version": 3
   },
   "file_extension": ".py",
   "mimetype": "text/x-python",
   "name": "python",
   "nbconvert_exporter": "python",
   "pygments_lexer": "ipython3",
   "version": "3.6.9"
  }
 },
 "nbformat": 4,
 "nbformat_minor": 5
}
